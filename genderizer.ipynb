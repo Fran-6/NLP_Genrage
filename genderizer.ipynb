{
 "cells": [
  {
   "cell_type": "markdown",
   "metadata": {},
   "source": [
    "### Genderizer\n",
    "Classificateur de genre : Utilisé dans le contexte de l'analyse linguistique ou du traitement automatique des langues.\n",
    "Utiliser Pytorch\n",
    "\n",
    "\n",
    "Feuille de route:\n",
    "- faire un état de l'art rapide sur le web\n",
    "    - Nooj\n",
    "    - HuggingFace\n",
    "- choisir un dictionaire gratuit open source > Dictionnaire de l’Académie française de 1932-35 (8e édition) - GLP3\n",
    "- créer une base de données de noms communs étiquetés par genre\n",
    "- faire une analyse des données"
   ]
  },
  {
   "cell_type": "code",
   "execution_count": 19,
   "metadata": {},
   "outputs": [],
   "source": [
    "import os\n",
    "from bs4 import BeautifulSoup\n",
    "import sqlite3\n",
    "import pandas as pd\n",
    "import urllib.request\n",
    "import re\n",
    "from IPython.display import display, HTML"
   ]
  },
  {
   "cell_type": "code",
   "execution_count": 11,
   "metadata": {},
   "outputs": [
    {
     "name": "stdout",
     "output_type": "stream",
     "text": [
      "Download complete.\n"
     ]
    }
   ],
   "source": [
    "# importer la source au format Mobipocket\n",
    "url = \"https://www.ebooksgratuits.com/newsendbook.php?id=1609&format=mp\"\n",
    "urllib.request.urlretrieve(url, \"aca.prc\")\n",
    "\n",
    "print(\"Download complete.\")"
   ]
  },
  {
   "cell_type": "code",
   "execution_count": 8,
   "metadata": {
    "vscode": {
     "languageId": "shellscript"
    }
   },
   "outputs": [
    {
     "name": "stdout",
     "output_type": "stream",
     "text": [
      "Requirement already satisfied: mobi in /usr/local/python/3.12.1/lib/python3.12/site-packages (0.3.3)\n",
      "Requirement already satisfied: loguru<0.7,>=0.6 in /usr/local/python/3.12.1/lib/python3.12/site-packages (from mobi) (0.6.0)\n",
      "Note: you may need to restart the kernel to use updated packages.\n"
     ]
    }
   ],
   "source": [
    "pip install mobi"
   ]
  },
  {
   "cell_type": "code",
   "execution_count": 2,
   "metadata": {},
   "outputs": [
    {
     "name": "stdout",
     "output_type": "stream",
     "text": [
      "KindleUnpack v0.82\n",
      "   Based on initial mobipocket version Copyright © 2009 Charles M. Hannum <root@ihack.net>\n",
      "   Extensive Extensions and Improvements Copyright © 2009-2014 \n",
      "       by:  P. Durrant, K. Hendricks, S. Siebert, fandrieu, DiapDealer, nickredding, tkeo.\n",
      "   This program is free software: you can redistribute it and/or modify\n",
      "   it under the terms of the GNU General Public License as published by\n",
      "   the Free Software Foundation, version 3.\n",
      "Unpacking Book...\n",
      "Completed\n"
     ]
    }
   ],
   "source": [
    "!mobiunpack -r aca.prc ./\n"
   ]
  },
  {
   "cell_type": "raw",
   "metadata": {
    "vscode": {
     "languageId": "raw"
    }
   },
   "source": [
    "\n",
    "mobi7\n",
    "├── book.html\n",
    "├── content.opf\n",
    "├── dictionnaire_academie_francaise_1932-35_8e_edition.rawml\n",
    "├── Images\n",
    "│   └── image04501.jpeg\n",
    "└── toc.ncx"
   ]
  },
  {
   "cell_type": "code",
   "execution_count": 14,
   "metadata": {},
   "outputs": [],
   "source": [
    "# prend environ 5 minutes\n",
    "\n",
    "# Read the HTML content from the file\n",
    "with open('./mobi7/book.html', 'r', encoding='utf-8') as file:\n",
    "    html_content = file.read()\n",
    "\n",
    "# Define the regular expression patterns to match <idx:orth> and <idx:entry> tags\n",
    "pattern_orth = re.compile(r'<idx:orth value=\"[^\"]*\">')\n",
    "# pattern_entry = re.compile(r'<idx:entry>.*?</idx:entry>', re.DOTALL)\n",
    "pattern_entry = re.compile(r'</idx:entry>.*?<mbp:pagebreak/>', re.DOTALL)\n",
    "\n",
    "# Find all matches for <idx:orth> and <idx:entry> tags\n",
    "orth_matches = pattern_orth.findall(html_content)\n",
    "entry_matches = pattern_entry.findall(html_content)\n"
   ]
  },
  {
   "cell_type": "code",
   "execution_count": 15,
   "metadata": {},
   "outputs": [
    {
     "name": "stdout",
     "output_type": "stream",
     "text": [
      "Number of <idx:orth> tags: 31933\n",
      "Number of <idx:entry> tags: 31933\n"
     ]
    }
   ],
   "source": [
    "\n",
    "print(\"Number of <idx:orth> tags:\", len(orth_matches))\n",
    "print(\"Number of <idx:entry> tags:\", len(entry_matches))"
   ]
  },
  {
   "cell_type": "code",
   "execution_count": 16,
   "metadata": {},
   "outputs": [
    {
     "name": "stdout",
     "output_type": "stream",
     "text": [
      "Extracted <idx:orth> tags:\n",
      "<idx:orth value=\"ZOUAVE\">\n",
      "<idx:orth value=\"ZUT\">\n",
      "<idx:orth value=\"ZYGOMA\">\n",
      "<idx:orth value=\"ZYGOMATIQUE\">\n",
      "\n",
      "Extracted <idx:entry> tags:\n",
      "</idx:entry>\n",
      "<h2><font size=\"+2\" color=\"BLUE\"><b>ZOUAVE</b></font></h2><br/> <font color=\"green\">n. m.</font><br/>Soldat d'un corps d'infanterie servant pour la plus grande partie en Afrique du Nord. <p> <i>Zouaves pontificaux,</i> Corps de volontaires constitué en 1860 par le général de Lamoricière pour la défense des États pontificaux. <mbp:pagebreak/>\n",
      "</idx:entry>\n",
      "<h2><font size=\"+2\" color=\"BLUE\"><b>ZUT</b></font></h2><br/> <font color=\"green\">interj.</font><br/>Exclamation familière pour exprimer l'impatience, le dépit, pour envoyer les gens au diable et signifier qu'on ne veut plus rien entendre. <mbp:pagebreak/>\n",
      "</idx:entry>\n",
      "<h2><font size=\"+2\" color=\"BLUE\"><b>ZYGOMA</b></font></h2><br/> <font color=\"green\">n. m.</font><br/><dom>T. d'Anatomie</dom><br/>Os de la pommette de la joue. <mbp:pagebreak/>\n",
      "</idx:entry>\n",
      "<h2><font size=\"+2\" color=\"BLUE\"><b>ZYGOMATIQUE </b></font></h2><br/> <font color=\"green\">adj. des deux genres.</font><br/><dom>T. d'Anatomie.</dom><br/>Qui appartient au zygoma. <i>Arcade zygomatique,</i> Arcade osseuse formée, au bas de la tempe, par l'os de la pommette et le temporal.<p> <i>Muscle zygomatique,</i> Chacun des deux muscles qui tirent les coins de la bouche vers les oreilles et qui agissent principalement dans l'action du rire. <mbp:pagebreak/>\n"
     ]
    }
   ],
   "source": [
    "\n",
    "# Print the last extracted tags\n",
    "print(\"Extracted <idx:orth> tags:\")\n",
    "for tag in orth_matches[-4:]:\n",
    "    print(tag)\n",
    "\n",
    "print(\"\\nExtracted <idx:entry> tags:\")\n",
    "for tag in entry_matches[-4:]:\n",
    "    print(tag)"
   ]
  },
  {
   "cell_type": "code",
   "execution_count": 18,
   "metadata": {},
   "outputs": [
    {
     "name": "stdout",
     "output_type": "stream",
     "text": [
      "Dictionary has been saved to acad_pocket.db\n"
     ]
    }
   ],
   "source": [
    "import os\n",
    "import sqlite3\n",
    "\n",
    "db_file = \"acad_pocket.db\"         # SQLite database file\n",
    "\n",
    "\n",
    "\n",
    "# === STEP 2: INITIALIZE SQLITE DATABASE ===\n",
    "conn = sqlite3.connect(db_file)\n",
    "cursor = conn.cursor()\n",
    "\n",
    "# Create a table for words and definitions\n",
    "cursor.execute(\"\"\"\n",
    "    CREATE TABLE IF NOT EXISTS dictionary (\n",
    "        id INTEGER PRIMARY KEY AUTOINCREMENT,\n",
    "        word TEXT,\n",
    "        definition TEXT\n",
    "    )\n",
    "\"\"\")\n",
    "\n",
    "\n",
    "# Insert words and definitions into the database\n",
    "for word, definition in zip(orth_matches, entry_matches):\n",
    "\n",
    "    word = re.search(r'value=\"([^\"]*)\"', word).group(1)\n",
    "    definition = definition.replace('</idx:entry>', '').replace('<mbp:pagebreak/>', '')\n",
    "    \n",
    "    try:\n",
    "        cursor.execute(\"INSERT INTO dictionary (word, definition) VALUES (?, ?)\", (word, definition))\n",
    "        \n",
    "    except sqlite3.IntegrityError:\n",
    "        pass  # Ignore duplicate words\n",
    "\n",
    "# === STEP 4: FINALIZE ===\n",
    "conn.commit()\n",
    "conn.close()\n",
    "\n",
    "print(f\"Dictionary has been saved to {db_file}\")"
   ]
  },
  {
   "cell_type": "code",
   "execution_count": 20,
   "metadata": {},
   "outputs": [
    {
     "name": "stdout",
     "output_type": "stream",
     "text": [
      "      id  word                                         definition\n",
      "0  30201  TOUR  \\n<h2><font size=\"+2\" color=\"BLUE\"><b>TOUR</b>...\n",
      "1  30202  TOUR  \\n<h2><font size=\"+2\" color=\"BLUE\"><b>TOUR</b>...\n"
     ]
    },
    {
     "data": {
      "text/html": [
       "\n",
       "<h2><font size=\"+2\" color=\"BLUE\"><b>TOUR</b></font></h2><br/> <font color=\"green\">n. f.</font><br/>Sorte de bâtiment élevé, rond, carré ou polygonal, dont on fortifiait jadis l'enceinte des villes, des châteaux, etc., ou qui sert de clocher, de phare, etc. <i>Haute tour. Tour ronde. Tour carrée. Tour crénelée. Monter dans une tour, sur une tour. Du haut de la tour. Au pied de la tour. Une muraille flanquée de tours. Les créneaux d'une tour. La tour de Babel. La tour de Londres. La tour de Cordouan, qui sert de phare à l'embouchure de la Gironde. Les tours de Notre-Dame. La Tour de l'Horloge.</i> <p> Fig. et fam., <i>Tour de Babel,</i> Lieu où tout le monde parle à la fois et sans s'entendre. <i>Cette assemblée est une vraie tour de Babel.</i> <p> TOUR se dit aussi de Machines de guerre que les anciens attachaient sur le dos des éléphants de combat et dans lesquelles ils plaçaient ordinairement des archers. <p> En termes de jeu d'Échecs, il se dit d'une Pièce qu'on place à l'angle de l'échiquier et qui a la forme d'une tour crénelée. <i>Donner échec et mat avec la tour.</i> "
      ],
      "text/plain": [
       "<IPython.core.display.HTML object>"
      ]
     },
     "metadata": {},
     "output_type": "display_data"
    },
    {
     "data": {
      "text/html": [
       "\n",
       "<h2><font size=\"+2\" color=\"BLUE\"><b>TOUR</b></font></h2><br/> <font color=\"green\">n. m.</font><br/>Mouvement circulaire, mouvement de rotation. <i>Tour de roue. Faire un tour sur soi-même.</i> <p> Fam., <i>À tour de bras,</i> De toute la force du bras. Il signifie figurément En déployant toute sa force. <i>Tomber sur quelqu'un à tour de bras.</i> <p> Fam. et par exagération, <i>En un tour de main,</i> En aussi peu de temps qu'il en faut pour tourner la main. <i>Il change d'avis en un tour de main. Cela a été fait en un tour de main.</i> <p> <i>Tour de reins,</i> Foulure de reins causée par quelque effort. <i>Avoir un tour de reins. Il s'est donné un tour de reins.</i> <p> <i>Tour de broche,</i> Révolution que fait la broche à rôtir, en tournant sur elle-même. <i>Ce chapon aurait eu besoin d'un tour de broche de plus.</i> <p> <i>Un tour, deux tours de clef,</i> Action de tourner une fois, deux fois la clef dans la serrure. <i>Il ferma la porte à double tour.</i> <p> Fig. et fam., <i>Tour de bâton,</i> Profit secret, illicite ou abusif qu'un homme tire de l'emploi, du poste qu'il occupe. <i>Son emploi lui vaut tant par an, sans les tours de bâton.</i> On dit aussi <i>Retour de bâton.</i> <p> <i>Demi-tour,</i> Demi-révolution qu'un homme fait en tournant sur ses talons. <i>Il fit demi-tour à droite.</i> <p> Fig. et fam., <i>Faire demi-tour,</i> Se retirer. <i>Je l'ai obligé à faire demi-tour.</i> <p> TOUR se dit, par extension, de Mouvements d'allée et venue, de parcours faits dans un endroit donné. <i>Faire un tour dans le jardin. Il était allé faire un tour à la campagne. Il alla faire un tour à Paris. Il fit un tour à la fête. Faites un tour jusque-là.</i> <p> <i>Il est allé faire un tour de promenade,</i> Il est allé se promener. <i>Il est allé faire un tour,</i> Il est sorti pour revenir bientôt. On dit dans le même sens : <i>Il est allé faire un tour en ville, un tour dans son pays.</i> <p> TOUR se dit aussi en parlant de Certaines choses qui vont en serpentant et qui reviennent sur elles-mêmes. <i>Cette rivière fait plusieurs tours et retours. Les tours et les retours d'un labyrinthe.</i> <p> Il se dit encore de la Circonférence d'un corps. <i>La terre a quarante mille kilomètres de tour. Cette colonne a six mètres de tour à sa partie inférieure.</i> <p> Il se dit, par extension, du Circuit d'une chose. <i>Le tour de la ville. Le tour du jardin. Cette ville a une lieue de tour. Cet arbre a huit mètres de tour.</i> <p> <i>Faire le tour de,</i> Parcourir toute la circonférence, le circuit de. <i>Faire le tour du monde. Faire le tour d'un jardin, d'un bois.</i> Il signifie aussi S'étendre autour. <i>L'enceinte fait tout le tour de la ville. Ce bracelet fait plusieurs tours autour du bras.</i> <p> Fam., <i>Faire son tour de France, d'Europe,</i> Parcourir la France, l'Europe. Il s'est dit surtout des Artisans qui voyageaient pour travailler de leur état dans différentes villes. <p> Fig. et fam., <i>Faire le tour du cadran,</i> Dormir douze heures de suite. <p> <i>Tour de taille,</i> Mesure de la ceinture. <p> <i>Tour de tête,</i> Mesure de la tête pour la coiffure. <p> <i>Tour de ville,</i> Sorte de boulevard, de promenade qui fait le tour d'une ville. <p> En termes de jeux de Cartes, <i>Jouer un tour, faire un tour,</i> Jouer un certain nombre de coups en sorte que tous les joueurs successivement aient une fois la main. <p> TOUR se dit également de Différentes choses dont on se sert, soit pour l'habillement, soit pour la parure, et qui sont mises en rond. <i>Un tour de cou. Un tour de cheveux.</i> <p> Il signifie encore Rang successif, alternatif. <i>Ce n'est pas votre tour. Vous avez laissé passer votre tour de parole. Je parlerai à mon tour. Son tour viendra. Céder son tour. Vous n'en êtes pas quitte, vous aurez votre tour. Chacun son tour.</i> <p> <i>À tour de rôle.</i> Voyez <renv>RÔLE</renv>. <p> <i>Tour de faveur</i> se dit de Toute chose qu'on fait passer avant son tour. <i>Il a obtenu, pour sa pièce, pour son article, un tour de faveur.</i> <p> TOUR se dit aussi d'une Action qui exige la promptitude, la subtilité et l'adresse de la main, ou la souplesse, l'agilité, la force du corps. <i>Tour de bateleur. Tour de passe-passe. Il sait faire des tours de cartes, des tours de main. Ce sauteur fait des tours de force extraordinaires.</i> <p> Fig., <i>Tour de force,</i> Action qui exige beaucoup de force. <i>En portant ce fardeau jusque-là, vous avez fait un tour de force.</i> On le dit également au sens moral. <i>Si vous terminez cette affaire</i> <i>aujourd'hui, vous ferez un tour de force. Une si longue improvisation est un tour de force. C'est un tour de force.</i> </p><p> Fig. et fam., <i>Avoir le tour de main,</i> Avoir la manière de faire, l'habileté, la pratique. <p> TOUR signifie figurément et familièrement, Trait d'habileté, ruse, finesse, manière d'agir adroite et ordinairement malintentionnée. <i>Il lui a joué un tour. Faire un tour, des tours à quelqu'un. Je lui revaudrai ce tour-là. Voilà un bon tour.</i> <p> Fam., <i>Le tour est joué,</i> La ruse a réussi. <p> Fig., <i>Cela vous jouera un mauvais tour</i> se dit à quelqu'un pour l'avertir qu'une chose lui sera dangereuse ou préjudiciable. <p> TOUR, en parlant d'une Affaire, se dit de la Manière dont on la fait voir, dont elle se présente, dont elle marche. <i>Il donne le tour qu'il lui plaît aux affaires. Il donne un certain tour aux choses. Il a donné un bon tour à cela. Le succès dépend du tour que le rapporteur donnera à votre affaire. Cette affaire prend un bon, un mauvais tour.</i> <p> Il désigne encore la Manière dont on exprime ses pensées et dont on arrange ses termes, soit en parlant, soit en écrivant. <i>Il y a un tour oratoire dans tout ce qu'il écrit. Il donne un tour agréable à tout ce qu'il dit. Ces vers ont un tour, sont d'un tour naturel. Tour figuré. Tour hardi. La pensée n'est pas neuve, mais le tour est nouveau. Ce tour de phrase est obscur, singulier, heureux.</i> <p> <i>Cet homme a un tour d'esprit agréable,</i> Il présente les choses sous une forme agréable. On dit aussi : <i>Un tour d'esprit original.</i> <p> TOUR se dit en outre d'une Machine dont on se sert pour façonner en rond le bois, l'ivoire, les métaux, l'argile, etc. <i>Tour de potier. Cela est fait au tour.</i> <p> Fig. et fam., <i>Cette femme a le bras, la main, la gorge, la jambe faits au tour,</i> Elle les a parfaitement bien faits. On dit dans le même sens : <i>Cet homme, cette femme sont faits au tour.</i> <p> TOUR désigne aussi une Sorte d'armoire ronde et tournant sur un pivot, qui est posée dans l'épaisseur du mur, particulièrement dans les communautés religieuses, et qui permet de faire passer diverses choses du dehors à l'intérieur ou de l'intérieur au-dehors. <p> Il s'est dit aussi d'un Appareil semblable employé à l'entrée des hospices pour le dépôt des enfants confiés à la charité publique. <p> TOUR À TOUR<br/> <font color=\"green\">loc. adv.</font><br/>L'un après l'autre, alternativement. <i>Ces deux généraux commandaient tour à tour. Parler tour à tour.</i> "
      ],
      "text/plain": [
       "<IPython.core.display.HTML object>"
      ]
     },
     "metadata": {},
     "output_type": "display_data"
    }
   ],
   "source": [
    "import sqlite3\n",
    "import pandas as pd\n",
    "from IPython.display import display, HTML\n",
    "\n",
    "# Connect to the SQLite database\n",
    "conn = sqlite3.connect('acad_pocket.db')\n",
    "\n",
    "# Write a query to fetch data\n",
    "query = \"\"\"\n",
    "SELECT * FROM dictionary\n",
    "WHERE word = 'TOUR'\n",
    "\"\"\"\n",
    "\n",
    "# Use pandas to read the data into a DataFrame\n",
    "df = pd.read_sql_query(query, conn)\n",
    "\n",
    "# Close the connection\n",
    "conn.close()\n",
    "\n",
    "# Check if the DataFrame is empty\n",
    "if df.empty:\n",
    "    print(\"No data found\")\n",
    "else:\n",
    "    print(df)\n",
    "    for ht in df.definition:\n",
    "        # Display the HTML content\n",
    "        display(HTML(ht))"
   ]
  },
  {
   "cell_type": "markdown",
   "metadata": {},
   "source": [
    "---"
   ]
  },
  {
   "cell_type": "code",
   "execution_count": 22,
   "metadata": {},
   "outputs": [],
   "source": [
    "def list_tags(html_content):\n",
    "    # Parse the HTML content\n",
    "    soup = BeautifulSoup(html_content, 'html.parser')\n",
    "    list_balises = set()\n",
    "    # Iterate over all tags in the HTML\n",
    "    for tag in soup.find_all(True):\n",
    "        list_balises.add(tag.name)\n",
    "\n",
    "    list_balises = sorted(list_balises)\n",
    "    return list_balises"
   ]
  },
  {
   "cell_type": "code",
   "execution_count": null,
   "metadata": {},
   "outputs": [
    {
     "name": "stdout",
     "output_type": "stream",
     "text": [
      "['a', 'b', 'body', 'br', 'div', 'dom', 'fm', 'font', 'guide', 'h2', 'h3', 'head', 'html', 'i', 'idx:entry', 'idx:orth', 'img', 'mbp:frameset', 'mbp:pagebreak', 'meta', 'p', 'reference', 'renv', 'sup']\n"
     ]
    }
   ],
   "source": [
    "# Read the HTML content from the file - environ 5 minutes\n",
    "with open('./mobi7/book.html', 'r', encoding='utf-8') as file:\n",
    "    html_content = file.read()\n",
    "print(list_tags(html_content))"
   ]
  },
  {
   "cell_type": "code",
   "execution_count": 26,
   "metadata": {},
   "outputs": [
    {
     "name": "stdout",
     "output_type": "stream",
     "text": [
      "{'idx:entry', 'font', 'div', 'h3', 'br', 'guide', 'i', 'idx:orth', 'renv', 'meta', 'reference', 'img', 'html', 'head', 'mbp:frameset', 'fm', 'sup', 'body', 'mbp:pagebreak', 'b', 'a', 'h2', 'p', 'dom'}\n"
     ]
    }
   ],
   "source": [
    "# Charger le contenu du fichier HTML\n",
    "with open('mobi7/book.html', 'r', encoding='utf-8') as file:\n",
    "    content = file.read()\n",
    "\n",
    "# Parser le contenu HTML\n",
    "soup = BeautifulSoup(content, 'html.parser')\n",
    "\n",
    "# Trouver toutes les balises uniques\n",
    "unique_tags = set(tag.name for tag in soup.find_all())\n",
    "\n",
    "# Afficher les balises uniques\n",
    "print(unique_tags)"
   ]
  },
  {
   "cell_type": "code",
   "execution_count": 27,
   "metadata": {},
   "outputs": [],
   "source": [
    "\n",
    "\n",
    "# Charger le contenu du fichier HTML\n",
    "with open('mobi7/book.html', 'r', encoding='utf-8') as file:\n",
    "    content = file.read()\n",
    "\n",
    "# Parser le contenu HTML\n",
    "soup = BeautifulSoup(content, 'html.parser')\n",
    "\n",
    "# Trouver toutes les balises uniques avec leurs attributs\n",
    "unique_tags_with_attrs = {}\n",
    "for tag in soup.find_all():\n",
    "    if tag.name not in unique_tags_with_attrs:\n",
    "        unique_tags_with_attrs[tag.name] = set()\n",
    "    for attr in tag.attrs:\n",
    "        unique_tags_with_attrs[tag.name].add(attr)\n",
    "\n",
    "# Stocker les balises uniques avec leurs attributs dans un fichier texte\n",
    "with open('unique_tags.txt', 'w', encoding='utf-8') as file:\n",
    "    for tag, attrs in unique_tags_with_attrs.items():\n",
    "        file.write(f\"{tag}: {', '.join(attrs)}\\n\")"
   ]
  },
  {
   "cell_type": "code",
   "execution_count": 28,
   "metadata": {},
   "outputs": [],
   "source": [
    "from bs4 import BeautifulSoup\n",
    "\n",
    "# Charger le contenu du fichier HTML\n",
    "with open('mobi7/book.html', 'r', encoding='utf-8') as file:\n",
    "    content = file.read()\n",
    "\n",
    "# Parser le contenu HTML\n",
    "soup = BeautifulSoup(content, 'html.parser')\n",
    "\n",
    "# Trouver toutes les balises uniques avec leurs attributs\n",
    "unique_tags_with_attrs = {}\n",
    "for tag in soup.find_all():\n",
    "    if tag.name not in unique_tags_with_attrs:\n",
    "        unique_tags_with_attrs[tag.name] = set()\n",
    "    for attr in tag.attrs:\n",
    "        if '=' in str(tag):\n",
    "            unique_tags_with_attrs[tag.name].add(attr)\n",
    "\n",
    "# Stocker les balises uniques avec leurs attributs dans un fichier texte\n",
    "with open('unique_tags.txt', 'w', encoding='utf-8') as file:\n",
    "    for tag, attrs in unique_tags_with_attrs.items():\n",
    "        file.write(f\"{tag}: {', '.join(attrs)}\\n\")"
   ]
  }
 ],
 "metadata": {
  "kernelspec": {
   "display_name": "Python 3",
   "language": "python",
   "name": "python3"
  },
  "language_info": {
   "codemirror_mode": {
    "name": "ipython",
    "version": 3
   },
   "file_extension": ".py",
   "mimetype": "text/x-python",
   "name": "python",
   "nbconvert_exporter": "python",
   "pygments_lexer": "ipython3",
   "version": "3.12.1"
  }
 },
 "nbformat": 4,
 "nbformat_minor": 2
}
