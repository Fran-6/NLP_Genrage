{
 "cells": [
  {
   "cell_type": "markdown",
   "metadata": {},
   "source": [
    "### Genderizer\n",
    "Classificateur de genre : Utilisé dans le contexte de l'analyse linguistique ou du traitement automatique des langues.\n",
    "Utiliser Pytorch\n",
    "\n",
    "\n",
    "Feuille de route:\n",
    "- faire un état de l'art rapide sur le web\n",
    "- créer une base de données de noms communs étiquetés par genre\n",
    "- choisir un dictionaire gratuit open source\n",
    "- faire une analyse des données"
   ]
  },
  {
   "cell_type": "code",
   "execution_count": 6,
   "metadata": {},
   "outputs": [],
   "source": [
    "from bs4 import BeautifulSoup\n",
    "import sqlite3\n",
    "import pandas as pd"
   ]
  },
  {
   "cell_type": "code",
   "execution_count": 7,
   "metadata": {},
   "outputs": [],
   "source": [
    "def list_tags(html_content):\n",
    "    # Parse the HTML content\n",
    "    soup = BeautifulSoup(html_content, 'html.parser')\n",
    "    list_balises = set()\n",
    "    # Iterate over all tags in the HTML\n",
    "    for tag in soup.find_all(True):\n",
    "        list_balises.add(tag.name)\n",
    "\n",
    "    list_balises = sorted(list_balises)\n",
    "    return list_balises"
   ]
  },
  {
   "cell_type": "code",
   "execution_count": 8,
   "metadata": {},
   "outputs": [
    {
     "name": "stdout",
     "output_type": "stream",
     "text": [
      "['br', 'font', 'i', 'p']\n"
     ]
    }
   ],
   "source": [
    "\n",
    "html_content = \"\"\"\n",
    "<br><font color=\"green\">adj. des deux genres</font><br>\n",
    "<i>Crime abominable. Un homme abominable. C'est une abominable calomnie. De pareils écrits sont abominables.</i>\n",
    "<p> Il se dit, par exagération, de Tout ce qui est très mauvais en son genre. \n",
    "<i>Cette comédie, cette musique est abominable. Une odeur abominable. Il fait un temps abominable.</i></p>\n",
    "\"\"\"\n",
    "print(list_tags(html_content=html_content))"
   ]
  },
  {
   "cell_type": "code",
   "execution_count": 9,
   "metadata": {},
   "outputs": [
    {
     "ename": "DatabaseError",
     "evalue": "Execution failed on sql '\nSELECT * FROM Word\n': no such table: Word",
     "output_type": "error",
     "traceback": [
      "\u001b[0;31m---------------------------------------------------------------------------\u001b[0m",
      "\u001b[0;31mOperationalError\u001b[0m                          Traceback (most recent call last)",
      "File \u001b[0;32m~/.local/lib/python3.12/site-packages/pandas/io/sql.py:2674\u001b[0m, in \u001b[0;36mSQLiteDatabase.execute\u001b[0;34m(self, sql, params)\u001b[0m\n\u001b[1;32m   2673\u001b[0m \u001b[38;5;28;01mtry\u001b[39;00m:\n\u001b[0;32m-> 2674\u001b[0m     \u001b[43mcur\u001b[49m\u001b[38;5;241;43m.\u001b[39;49m\u001b[43mexecute\u001b[49m\u001b[43m(\u001b[49m\u001b[43msql\u001b[49m\u001b[43m,\u001b[49m\u001b[43m \u001b[49m\u001b[38;5;241;43m*\u001b[39;49m\u001b[43margs\u001b[49m\u001b[43m)\u001b[49m\n\u001b[1;32m   2675\u001b[0m     \u001b[38;5;28;01mreturn\u001b[39;00m cur\n",
      "\u001b[0;31mOperationalError\u001b[0m: no such table: Word",
      "\nThe above exception was the direct cause of the following exception:\n",
      "\u001b[0;31mDatabaseError\u001b[0m                             Traceback (most recent call last)",
      "Cell \u001b[0;32mIn[9], line 14\u001b[0m\n\u001b[1;32m      9\u001b[0m query \u001b[38;5;241m=\u001b[39m \u001b[38;5;124m\"\"\"\u001b[39m\n\u001b[1;32m     10\u001b[0m \u001b[38;5;124mSELECT * FROM Word\u001b[39m\n\u001b[1;32m     11\u001b[0m \u001b[38;5;124m\"\"\"\u001b[39m\n\u001b[1;32m     13\u001b[0m \u001b[38;5;66;03m# Use pandas to read the data into a DataFrame\u001b[39;00m\n\u001b[0;32m---> 14\u001b[0m df \u001b[38;5;241m=\u001b[39m \u001b[43mpd\u001b[49m\u001b[38;5;241;43m.\u001b[39;49m\u001b[43mread_sql_query\u001b[49m\u001b[43m(\u001b[49m\u001b[43mquery\u001b[49m\u001b[43m,\u001b[49m\u001b[43m \u001b[49m\u001b[43mconn\u001b[49m\u001b[43m)\u001b[49m\n\u001b[1;32m     16\u001b[0m \u001b[38;5;66;03m# Close the connection\u001b[39;00m\n\u001b[1;32m     17\u001b[0m conn\u001b[38;5;241m.\u001b[39mclose()\n",
      "File \u001b[0;32m~/.local/lib/python3.12/site-packages/pandas/io/sql.py:526\u001b[0m, in \u001b[0;36mread_sql_query\u001b[0;34m(sql, con, index_col, coerce_float, params, parse_dates, chunksize, dtype, dtype_backend)\u001b[0m\n\u001b[1;32m    523\u001b[0m \u001b[38;5;28;01massert\u001b[39;00m dtype_backend \u001b[38;5;129;01mis\u001b[39;00m \u001b[38;5;129;01mnot\u001b[39;00m lib\u001b[38;5;241m.\u001b[39mno_default\n\u001b[1;32m    525\u001b[0m \u001b[38;5;28;01mwith\u001b[39;00m pandasSQL_builder(con) \u001b[38;5;28;01mas\u001b[39;00m pandas_sql:\n\u001b[0;32m--> 526\u001b[0m     \u001b[38;5;28;01mreturn\u001b[39;00m \u001b[43mpandas_sql\u001b[49m\u001b[38;5;241;43m.\u001b[39;49m\u001b[43mread_query\u001b[49m\u001b[43m(\u001b[49m\n\u001b[1;32m    527\u001b[0m \u001b[43m        \u001b[49m\u001b[43msql\u001b[49m\u001b[43m,\u001b[49m\n\u001b[1;32m    528\u001b[0m \u001b[43m        \u001b[49m\u001b[43mindex_col\u001b[49m\u001b[38;5;241;43m=\u001b[39;49m\u001b[43mindex_col\u001b[49m\u001b[43m,\u001b[49m\n\u001b[1;32m    529\u001b[0m \u001b[43m        \u001b[49m\u001b[43mparams\u001b[49m\u001b[38;5;241;43m=\u001b[39;49m\u001b[43mparams\u001b[49m\u001b[43m,\u001b[49m\n\u001b[1;32m    530\u001b[0m \u001b[43m        \u001b[49m\u001b[43mcoerce_float\u001b[49m\u001b[38;5;241;43m=\u001b[39;49m\u001b[43mcoerce_float\u001b[49m\u001b[43m,\u001b[49m\n\u001b[1;32m    531\u001b[0m \u001b[43m        \u001b[49m\u001b[43mparse_dates\u001b[49m\u001b[38;5;241;43m=\u001b[39;49m\u001b[43mparse_dates\u001b[49m\u001b[43m,\u001b[49m\n\u001b[1;32m    532\u001b[0m \u001b[43m        \u001b[49m\u001b[43mchunksize\u001b[49m\u001b[38;5;241;43m=\u001b[39;49m\u001b[43mchunksize\u001b[49m\u001b[43m,\u001b[49m\n\u001b[1;32m    533\u001b[0m \u001b[43m        \u001b[49m\u001b[43mdtype\u001b[49m\u001b[38;5;241;43m=\u001b[39;49m\u001b[43mdtype\u001b[49m\u001b[43m,\u001b[49m\n\u001b[1;32m    534\u001b[0m \u001b[43m        \u001b[49m\u001b[43mdtype_backend\u001b[49m\u001b[38;5;241;43m=\u001b[39;49m\u001b[43mdtype_backend\u001b[49m\u001b[43m,\u001b[49m\n\u001b[1;32m    535\u001b[0m \u001b[43m    \u001b[49m\u001b[43m)\u001b[49m\n",
      "File \u001b[0;32m~/.local/lib/python3.12/site-packages/pandas/io/sql.py:2738\u001b[0m, in \u001b[0;36mSQLiteDatabase.read_query\u001b[0;34m(self, sql, index_col, coerce_float, parse_dates, params, chunksize, dtype, dtype_backend)\u001b[0m\n\u001b[1;32m   2727\u001b[0m \u001b[38;5;28;01mdef\u001b[39;00m \u001b[38;5;21mread_query\u001b[39m(\n\u001b[1;32m   2728\u001b[0m     \u001b[38;5;28mself\u001b[39m,\n\u001b[1;32m   2729\u001b[0m     sql,\n\u001b[0;32m   (...)\u001b[0m\n\u001b[1;32m   2736\u001b[0m     dtype_backend: DtypeBackend \u001b[38;5;241m|\u001b[39m Literal[\u001b[38;5;124m\"\u001b[39m\u001b[38;5;124mnumpy\u001b[39m\u001b[38;5;124m\"\u001b[39m] \u001b[38;5;241m=\u001b[39m \u001b[38;5;124m\"\u001b[39m\u001b[38;5;124mnumpy\u001b[39m\u001b[38;5;124m\"\u001b[39m,\n\u001b[1;32m   2737\u001b[0m ) \u001b[38;5;241m-\u001b[39m\u001b[38;5;241m>\u001b[39m DataFrame \u001b[38;5;241m|\u001b[39m Iterator[DataFrame]:\n\u001b[0;32m-> 2738\u001b[0m     cursor \u001b[38;5;241m=\u001b[39m \u001b[38;5;28;43mself\u001b[39;49m\u001b[38;5;241;43m.\u001b[39;49m\u001b[43mexecute\u001b[49m\u001b[43m(\u001b[49m\u001b[43msql\u001b[49m\u001b[43m,\u001b[49m\u001b[43m \u001b[49m\u001b[43mparams\u001b[49m\u001b[43m)\u001b[49m\n\u001b[1;32m   2739\u001b[0m     columns \u001b[38;5;241m=\u001b[39m [col_desc[\u001b[38;5;241m0\u001b[39m] \u001b[38;5;28;01mfor\u001b[39;00m col_desc \u001b[38;5;129;01min\u001b[39;00m cursor\u001b[38;5;241m.\u001b[39mdescription]\n\u001b[1;32m   2741\u001b[0m     \u001b[38;5;28;01mif\u001b[39;00m chunksize \u001b[38;5;129;01mis\u001b[39;00m \u001b[38;5;129;01mnot\u001b[39;00m \u001b[38;5;28;01mNone\u001b[39;00m:\n",
      "File \u001b[0;32m~/.local/lib/python3.12/site-packages/pandas/io/sql.py:2686\u001b[0m, in \u001b[0;36mSQLiteDatabase.execute\u001b[0;34m(self, sql, params)\u001b[0m\n\u001b[1;32m   2683\u001b[0m     \u001b[38;5;28;01mraise\u001b[39;00m ex \u001b[38;5;28;01mfrom\u001b[39;00m \u001b[38;5;21;01minner_exc\u001b[39;00m\n\u001b[1;32m   2685\u001b[0m ex \u001b[38;5;241m=\u001b[39m DatabaseError(\u001b[38;5;124mf\u001b[39m\u001b[38;5;124m\"\u001b[39m\u001b[38;5;124mExecution failed on sql \u001b[39m\u001b[38;5;124m'\u001b[39m\u001b[38;5;132;01m{\u001b[39;00msql\u001b[38;5;132;01m}\u001b[39;00m\u001b[38;5;124m'\u001b[39m\u001b[38;5;124m: \u001b[39m\u001b[38;5;132;01m{\u001b[39;00mexc\u001b[38;5;132;01m}\u001b[39;00m\u001b[38;5;124m\"\u001b[39m)\n\u001b[0;32m-> 2686\u001b[0m \u001b[38;5;28;01mraise\u001b[39;00m ex \u001b[38;5;28;01mfrom\u001b[39;00m \u001b[38;5;21;01mexc\u001b[39;00m\n",
      "\u001b[0;31mDatabaseError\u001b[0m: Execution failed on sql '\nSELECT * FROM Word\n': no such table: Word"
     ]
    }
   ],
   "source": [
    "import sqlite3\n",
    "import pandas as pd\n",
    "\n",
    "\n",
    "# Connect to the SQLite database\n",
    "conn = sqlite3.connect('academie.db')\n",
    "\n",
    "# Write a query to fetch data\n",
    "query = \"\"\"\n",
    "SELECT * FROM Word\n",
    "\"\"\"\n",
    "\n",
    "# Use pandas to read the data into a DataFrame\n",
    "df = pd.read_sql_query(query, conn)\n",
    "\n",
    "# Close the connection\n",
    "conn.close()\n",
    "\n",
    "# Check if the DataFrame is empty\n",
    "if df.empty:\n",
    "    print(\"No data found\")\n",
    "else:\n",
    "    print(df)"
   ]
  },
  {
   "cell_type": "code",
   "execution_count": 66,
   "metadata": {},
   "outputs": [],
   "source": [
    "list_balises = set()"
   ]
  },
  {
   "cell_type": "code",
   "execution_count": 67,
   "metadata": {},
   "outputs": [
    {
     "name": "stdout",
     "output_type": "stream",
     "text": [
      "['br', 'font', 'i', 'p', 'renv', 'sup']\n"
     ]
    }
   ],
   "source": [
    "from IPython.display import display, HTML\n",
    "from bs4 import BeautifulSoup\n",
    "\n",
    "# Check if the DataFrame is empty\n",
    "if df.empty:\n",
    "    display(HTML(\"<p>No data found.</p>\"))\n",
    "else:\n",
    "    for ht in df.definition.tolist():\n",
    "        html_content = ht\n",
    "        # display(HTML(html_content))\n",
    "        # Parse the HTML content\n",
    "        soup = BeautifulSoup(html_content, 'html.parser')\n",
    "        for tag in soup.find_all(True):\n",
    "            list_balises.add(tag.name)\n",
    "\n",
    "list_balises = sorted(list_balises)\n",
    "\n",
    "print(list_balises)"
   ]
  },
  {
   "cell_type": "code",
   "execution_count": null,
   "metadata": {},
   "outputs": [],
   "source": [
    "# Iterate over all tags in the HTML\n",
    "for tag in soup.find_all(True):\n",
    "    list_balises.add(tag.name)\n",
    "\n",
    "list_balises = sorted(list_balises)\n",
    "\n",
    "print(list_balises)"
   ]
  },
  {
   "cell_type": "code",
   "execution_count": 2,
   "metadata": {},
   "outputs": [
    {
     "name": "stdout",
     "output_type": "stream",
     "text": [
      "dbinfo\n",
      "dbinfo_extra\n",
      "word\n"
     ]
    }
   ],
   "source": [
    "import sqlite3\n",
    "\n",
    "# Connect to the SQLite database\n",
    "conn = sqlite3.connect('acadi.db')\n",
    "\n",
    "# Create a cursor object\n",
    "cursor = conn.cursor()\n",
    "\n",
    "# Execute the query to list all tables\n",
    "cursor.execute(\"SELECT name FROM sqlite_master WHERE type='table';\")\n",
    "\n",
    "# Fetch all results\n",
    "tables = cursor.fetchall()\n",
    "\n",
    "# Print the list of tables\n",
    "for table in tables:\n",
    "    print(table[0])\n",
    "\n",
    "# Close the connection\n",
    "conn.close()"
   ]
  },
  {
   "cell_type": "code",
   "execution_count": null,
   "metadata": {},
   "outputs": [
    {
     "ename": "DatabaseError",
     "evalue": "Execution failed on sql '\nSELECT * FROM word\nWHERE w = 'TOUR'\n': no such table: word",
     "output_type": "error",
     "traceback": [
      "\u001b[0;31m---------------------------------------------------------------------------\u001b[0m",
      "\u001b[0;31mOperationalError\u001b[0m                          Traceback (most recent call last)",
      "File \u001b[0;32m~/miniconda3/envs/pyenv_3_8_10/lib/python3.8/site-packages/pandas/io/sql.py:2202\u001b[0m, in \u001b[0;36mSQLiteDatabase.execute\u001b[0;34m(self, sql, params)\u001b[0m\n\u001b[1;32m   2201\u001b[0m \u001b[38;5;28;01mtry\u001b[39;00m:\n\u001b[0;32m-> 2202\u001b[0m     \u001b[43mcur\u001b[49m\u001b[38;5;241;43m.\u001b[39;49m\u001b[43mexecute\u001b[49m\u001b[43m(\u001b[49m\u001b[43msql\u001b[49m\u001b[43m,\u001b[49m\u001b[43m \u001b[49m\u001b[38;5;241;43m*\u001b[39;49m\u001b[43margs\u001b[49m\u001b[43m)\u001b[49m\n\u001b[1;32m   2203\u001b[0m     \u001b[38;5;28;01mreturn\u001b[39;00m cur\n",
      "\u001b[0;31mOperationalError\u001b[0m: no such table: word",
      "\nThe above exception was the direct cause of the following exception:\n",
      "\u001b[0;31mDatabaseError\u001b[0m                             Traceback (most recent call last)",
      "Cell \u001b[0;32mIn[6], line 15\u001b[0m\n\u001b[1;32m      9\u001b[0m query \u001b[38;5;241m=\u001b[39m \u001b[38;5;124m\"\"\"\u001b[39m\n\u001b[1;32m     10\u001b[0m \u001b[38;5;124mSELECT * FROM word\u001b[39m\n\u001b[1;32m     11\u001b[0m \u001b[38;5;124mWHERE w = \u001b[39m\u001b[38;5;124m'\u001b[39m\u001b[38;5;124mTOUR\u001b[39m\u001b[38;5;124m'\u001b[39m\n\u001b[1;32m     12\u001b[0m \u001b[38;5;124m\"\"\"\u001b[39m\n\u001b[1;32m     14\u001b[0m \u001b[38;5;66;03m# Use pandas to read the data into a DataFrame\u001b[39;00m\n\u001b[0;32m---> 15\u001b[0m df \u001b[38;5;241m=\u001b[39m \u001b[43mpd\u001b[49m\u001b[38;5;241;43m.\u001b[39;49m\u001b[43mread_sql_query\u001b[49m\u001b[43m(\u001b[49m\u001b[43mquery\u001b[49m\u001b[43m,\u001b[49m\u001b[43m \u001b[49m\u001b[43mconn\u001b[49m\u001b[43m)\u001b[49m\n\u001b[1;32m     17\u001b[0m \u001b[38;5;66;03m# Close the connection\u001b[39;00m\n\u001b[1;32m     18\u001b[0m conn\u001b[38;5;241m.\u001b[39mclose()\n",
      "File \u001b[0;32m~/miniconda3/envs/pyenv_3_8_10/lib/python3.8/site-packages/pandas/io/sql.py:469\u001b[0m, in \u001b[0;36mread_sql_query\u001b[0;34m(sql, con, index_col, coerce_float, params, parse_dates, chunksize, dtype, dtype_backend)\u001b[0m\n\u001b[1;32m    466\u001b[0m     dtype_backend \u001b[38;5;241m=\u001b[39m \u001b[38;5;124m\"\u001b[39m\u001b[38;5;124mnumpy\u001b[39m\u001b[38;5;124m\"\u001b[39m  \u001b[38;5;66;03m# type: ignore[assignment]\u001b[39;00m\n\u001b[1;32m    468\u001b[0m \u001b[38;5;28;01mwith\u001b[39;00m pandasSQL_builder(con) \u001b[38;5;28;01mas\u001b[39;00m pandas_sql:\n\u001b[0;32m--> 469\u001b[0m     \u001b[38;5;28;01mreturn\u001b[39;00m \u001b[43mpandas_sql\u001b[49m\u001b[38;5;241;43m.\u001b[39;49m\u001b[43mread_query\u001b[49m\u001b[43m(\u001b[49m\n\u001b[1;32m    470\u001b[0m \u001b[43m        \u001b[49m\u001b[43msql\u001b[49m\u001b[43m,\u001b[49m\n\u001b[1;32m    471\u001b[0m \u001b[43m        \u001b[49m\u001b[43mindex_col\u001b[49m\u001b[38;5;241;43m=\u001b[39;49m\u001b[43mindex_col\u001b[49m\u001b[43m,\u001b[49m\n\u001b[1;32m    472\u001b[0m \u001b[43m        \u001b[49m\u001b[43mparams\u001b[49m\u001b[38;5;241;43m=\u001b[39;49m\u001b[43mparams\u001b[49m\u001b[43m,\u001b[49m\n\u001b[1;32m    473\u001b[0m \u001b[43m        \u001b[49m\u001b[43mcoerce_float\u001b[49m\u001b[38;5;241;43m=\u001b[39;49m\u001b[43mcoerce_float\u001b[49m\u001b[43m,\u001b[49m\n\u001b[1;32m    474\u001b[0m \u001b[43m        \u001b[49m\u001b[43mparse_dates\u001b[49m\u001b[38;5;241;43m=\u001b[39;49m\u001b[43mparse_dates\u001b[49m\u001b[43m,\u001b[49m\n\u001b[1;32m    475\u001b[0m \u001b[43m        \u001b[49m\u001b[43mchunksize\u001b[49m\u001b[38;5;241;43m=\u001b[39;49m\u001b[43mchunksize\u001b[49m\u001b[43m,\u001b[49m\n\u001b[1;32m    476\u001b[0m \u001b[43m        \u001b[49m\u001b[43mdtype\u001b[49m\u001b[38;5;241;43m=\u001b[39;49m\u001b[43mdtype\u001b[49m\u001b[43m,\u001b[49m\n\u001b[1;32m    477\u001b[0m \u001b[43m        \u001b[49m\u001b[43mdtype_backend\u001b[49m\u001b[38;5;241;43m=\u001b[39;49m\u001b[43mdtype_backend\u001b[49m\u001b[43m,\u001b[49m\n\u001b[1;32m    478\u001b[0m \u001b[43m    \u001b[49m\u001b[43m)\u001b[49m\n",
      "File \u001b[0;32m~/miniconda3/envs/pyenv_3_8_10/lib/python3.8/site-packages/pandas/io/sql.py:2266\u001b[0m, in \u001b[0;36mSQLiteDatabase.read_query\u001b[0;34m(self, sql, index_col, coerce_float, parse_dates, params, chunksize, dtype, dtype_backend)\u001b[0m\n\u001b[1;32m   2255\u001b[0m \u001b[38;5;28;01mdef\u001b[39;00m \u001b[38;5;21mread_query\u001b[39m(\n\u001b[1;32m   2256\u001b[0m     \u001b[38;5;28mself\u001b[39m,\n\u001b[1;32m   2257\u001b[0m     sql,\n\u001b[0;32m   (...)\u001b[0m\n\u001b[1;32m   2264\u001b[0m     dtype_backend: DtypeBackend \u001b[38;5;241m|\u001b[39m Literal[\u001b[38;5;124m\"\u001b[39m\u001b[38;5;124mnumpy\u001b[39m\u001b[38;5;124m\"\u001b[39m] \u001b[38;5;241m=\u001b[39m \u001b[38;5;124m\"\u001b[39m\u001b[38;5;124mnumpy\u001b[39m\u001b[38;5;124m\"\u001b[39m,\n\u001b[1;32m   2265\u001b[0m ) \u001b[38;5;241m-\u001b[39m\u001b[38;5;241m>\u001b[39m DataFrame \u001b[38;5;241m|\u001b[39m Iterator[DataFrame]:\n\u001b[0;32m-> 2266\u001b[0m     cursor \u001b[38;5;241m=\u001b[39m \u001b[38;5;28;43mself\u001b[39;49m\u001b[38;5;241;43m.\u001b[39;49m\u001b[43mexecute\u001b[49m\u001b[43m(\u001b[49m\u001b[43msql\u001b[49m\u001b[43m,\u001b[49m\u001b[43m \u001b[49m\u001b[43mparams\u001b[49m\u001b[43m)\u001b[49m\n\u001b[1;32m   2267\u001b[0m     columns \u001b[38;5;241m=\u001b[39m [col_desc[\u001b[38;5;241m0\u001b[39m] \u001b[38;5;28;01mfor\u001b[39;00m col_desc \u001b[38;5;129;01min\u001b[39;00m cursor\u001b[38;5;241m.\u001b[39mdescription]\n\u001b[1;32m   2269\u001b[0m     \u001b[38;5;28;01mif\u001b[39;00m chunksize \u001b[38;5;129;01mis\u001b[39;00m \u001b[38;5;129;01mnot\u001b[39;00m \u001b[38;5;28;01mNone\u001b[39;00m:\n",
      "File \u001b[0;32m~/miniconda3/envs/pyenv_3_8_10/lib/python3.8/site-packages/pandas/io/sql.py:2214\u001b[0m, in \u001b[0;36mSQLiteDatabase.execute\u001b[0;34m(self, sql, params)\u001b[0m\n\u001b[1;32m   2211\u001b[0m     \u001b[38;5;28;01mraise\u001b[39;00m ex \u001b[38;5;28;01mfrom\u001b[39;00m \u001b[38;5;21;01minner_exc\u001b[39;00m\n\u001b[1;32m   2213\u001b[0m ex \u001b[38;5;241m=\u001b[39m DatabaseError(\u001b[38;5;124mf\u001b[39m\u001b[38;5;124m\"\u001b[39m\u001b[38;5;124mExecution failed on sql \u001b[39m\u001b[38;5;124m'\u001b[39m\u001b[38;5;132;01m{\u001b[39;00msql\u001b[38;5;132;01m}\u001b[39;00m\u001b[38;5;124m'\u001b[39m\u001b[38;5;124m: \u001b[39m\u001b[38;5;132;01m{\u001b[39;00mexc\u001b[38;5;132;01m}\u001b[39;00m\u001b[38;5;124m\"\u001b[39m)\n\u001b[0;32m-> 2214\u001b[0m \u001b[38;5;28;01mraise\u001b[39;00m ex \u001b[38;5;28;01mfrom\u001b[39;00m \u001b[38;5;21;01mexc\u001b[39;00m\n",
      "\u001b[0;31mDatabaseError\u001b[0m: Execution failed on sql '\nSELECT * FROM word\nWHERE w = 'TOUR'\n': no such table: word"
     ]
    }
   ],
   "source": [
    "import sqlite3\n",
    "import pandas as pd\n",
    "from IPython.display import display, HTML\n",
    "\n",
    "# Connect to the SQLite database\n",
    "conn = sqlite3.connect('acadi.db')\n",
    "\n",
    "# Write a query to fetch data\n",
    "query = \"\"\"\n",
    "SELECT * FROM word\n",
    "WHERE w = 'TOUR'\n",
    "\"\"\"\n",
    "\n",
    "# Use pandas to read the data into a DataFrame\n",
    "df = pd.read_sql_query(query, conn)\n",
    "\n",
    "# Close the connection\n",
    "conn.close()\n",
    "\n",
    "# Check if the DataFrame is empty\n",
    "if df.empty:\n",
    "    print(\"No data found\")\n",
    "else:\n",
    "    print(df)\n",
    "    for ht in df.m:\n",
    "        # Display the HTML content\n",
    "        display(HTML(ht))"
   ]
  },
  {
   "cell_type": "code",
   "execution_count": 36,
   "metadata": {},
   "outputs": [
    {
     "ename": "TypeError",
     "evalue": "read() takes no keyword arguments",
     "output_type": "error",
     "traceback": [
      "\u001b[0;31m---------------------------------------------------------------------------\u001b[0m",
      "\u001b[0;31mTypeError\u001b[0m                                 Traceback (most recent call last)",
      "Cell \u001b[0;32mIn[36], line 39\u001b[0m\n\u001b[1;32m     37\u001b[0m \u001b[38;5;28;01mif\u001b[39;00m filename\u001b[38;5;241m.\u001b[39mendswith(\u001b[38;5;124m\"\u001b[39m\u001b[38;5;124m.html\u001b[39m\u001b[38;5;124m\"\u001b[39m) \u001b[38;5;129;01mor\u001b[39;00m filename\u001b[38;5;241m.\u001b[39mendswith(\u001b[38;5;124m\"\u001b[39m\u001b[38;5;124m.htm\u001b[39m\u001b[38;5;124m\"\u001b[39m):\n\u001b[1;32m     38\u001b[0m     \u001b[38;5;28;01mwith\u001b[39;00m \u001b[38;5;28mopen\u001b[39m(os\u001b[38;5;241m.\u001b[39mpath\u001b[38;5;241m.\u001b[39mjoin(html_dir, filename), \u001b[38;5;124m\"\u001b[39m\u001b[38;5;124mr\u001b[39m\u001b[38;5;124m\"\u001b[39m, encoding\u001b[38;5;241m=\u001b[39m\u001b[38;5;124m\"\u001b[39m\u001b[38;5;124mCP1252\u001b[39m\u001b[38;5;124m\"\u001b[39m) \u001b[38;5;28;01mas\u001b[39;00m file:\n\u001b[0;32m---> 39\u001b[0m         content \u001b[38;5;241m=\u001b[39m \u001b[43mfile\u001b[49m\u001b[38;5;241;43m.\u001b[39;49m\u001b[43mread\u001b[49m\u001b[43m(\u001b[49m\u001b[43mencoding\u001b[49m\u001b[38;5;241;43m=\u001b[39;49m\u001b[38;5;124;43m\"\u001b[39;49m\u001b[38;5;124;43mCP1252\u001b[39;49m\u001b[38;5;124;43m\"\u001b[39;49m\u001b[43m)\u001b[49m\n\u001b[1;32m     41\u001b[0m         root \u001b[38;5;241m=\u001b[39m ET\u001b[38;5;241m.\u001b[39mfromstring(content)\n\u001b[1;32m     43\u001b[0m         \u001b[38;5;66;03m# Extraire les valeurs \"orth\"\u001b[39;00m\n",
      "\u001b[0;31mTypeError\u001b[0m: read() takes no keyword arguments"
     ]
    }
   ],
   "source": [
    "import os\n",
    "import sqlite3\n",
    "# from mobi import extract\n",
    "# from lxml import html, etree\n",
    "import xml.etree.ElementTree as ET\n",
    "\n",
    "# === CONFIGURATION ===\n",
    "prc_file = \"dictionary.prc\"       # Path to the MOBI/PRC dictionary\n",
    "output_folder = \"extracted_mobi\"  # Folder for extracted content\n",
    "db_file = \"Mobidict.db\"         # SQLite database file\n",
    "\n",
    "# === STEP 1: EXTRACT MOBI/PRC CONTENT ===\n",
    "# extract(prc_file, output_folder)\n",
    "# print(\"Extraction completed.\")\n",
    "\n",
    "# Locate the extracted HTML/HTM content\n",
    "html_dir = os.path.join(\"mobi7\")\n",
    "\n",
    "# === STEP 2: INITIALIZE SQLITE DATABASE ===\n",
    "conn = sqlite3.connect(db_file)\n",
    "cursor = conn.cursor()\n",
    "\n",
    "# Create a table for words and definitions\n",
    "cursor.execute(\"\"\"\n",
    "    CREATE TABLE IF NOT EXISTS dictionary (\n",
    "        id INTEGER PRIMARY KEY AUTOINCREMENT,\n",
    "        word TEXT UNIQUE,\n",
    "        definition TEXT\n",
    "    )\n",
    "\"\"\")\n",
    "\n",
    "# Define the namespace\n",
    "namespaces = {'idx': 'http://www.w3.org/1999/xhtml'}\n",
    "\n",
    "# === STEP 3: PARSE EXTRACTED CONTENT AND INSERT INTO DATABASE ===\n",
    "for filename in os.listdir(html_dir):\n",
    "    if filename.endswith(\".html\") or filename.endswith(\".htm\"):\n",
    "        with open(os.path.join(html_dir, filename), \"r\", encoding=\"CP1252\") as file:\n",
    "            content = file.read()\n",
    "            \n",
    "            root = ET.fromstring(content)\n",
    "\n",
    "            # Extraire les valeurs \"orth\"\n",
    "            word = [orth.get('value') for orth in root.findall('.//idx:orth', namespaces={'idx': ''})]\n",
    "\n",
    "            # Extraire les entrées\n",
    "            definition = [entry.text.strip() for entry in root.findall('.//idx:entry', namespaces={'idx': ''})]\n",
    "\n",
    "            # Insert words and definitions into the database\n",
    "            for word, definition in zip(words, definitions):\n",
    "                try:\n",
    "                    cursor.execute(\"INSERT INTO dictionary (word, definition) VALUES (?, ?)\", (word, definition))\n",
    "                except sqlite3.IntegrityError:\n",
    "                    pass  # Ignore duplicate words\n",
    "\n",
    "# === STEP 4: FINALIZE ===\n",
    "conn.commit()\n",
    "conn.close()\n",
    "\n",
    "print(f\"Dictionary has been saved to {db_file}\")\n",
    "\n"
   ]
  },
  {
   "cell_type": "code",
   "execution_count": 3,
   "metadata": {},
   "outputs": [],
   "source": [
    "import re\n",
    "\n",
    "# Read the HTML content from the file\n",
    "with open('/home/boss/projet/acad/mobi7/book.html', 'r', encoding='utf-8') as file:\n",
    "    html_content = file.read()\n",
    "\n",
    "# Define the regular expression patterns to match <idx:orth> and <idx:entry> tags\n",
    "pattern_orth = re.compile(r'<idx:orth value=\"[^\"]*\">')\n",
    "# pattern_entry = re.compile(r'<idx:entry>.*?</idx:entry>', re.DOTALL)\n",
    "pattern_entry = re.compile(r'</idx:entry>.*?<idx:entry>', re.DOTALL)\n",
    "\n",
    "# Find all matches for <idx:orth> and <idx:entry> tags\n",
    "orth_matches = pattern_orth.findall(html_content)\n",
    "entry_matches = pattern_entry.findall(html_content)\n"
   ]
  },
  {
   "cell_type": "code",
   "execution_count": 9,
   "metadata": {},
   "outputs": [
    {
     "name": "stdout",
     "output_type": "stream",
     "text": [
      "31933\n",
      "31933\n"
     ]
    }
   ],
   "source": [
    "print(len(orth_matches))\n",
    "print(len(entry_matches))"
   ]
  },
  {
   "cell_type": "code",
   "execution_count": 10,
   "metadata": {},
   "outputs": [
    {
     "name": "stdout",
     "output_type": "stream",
     "text": [
      "Extracted <idx:orth> tags:\n",
      "<idx:orth value=\"ZOUAVE\">\n",
      "<idx:orth value=\"ZUT\">\n",
      "<idx:orth value=\"ZYGOMA\">\n",
      "<idx:orth value=\"ZYGOMATIQUE\">\n",
      "\n",
      "Extracted <idx:entry> tags:\n",
      "</idx:entry>\n",
      "<h2><font size=\"+2\" color=\"BLUE\"><b>ZOUAVE</b></font></h2><br/> <font color=\"green\">n. m.</font><br/>Soldat d'un corps d'infanterie servant pour la plus grande partie en Afrique du Nord. <p> <i>Zouaves pontificaux,</i> Corps de volontaires constitué en 1860 par le général de Lamoricière pour la défense des États pontificaux. <mbp:pagebreak/><idx:entry>\n",
      "</idx:entry>\n",
      "<h2><font size=\"+2\" color=\"BLUE\"><b>ZUT</b></font></h2><br/> <font color=\"green\">interj.</font><br/>Exclamation familière pour exprimer l'impatience, le dépit, pour envoyer les gens au diable et signifier qu'on ne veut plus rien entendre. <mbp:pagebreak/><idx:entry>\n",
      "</idx:entry>\n",
      "<h2><font size=\"+2\" color=\"BLUE\"><b>ZYGOMA</b></font></h2><br/> <font color=\"green\">n. m.</font><br/><dom>T. d'Anatomie</dom><br/>Os de la pommette de la joue. <mbp:pagebreak/><idx:entry>\n",
      "</idx:entry>\n",
      "<h2><font size=\"+2\" color=\"BLUE\"><b>ZYGOMATIQUE </b></font></h2><br/> <font color=\"green\">adj. des deux genres.</font><br/><dom>T. d'Anatomie.</dom><br/>Qui appartient au zygoma. <i>Arcade zygomatique,</i> Arcade osseuse formée, au bas de la tempe, par l'os de la pommette et le temporal.<p> <i>Muscle zygomatique,</i> Chacun des deux muscles qui tirent les coins de la bouche vers les oreilles et qui agissent principalement dans l'action du rire. <mbp:pagebreak/><idx:entry>\n"
     ]
    }
   ],
   "source": [
    "\n",
    "# Print the extracted tags\n",
    "print(\"Extracted <idx:orth> tags:\")\n",
    "for match in orth_matches[-4:]:\n",
    "    print(match)\n",
    "\n",
    "print(\"\\nExtracted <idx:entry> tags:\")\n",
    "for match in entry_matches[-4:]:\n",
    "    print(match)"
   ]
  },
  {
   "cell_type": "code",
   "execution_count": 2,
   "metadata": {},
   "outputs": [
    {
     "ename": "KeyboardInterrupt",
     "evalue": "",
     "output_type": "error",
     "traceback": [
      "\u001b[0;31m---------------------------------------------------------------------------\u001b[0m",
      "\u001b[0;31mKeyboardInterrupt\u001b[0m                         Traceback (most recent call last)",
      "Cell \u001b[0;32mIn[2], line 8\u001b[0m\n\u001b[1;32m      5\u001b[0m     html_content \u001b[38;5;241m=\u001b[39m file\u001b[38;5;241m.\u001b[39mread()\n\u001b[1;32m      7\u001b[0m \u001b[38;5;66;03m# Parse the HTML content using BeautifulSoup\u001b[39;00m\n\u001b[0;32m----> 8\u001b[0m soup \u001b[38;5;241m=\u001b[39m \u001b[43mBeautifulSoup\u001b[49m\u001b[43m(\u001b[49m\u001b[43mhtml_content\u001b[49m\u001b[43m,\u001b[49m\u001b[43m \u001b[49m\u001b[38;5;124;43m'\u001b[39;49m\u001b[38;5;124;43mhtml.parser\u001b[39;49m\u001b[38;5;124;43m'\u001b[39;49m\u001b[43m)\u001b[49m\n\u001b[1;32m     10\u001b[0m \u001b[38;5;66;03m# Find all <idx:orth> and <idx:entry> tags\u001b[39;00m\n\u001b[1;32m     11\u001b[0m orth_tags \u001b[38;5;241m=\u001b[39m soup\u001b[38;5;241m.\u001b[39mfind_all(\u001b[38;5;124m'\u001b[39m\u001b[38;5;124midx:orth\u001b[39m\u001b[38;5;124m'\u001b[39m)\n",
      "File \u001b[0;32m~/miniconda3/envs/pyenv_3_8_10/lib/python3.8/site-packages/bs4/__init__.py:335\u001b[0m, in \u001b[0;36mBeautifulSoup.__init__\u001b[0;34m(self, markup, features, builder, parse_only, from_encoding, exclude_encodings, element_classes, **kwargs)\u001b[0m\n\u001b[1;32m    333\u001b[0m \u001b[38;5;28mself\u001b[39m\u001b[38;5;241m.\u001b[39mbuilder\u001b[38;5;241m.\u001b[39minitialize_soup(\u001b[38;5;28mself\u001b[39m)\n\u001b[1;32m    334\u001b[0m \u001b[38;5;28;01mtry\u001b[39;00m:\n\u001b[0;32m--> 335\u001b[0m     \u001b[38;5;28;43mself\u001b[39;49m\u001b[38;5;241;43m.\u001b[39;49m\u001b[43m_feed\u001b[49m\u001b[43m(\u001b[49m\u001b[43m)\u001b[49m\n\u001b[1;32m    336\u001b[0m     success \u001b[38;5;241m=\u001b[39m \u001b[38;5;28;01mTrue\u001b[39;00m\n\u001b[1;32m    337\u001b[0m     \u001b[38;5;28;01mbreak\u001b[39;00m\n",
      "File \u001b[0;32m~/miniconda3/envs/pyenv_3_8_10/lib/python3.8/site-packages/bs4/__init__.py:478\u001b[0m, in \u001b[0;36mBeautifulSoup._feed\u001b[0;34m(self)\u001b[0m\n\u001b[1;32m    475\u001b[0m \u001b[38;5;66;03m# Convert the document to Unicode.\u001b[39;00m\n\u001b[1;32m    476\u001b[0m \u001b[38;5;28mself\u001b[39m\u001b[38;5;241m.\u001b[39mbuilder\u001b[38;5;241m.\u001b[39mreset()\n\u001b[0;32m--> 478\u001b[0m \u001b[38;5;28;43mself\u001b[39;49m\u001b[38;5;241;43m.\u001b[39;49m\u001b[43mbuilder\u001b[49m\u001b[38;5;241;43m.\u001b[39;49m\u001b[43mfeed\u001b[49m\u001b[43m(\u001b[49m\u001b[38;5;28;43mself\u001b[39;49m\u001b[38;5;241;43m.\u001b[39;49m\u001b[43mmarkup\u001b[49m\u001b[43m)\u001b[49m\n\u001b[1;32m    479\u001b[0m \u001b[38;5;66;03m# Close out any unfinished strings and close all the open tags.\u001b[39;00m\n\u001b[1;32m    480\u001b[0m \u001b[38;5;28mself\u001b[39m\u001b[38;5;241m.\u001b[39mendData()\n",
      "File \u001b[0;32m~/miniconda3/envs/pyenv_3_8_10/lib/python3.8/site-packages/bs4/builder/_htmlparser.py:380\u001b[0m, in \u001b[0;36mHTMLParserTreeBuilder.feed\u001b[0;34m(self, markup)\u001b[0m\n\u001b[1;32m    378\u001b[0m parser\u001b[38;5;241m.\u001b[39msoup \u001b[38;5;241m=\u001b[39m \u001b[38;5;28mself\u001b[39m\u001b[38;5;241m.\u001b[39msoup\n\u001b[1;32m    379\u001b[0m \u001b[38;5;28;01mtry\u001b[39;00m:\n\u001b[0;32m--> 380\u001b[0m     \u001b[43mparser\u001b[49m\u001b[38;5;241;43m.\u001b[39;49m\u001b[43mfeed\u001b[49m\u001b[43m(\u001b[49m\u001b[43mmarkup\u001b[49m\u001b[43m)\u001b[49m\n\u001b[1;32m    381\u001b[0m     parser\u001b[38;5;241m.\u001b[39mclose()\n\u001b[1;32m    382\u001b[0m \u001b[38;5;28;01mexcept\u001b[39;00m \u001b[38;5;167;01mAssertionError\u001b[39;00m \u001b[38;5;28;01mas\u001b[39;00m e:\n\u001b[1;32m    383\u001b[0m     \u001b[38;5;66;03m# html.parser raises AssertionError in rare cases to\u001b[39;00m\n\u001b[1;32m    384\u001b[0m     \u001b[38;5;66;03m# indicate a fatal problem with the markup, especially\u001b[39;00m\n\u001b[1;32m    385\u001b[0m     \u001b[38;5;66;03m# when there's an error in the doctype declaration.\u001b[39;00m\n",
      "File \u001b[0;32m~/miniconda3/envs/pyenv_3_8_10/lib/python3.8/html/parser.py:111\u001b[0m, in \u001b[0;36mHTMLParser.feed\u001b[0;34m(self, data)\u001b[0m\n\u001b[1;32m    105\u001b[0m \u001b[38;5;250m\u001b[39m\u001b[38;5;124mr\u001b[39m\u001b[38;5;124;03m\"\"\"Feed data to the parser.\u001b[39;00m\n\u001b[1;32m    106\u001b[0m \n\u001b[1;32m    107\u001b[0m \u001b[38;5;124;03mCall this as often as you want, with as little or as much text\u001b[39;00m\n\u001b[1;32m    108\u001b[0m \u001b[38;5;124;03mas you want (may include '\\n').\u001b[39;00m\n\u001b[1;32m    109\u001b[0m \u001b[38;5;124;03m\"\"\"\u001b[39;00m\n\u001b[1;32m    110\u001b[0m \u001b[38;5;28mself\u001b[39m\u001b[38;5;241m.\u001b[39mrawdata \u001b[38;5;241m=\u001b[39m \u001b[38;5;28mself\u001b[39m\u001b[38;5;241m.\u001b[39mrawdata \u001b[38;5;241m+\u001b[39m data\n\u001b[0;32m--> 111\u001b[0m \u001b[38;5;28;43mself\u001b[39;49m\u001b[38;5;241;43m.\u001b[39;49m\u001b[43mgoahead\u001b[49m\u001b[43m(\u001b[49m\u001b[38;5;241;43m0\u001b[39;49m\u001b[43m)\u001b[49m\n",
      "File \u001b[0;32m~/miniconda3/envs/pyenv_3_8_10/lib/python3.8/html/parser.py:171\u001b[0m, in \u001b[0;36mHTMLParser.goahead\u001b[0;34m(self, end)\u001b[0m\n\u001b[1;32m    169\u001b[0m \u001b[38;5;28;01mif\u001b[39;00m startswith(\u001b[38;5;124m'\u001b[39m\u001b[38;5;124m<\u001b[39m\u001b[38;5;124m'\u001b[39m, i):\n\u001b[1;32m    170\u001b[0m     \u001b[38;5;28;01mif\u001b[39;00m starttagopen\u001b[38;5;241m.\u001b[39mmatch(rawdata, i): \u001b[38;5;66;03m# < + letter\u001b[39;00m\n\u001b[0;32m--> 171\u001b[0m         k \u001b[38;5;241m=\u001b[39m \u001b[38;5;28;43mself\u001b[39;49m\u001b[38;5;241;43m.\u001b[39;49m\u001b[43mparse_starttag\u001b[49m\u001b[43m(\u001b[49m\u001b[43mi\u001b[49m\u001b[43m)\u001b[49m\n\u001b[1;32m    172\u001b[0m     \u001b[38;5;28;01melif\u001b[39;00m startswith(\u001b[38;5;124m\"\u001b[39m\u001b[38;5;124m</\u001b[39m\u001b[38;5;124m\"\u001b[39m, i):\n\u001b[1;32m    173\u001b[0m         k \u001b[38;5;241m=\u001b[39m \u001b[38;5;28mself\u001b[39m\u001b[38;5;241m.\u001b[39mparse_endtag(i)\n",
      "File \u001b[0;32m~/miniconda3/envs/pyenv_3_8_10/lib/python3.8/html/parser.py:345\u001b[0m, in \u001b[0;36mHTMLParser.parse_starttag\u001b[0;34m(self, i)\u001b[0m\n\u001b[1;32m    343\u001b[0m     \u001b[38;5;28mself\u001b[39m\u001b[38;5;241m.\u001b[39mhandle_startendtag(tag, attrs)\n\u001b[1;32m    344\u001b[0m \u001b[38;5;28;01melse\u001b[39;00m:\n\u001b[0;32m--> 345\u001b[0m     \u001b[38;5;28;43mself\u001b[39;49m\u001b[38;5;241;43m.\u001b[39;49m\u001b[43mhandle_starttag\u001b[49m\u001b[43m(\u001b[49m\u001b[43mtag\u001b[49m\u001b[43m,\u001b[49m\u001b[43m \u001b[49m\u001b[43mattrs\u001b[49m\u001b[43m)\u001b[49m\n\u001b[1;32m    346\u001b[0m     \u001b[38;5;28;01mif\u001b[39;00m tag \u001b[38;5;129;01min\u001b[39;00m \u001b[38;5;28mself\u001b[39m\u001b[38;5;241m.\u001b[39mCDATA_CONTENT_ELEMENTS:\n\u001b[1;32m    347\u001b[0m         \u001b[38;5;28mself\u001b[39m\u001b[38;5;241m.\u001b[39mset_cdata_mode(tag)\n",
      "File \u001b[0;32m~/miniconda3/envs/pyenv_3_8_10/lib/python3.8/site-packages/bs4/builder/_htmlparser.py:137\u001b[0m, in \u001b[0;36mBeautifulSoupHTMLParser.handle_starttag\u001b[0;34m(self, name, attrs, handle_empty_element)\u001b[0m\n\u001b[1;32m    135\u001b[0m \u001b[38;5;66;03m#print(\"START\", name)\u001b[39;00m\n\u001b[1;32m    136\u001b[0m sourceline, sourcepos \u001b[38;5;241m=\u001b[39m \u001b[38;5;28mself\u001b[39m\u001b[38;5;241m.\u001b[39mgetpos()\n\u001b[0;32m--> 137\u001b[0m tag \u001b[38;5;241m=\u001b[39m \u001b[38;5;28;43mself\u001b[39;49m\u001b[38;5;241;43m.\u001b[39;49m\u001b[43msoup\u001b[49m\u001b[38;5;241;43m.\u001b[39;49m\u001b[43mhandle_starttag\u001b[49m\u001b[43m(\u001b[49m\n\u001b[1;32m    138\u001b[0m \u001b[43m    \u001b[49m\u001b[43mname\u001b[49m\u001b[43m,\u001b[49m\u001b[43m \u001b[49m\u001b[38;5;28;43;01mNone\u001b[39;49;00m\u001b[43m,\u001b[49m\u001b[43m \u001b[49m\u001b[38;5;28;43;01mNone\u001b[39;49;00m\u001b[43m,\u001b[49m\u001b[43m \u001b[49m\u001b[43mattr_dict\u001b[49m\u001b[43m,\u001b[49m\u001b[43m \u001b[49m\u001b[43msourceline\u001b[49m\u001b[38;5;241;43m=\u001b[39;49m\u001b[43msourceline\u001b[49m\u001b[43m,\u001b[49m\n\u001b[1;32m    139\u001b[0m \u001b[43m    \u001b[49m\u001b[43msourcepos\u001b[49m\u001b[38;5;241;43m=\u001b[39;49m\u001b[43msourcepos\u001b[49m\n\u001b[1;32m    140\u001b[0m \u001b[43m\u001b[49m\u001b[43m)\u001b[49m\n\u001b[1;32m    141\u001b[0m \u001b[38;5;28;01mif\u001b[39;00m tag \u001b[38;5;129;01mand\u001b[39;00m tag\u001b[38;5;241m.\u001b[39mis_empty_element \u001b[38;5;129;01mand\u001b[39;00m handle_empty_element:\n\u001b[1;32m    142\u001b[0m     \u001b[38;5;66;03m# Unlike other parsers, html.parser doesn't send separate end tag\u001b[39;00m\n\u001b[1;32m    143\u001b[0m     \u001b[38;5;66;03m# events for empty-element tags. (It's handled in\u001b[39;00m\n\u001b[0;32m   (...)\u001b[0m\n\u001b[1;32m    149\u001b[0m     \u001b[38;5;66;03m# don't want handle_endtag() to cross off any previous end\u001b[39;00m\n\u001b[1;32m    150\u001b[0m     \u001b[38;5;66;03m# events for tags of this name.\u001b[39;00m\n\u001b[1;32m    151\u001b[0m     \u001b[38;5;28mself\u001b[39m\u001b[38;5;241m.\u001b[39mhandle_endtag(name, check_already_closed\u001b[38;5;241m=\u001b[39m\u001b[38;5;28;01mFalse\u001b[39;00m)\n",
      "File \u001b[0;32m~/miniconda3/envs/pyenv_3_8_10/lib/python3.8/site-packages/bs4/__init__.py:742\u001b[0m, in \u001b[0;36mBeautifulSoup.handle_starttag\u001b[0;34m(self, name, namespace, nsprefix, attrs, sourceline, sourcepos, namespaces)\u001b[0m\n\u001b[1;32m    724\u001b[0m \u001b[38;5;250m\u001b[39m\u001b[38;5;124;03m\"\"\"Called by the tree builder when a new tag is encountered.\u001b[39;00m\n\u001b[1;32m    725\u001b[0m \n\u001b[1;32m    726\u001b[0m \u001b[38;5;124;03m:param name: Name of the tag.\u001b[39;00m\n\u001b[0;32m   (...)\u001b[0m\n\u001b[1;32m    739\u001b[0m \u001b[38;5;124;03mdon't call handle_endtag.\u001b[39;00m\n\u001b[1;32m    740\u001b[0m \u001b[38;5;124;03m\"\"\"\u001b[39;00m\n\u001b[1;32m    741\u001b[0m \u001b[38;5;66;03m# print(\"Start tag %s: %s\" % (name, attrs))\u001b[39;00m\n\u001b[0;32m--> 742\u001b[0m \u001b[38;5;28;43mself\u001b[39;49m\u001b[38;5;241;43m.\u001b[39;49m\u001b[43mendData\u001b[49m\u001b[43m(\u001b[49m\u001b[43m)\u001b[49m\n\u001b[1;32m    744\u001b[0m \u001b[38;5;28;01mif\u001b[39;00m (\u001b[38;5;28mself\u001b[39m\u001b[38;5;241m.\u001b[39mparse_only \u001b[38;5;129;01mand\u001b[39;00m \u001b[38;5;28mlen\u001b[39m(\u001b[38;5;28mself\u001b[39m\u001b[38;5;241m.\u001b[39mtagStack) \u001b[38;5;241m<\u001b[39m\u001b[38;5;241m=\u001b[39m \u001b[38;5;241m1\u001b[39m\n\u001b[1;32m    745\u001b[0m     \u001b[38;5;129;01mand\u001b[39;00m (\u001b[38;5;28mself\u001b[39m\u001b[38;5;241m.\u001b[39mparse_only\u001b[38;5;241m.\u001b[39mtext\n\u001b[1;32m    746\u001b[0m          \u001b[38;5;129;01mor\u001b[39;00m \u001b[38;5;129;01mnot\u001b[39;00m \u001b[38;5;28mself\u001b[39m\u001b[38;5;241m.\u001b[39mparse_only\u001b[38;5;241m.\u001b[39msearch_tag(name, attrs))):\n\u001b[1;32m    747\u001b[0m     \u001b[38;5;28;01mreturn\u001b[39;00m \u001b[38;5;28;01mNone\u001b[39;00m\n",
      "File \u001b[0;32m~/miniconda3/envs/pyenv_3_8_10/lib/python3.8/site-packages/bs4/__init__.py:618\u001b[0m, in \u001b[0;36mBeautifulSoup.endData\u001b[0;34m(self, containerClass)\u001b[0m\n\u001b[1;32m    616\u001b[0m containerClass \u001b[38;5;241m=\u001b[39m \u001b[38;5;28mself\u001b[39m\u001b[38;5;241m.\u001b[39mstring_container(containerClass)\n\u001b[1;32m    617\u001b[0m o \u001b[38;5;241m=\u001b[39m containerClass(current_data)\n\u001b[0;32m--> 618\u001b[0m \u001b[38;5;28;43mself\u001b[39;49m\u001b[38;5;241;43m.\u001b[39;49m\u001b[43mobject_was_parsed\u001b[49m\u001b[43m(\u001b[49m\u001b[43mo\u001b[49m\u001b[43m)\u001b[49m\n",
      "File \u001b[0;32m~/miniconda3/envs/pyenv_3_8_10/lib/python3.8/site-packages/bs4/__init__.py:646\u001b[0m, in \u001b[0;36mBeautifulSoup.object_was_parsed\u001b[0;34m(self, o, parent, most_recent_element)\u001b[0m\n\u001b[1;32m    644\u001b[0m \u001b[38;5;66;03m# Check if we are inserting into an already parsed node.\u001b[39;00m\n\u001b[1;32m    645\u001b[0m \u001b[38;5;28;01mif\u001b[39;00m fix:\n\u001b[0;32m--> 646\u001b[0m     \u001b[38;5;28;43mself\u001b[39;49m\u001b[38;5;241;43m.\u001b[39;49m\u001b[43m_linkage_fixer\u001b[49m\u001b[43m(\u001b[49m\u001b[43mparent\u001b[49m\u001b[43m)\u001b[49m\n",
      "File \u001b[0;32m~/miniconda3/envs/pyenv_3_8_10/lib/python3.8/site-packages/bs4/__init__.py:686\u001b[0m, in \u001b[0;36mBeautifulSoup._linkage_fixer\u001b[0;34m(self, el)\u001b[0m\n\u001b[1;32m    684\u001b[0m     target\u001b[38;5;241m.\u001b[39mnext_sibling\u001b[38;5;241m.\u001b[39mprevious_element \u001b[38;5;241m=\u001b[39m child\n\u001b[1;32m    685\u001b[0m     \u001b[38;5;28;01mbreak\u001b[39;00m\n\u001b[0;32m--> 686\u001b[0m target \u001b[38;5;241m=\u001b[39m \u001b[43mtarget\u001b[49m\u001b[38;5;241;43m.\u001b[39;49m\u001b[43mparent\u001b[49m\n",
      "\u001b[0;31mKeyboardInterrupt\u001b[0m: "
     ]
    }
   ],
   "source": [
    "from bs4 import BeautifulSoup\n",
    "\n",
    "# Read the HTML content from the file\n",
    "with open('/home/boss/projet/acad/mobi7/book.html', 'r', encoding='utf-8') as file:\n",
    "    html_content = file.read()\n",
    "\n",
    "# Parse the HTML content using BeautifulSoup\n",
    "soup = BeautifulSoup(html_content, 'html.parser')\n",
    "\n",
    "# Find all <idx:orth> and <idx:entry> tags\n",
    "orth_tags = soup.find_all('idx:orth')\n",
    "entry_tags = soup.find_all('idx:entry')\n",
    "\n",
    "# Print the extracted tags\n",
    "print(\"Extracted <idx:orth> tags:\")\n",
    "for tag in orth_tags[:4]:\n",
    "    print(tag)\n",
    "\n",
    "print(\"\\nExtracted <idx:entry> tags:\")\n",
    "for tag in entry_tags[:4]:\n",
    "    print(tag)"
   ]
  },
  {
   "cell_type": "code",
   "execution_count": 11,
   "metadata": {},
   "outputs": [
    {
     "name": "stdout",
     "output_type": "stream",
     "text": [
      "</idx:entry>\n",
      "<h2><font size=\"+2\" color=\"BLUE\"><b>AB HOC ET AB HAC</b></font></h2><br/> (On fait sentir le T d'ET.)<br/> <font color=\"green\">Locution empruntée du latin.</font><br/>D'une manière confuse et désordonnée. <i>Il ne sait ce qu'il dit; il parle, il raisonne</i> ab hoc et ab hac. Il est familier. <mbp:pagebreak/><idx:entry>\n"
     ]
    }
   ],
   "source": [
    "print(entry_matches[10])\n"
   ]
  },
  {
   "cell_type": "code",
   "execution_count": 5,
   "metadata": {},
   "outputs": [
    {
     "name": "stdout",
     "output_type": "stream",
     "text": [
      "Dictionary has been saved to acad_pocket.db\n"
     ]
    }
   ],
   "source": [
    "import os\n",
    "import sqlite3\n",
    "\n",
    "db_file = \"acad_pocket.db\"         # SQLite database file\n",
    "\n",
    "\n",
    "\n",
    "# === STEP 2: INITIALIZE SQLITE DATABASE ===\n",
    "conn = sqlite3.connect(db_file)\n",
    "cursor = conn.cursor()\n",
    "\n",
    "# Create a table for words and definitions\n",
    "cursor.execute(\"\"\"\n",
    "    CREATE TABLE IF NOT EXISTS dictionary (\n",
    "        id INTEGER PRIMARY KEY AUTOINCREMENT,\n",
    "        word TEXT,\n",
    "        definition TEXT\n",
    "    )\n",
    "\"\"\")\n",
    "\n",
    "id = 1\n",
    "\n",
    "# Insert words and definitions into the database\n",
    "for word, definition in zip(orth_matches, entry_matches):\n",
    "    word = re.search(r'value=\"([^\"]*)\"', word).group(1)\n",
    "\n",
    "    \"\"\" </idx:entry>\n",
    "    <h2><font size=\"+2\" color=\"BLUE\"><b>ZOUAVE</b></font></h2><br/> <font color=\"green\">n. m.</font><br/>Soldat d'un corps d'infanterie servant pour la plus grande partie en Afrique du Nord. <p> <i>Zouaves pontificaux,</i> Corps de volontaires constitué en 1860 par le général de Lamoricière pour la défense des États pontificaux. <mbp:pagebreak/><idx:entry>\n",
    "    </idx:entry> \"\"\"\n",
    "    \n",
    "    definition = definition.replace('</idx:entry>', '').replace('<mbp:pagebreak/><idx:entry>', '')\n",
    "    try:\n",
    "        cursor.execute(\"INSERT INTO dictionary (word, definition) VALUES (?, ?)\", (word, definition))\n",
    "        id += 1\n",
    "    except sqlite3.IntegrityError:\n",
    "        pass  # Ignore duplicate words\n",
    "\n",
    "# === STEP 4: FINALIZE ===\n",
    "conn.commit()\n",
    "conn.close()\n",
    "\n",
    "print(f\"Dictionary has been saved to {db_file}\")\n",
    "\n"
   ]
  },
  {
   "cell_type": "code",
   "execution_count": 10,
   "metadata": {},
   "outputs": [
    {
     "name": "stdout",
     "output_type": "stream",
     "text": [
      "      id  word                                         definition\n",
      "0  30201  TOUR  \\n<h2><font size=\"+2\" color=\"BLUE\"><b>TOUR</b>...\n",
      "1  30202  TOUR  \\n<h2><font size=\"+2\" color=\"BLUE\"><b>TOUR</b>...\n"
     ]
    },
    {
     "data": {
      "text/html": [
       "\n",
       "<h2><font size=\"+2\" color=\"BLUE\"><b>TOUR</b></font></h2><br/> <font color=\"green\">n. f.</font><br/>Sorte de bâtiment élevé, rond, carré ou polygonal, dont on fortifiait jadis l'enceinte des villes, des châteaux, etc., ou qui sert de clocher, de phare, etc. <i>Haute tour. Tour ronde. Tour carrée. Tour crénelée. Monter dans une tour, sur une tour. Du haut de la tour. Au pied de la tour. Une muraille flanquée de tours. Les créneaux d'une tour. La tour de Babel. La tour de Londres. La tour de Cordouan, qui sert de phare à l'embouchure de la Gironde. Les tours de Notre-Dame. La Tour de l'Horloge.</i> <p> Fig. et fam., <i>Tour de Babel,</i> Lieu où tout le monde parle à la fois et sans s'entendre. <i>Cette assemblée est une vraie tour de Babel.</i> <p> TOUR se dit aussi de Machines de guerre que les anciens attachaient sur le dos des éléphants de combat et dans lesquelles ils plaçaient ordinairement des archers. <p> En termes de jeu d'Échecs, il se dit d'une Pièce qu'on place à l'angle de l'échiquier et qui a la forme d'une tour crénelée. <i>Donner échec et mat avec la tour.</i> "
      ],
      "text/plain": [
       "<IPython.core.display.HTML object>"
      ]
     },
     "metadata": {},
     "output_type": "display_data"
    },
    {
     "data": {
      "text/html": [
       "\n",
       "<h2><font size=\"+2\" color=\"BLUE\"><b>TOUR</b></font></h2><br/> <font color=\"green\">n. m.</font><br/>Mouvement circulaire, mouvement de rotation. <i>Tour de roue. Faire un tour sur soi-même.</i> <p> Fam., <i>À tour de bras,</i> De toute la force du bras. Il signifie figurément En déployant toute sa force. <i>Tomber sur quelqu'un à tour de bras.</i> <p> Fam. et par exagération, <i>En un tour de main,</i> En aussi peu de temps qu'il en faut pour tourner la main. <i>Il change d'avis en un tour de main. Cela a été fait en un tour de main.</i> <p> <i>Tour de reins,</i> Foulure de reins causée par quelque effort. <i>Avoir un tour de reins. Il s'est donné un tour de reins.</i> <p> <i>Tour de broche,</i> Révolution que fait la broche à rôtir, en tournant sur elle-même. <i>Ce chapon aurait eu besoin d'un tour de broche de plus.</i> <p> <i>Un tour, deux tours de clef,</i> Action de tourner une fois, deux fois la clef dans la serrure. <i>Il ferma la porte à double tour.</i> <p> Fig. et fam., <i>Tour de bâton,</i> Profit secret, illicite ou abusif qu'un homme tire de l'emploi, du poste qu'il occupe. <i>Son emploi lui vaut tant par an, sans les tours de bâton.</i> On dit aussi <i>Retour de bâton.</i> <p> <i>Demi-tour,</i> Demi-révolution qu'un homme fait en tournant sur ses talons. <i>Il fit demi-tour à droite.</i> <p> Fig. et fam., <i>Faire demi-tour,</i> Se retirer. <i>Je l'ai obligé à faire demi-tour.</i> <p> TOUR se dit, par extension, de Mouvements d'allée et venue, de parcours faits dans un endroit donné. <i>Faire un tour dans le jardin. Il était allé faire un tour à la campagne. Il alla faire un tour à Paris. Il fit un tour à la fête. Faites un tour jusque-là.</i> <p> <i>Il est allé faire un tour de promenade,</i> Il est allé se promener. <i>Il est allé faire un tour,</i> Il est sorti pour revenir bientôt. On dit dans le même sens : <i>Il est allé faire un tour en ville, un tour dans son pays.</i> <p> TOUR se dit aussi en parlant de Certaines choses qui vont en serpentant et qui reviennent sur elles-mêmes. <i>Cette rivière fait plusieurs tours et retours. Les tours et les retours d'un labyrinthe.</i> <p> Il se dit encore de la Circonférence d'un corps. <i>La terre a quarante mille kilomètres de tour. Cette colonne a six mètres de tour à sa partie inférieure.</i> <p> Il se dit, par extension, du Circuit d'une chose. <i>Le tour de la ville. Le tour du jardin. Cette ville a une lieue de tour. Cet arbre a huit mètres de tour.</i> <p> <i>Faire le tour de,</i> Parcourir toute la circonférence, le circuit de. <i>Faire le tour du monde. Faire le tour d'un jardin, d'un bois.</i> Il signifie aussi S'étendre autour. <i>L'enceinte fait tout le tour de la ville. Ce bracelet fait plusieurs tours autour du bras.</i> <p> Fam., <i>Faire son tour de France, d'Europe,</i> Parcourir la France, l'Europe. Il s'est dit surtout des Artisans qui voyageaient pour travailler de leur état dans différentes villes. <p> Fig. et fam., <i>Faire le tour du cadran,</i> Dormir douze heures de suite. <p> <i>Tour de taille,</i> Mesure de la ceinture. <p> <i>Tour de tête,</i> Mesure de la tête pour la coiffure. <p> <i>Tour de ville,</i> Sorte de boulevard, de promenade qui fait le tour d'une ville. <p> En termes de jeux de Cartes, <i>Jouer un tour, faire un tour,</i> Jouer un certain nombre de coups en sorte que tous les joueurs successivement aient une fois la main. <p> TOUR se dit également de Différentes choses dont on se sert, soit pour l'habillement, soit pour la parure, et qui sont mises en rond. <i>Un tour de cou. Un tour de cheveux.</i> <p> Il signifie encore Rang successif, alternatif. <i>Ce n'est pas votre tour. Vous avez laissé passer votre tour de parole. Je parlerai à mon tour. Son tour viendra. Céder son tour. Vous n'en êtes pas quitte, vous aurez votre tour. Chacun son tour.</i> <p> <i>À tour de rôle.</i> Voyez <renv>RÔLE</renv>. <p> <i>Tour de faveur</i> se dit de Toute chose qu'on fait passer avant son tour. <i>Il a obtenu, pour sa pièce, pour son article, un tour de faveur.</i> <p> TOUR se dit aussi d'une Action qui exige la promptitude, la subtilité et l'adresse de la main, ou la souplesse, l'agilité, la force du corps. <i>Tour de bateleur. Tour de passe-passe. Il sait faire des tours de cartes, des tours de main. Ce sauteur fait des tours de force extraordinaires.</i> <p> Fig., <i>Tour de force,</i> Action qui exige beaucoup de force. <i>En portant ce fardeau jusque-là, vous avez fait un tour de force.</i> On le dit également au sens moral. <i>Si vous terminez cette affaire</i> <i>aujourd'hui, vous ferez un tour de force. Une si longue improvisation est un tour de force. C'est un tour de force.</i> </p><p> Fig. et fam., <i>Avoir le tour de main,</i> Avoir la manière de faire, l'habileté, la pratique. <p> TOUR signifie figurément et familièrement, Trait d'habileté, ruse, finesse, manière d'agir adroite et ordinairement malintentionnée. <i>Il lui a joué un tour. Faire un tour, des tours à quelqu'un. Je lui revaudrai ce tour-là. Voilà un bon tour.</i> <p> Fam., <i>Le tour est joué,</i> La ruse a réussi. <p> Fig., <i>Cela vous jouera un mauvais tour</i> se dit à quelqu'un pour l'avertir qu'une chose lui sera dangereuse ou préjudiciable. <p> TOUR, en parlant d'une Affaire, se dit de la Manière dont on la fait voir, dont elle se présente, dont elle marche. <i>Il donne le tour qu'il lui plaît aux affaires. Il donne un certain tour aux choses. Il a donné un bon tour à cela. Le succès dépend du tour que le rapporteur donnera à votre affaire. Cette affaire prend un bon, un mauvais tour.</i> <p> Il désigne encore la Manière dont on exprime ses pensées et dont on arrange ses termes, soit en parlant, soit en écrivant. <i>Il y a un tour oratoire dans tout ce qu'il écrit. Il donne un tour agréable à tout ce qu'il dit. Ces vers ont un tour, sont d'un tour naturel. Tour figuré. Tour hardi. La pensée n'est pas neuve, mais le tour est nouveau. Ce tour de phrase est obscur, singulier, heureux.</i> <p> <i>Cet homme a un tour d'esprit agréable,</i> Il présente les choses sous une forme agréable. On dit aussi : <i>Un tour d'esprit original.</i> <p> TOUR se dit en outre d'une Machine dont on se sert pour façonner en rond le bois, l'ivoire, les métaux, l'argile, etc. <i>Tour de potier. Cela est fait au tour.</i> <p> Fig. et fam., <i>Cette femme a le bras, la main, la gorge, la jambe faits au tour,</i> Elle les a parfaitement bien faits. On dit dans le même sens : <i>Cet homme, cette femme sont faits au tour.</i> <p> TOUR désigne aussi une Sorte d'armoire ronde et tournant sur un pivot, qui est posée dans l'épaisseur du mur, particulièrement dans les communautés religieuses, et qui permet de faire passer diverses choses du dehors à l'intérieur ou de l'intérieur au-dehors. <p> Il s'est dit aussi d'un Appareil semblable employé à l'entrée des hospices pour le dépôt des enfants confiés à la charité publique. <p> TOUR À TOUR<br/> <font color=\"green\">loc. adv.</font><br/>L'un après l'autre, alternativement. <i>Ces deux généraux commandaient tour à tour. Parler tour à tour.</i> "
      ],
      "text/plain": [
       "<IPython.core.display.HTML object>"
      ]
     },
     "metadata": {},
     "output_type": "display_data"
    }
   ],
   "source": [
    "import sqlite3\n",
    "import pandas as pd\n",
    "from IPython.display import display, HTML\n",
    "\n",
    "# Connect to the SQLite database\n",
    "conn = sqlite3.connect('acad_pocket.db')\n",
    "\n",
    "# Write a query to fetch data\n",
    "query = \"\"\"\n",
    "SELECT * FROM dictionary\n",
    "WHERE word = 'TOUR'\n",
    "\"\"\"\n",
    "\n",
    "# Use pandas to read the data into a DataFrame\n",
    "df = pd.read_sql_query(query, conn)\n",
    "\n",
    "# Close the connection\n",
    "conn.close()\n",
    "\n",
    "# Check if the DataFrame is empty\n",
    "if df.empty:\n",
    "    print(\"No data found\")\n",
    "else:\n",
    "    print(df)\n",
    "    for ht in df.definition:\n",
    "        # Display the HTML content\n",
    "        display(HTML(ht))"
   ]
  },
  {
   "cell_type": "code",
   "execution_count": null,
   "metadata": {},
   "outputs": [],
   "source": []
  }
 ],
 "metadata": {
  "kernelspec": {
   "display_name": "Python 3",
   "language": "python",
   "name": "python3"
  },
  "language_info": {
   "codemirror_mode": {
    "name": "ipython",
    "version": 3
   },
   "file_extension": ".py",
   "mimetype": "text/x-python",
   "name": "python",
   "nbconvert_exporter": "python",
   "pygments_lexer": "ipython3",
   "version": "3.12.1"
  }
 },
 "nbformat": 4,
 "nbformat_minor": 2
}
