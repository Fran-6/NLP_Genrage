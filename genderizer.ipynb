{
 "cells": [
  {
   "cell_type": "markdown",
   "metadata": {},
   "source": [
    "### Genderizer\n",
    "Classificateur de genre : Utilisé dans le contexte de l'analyse linguistique ou du traitement automatique des langues.\n",
    "Utiliser Pytorch\n",
    "\n",
    "\n",
    "Feuille de route:\n",
    "- faire un état de l'art rapide sur le web\n",
    "    - Nooj\n",
    "    - HuggingFace\n",
    "- choisir un dictionaire gratuit open source > Dictionnaire de l’Académie française de 1932-35 (8e édition) - GLP3\n",
    "- créer une base de données de noms communs étiquetés par genre\n",
    "- faire une analyse des données"
   ]
  },
  {
   "cell_type": "code",
   "execution_count": 1,
   "metadata": {},
   "outputs": [],
   "source": [
    "import os\n",
    "from bs4 import BeautifulSoup\n",
    "import sqlite3\n",
    "import pandas as pd\n",
    "import urllib.request\n",
    "import re\n",
    "from IPython.display import display, HTML"
   ]
  },
  {
   "cell_type": "code",
   "execution_count": 11,
   "metadata": {},
   "outputs": [
    {
     "name": "stdout",
     "output_type": "stream",
     "text": [
      "Download complete.\n"
     ]
    }
   ],
   "source": [
    "# importer la source au format Mobipocket\n",
    "url = \"https://www.ebooksgratuits.com/newsendbook.php?id=1609&format=mp\"\n",
    "urllib.request.urlretrieve(url, \"aca.prc\")\n",
    "\n",
    "print(\"Download complete.\")"
   ]
  },
  {
   "cell_type": "code",
   "execution_count": 8,
   "metadata": {
    "vscode": {
     "languageId": "shellscript"
    }
   },
   "outputs": [
    {
     "name": "stdout",
     "output_type": "stream",
     "text": [
      "Requirement already satisfied: mobi in /usr/local/python/3.12.1/lib/python3.12/site-packages (0.3.3)\n",
      "Requirement already satisfied: loguru<0.7,>=0.6 in /usr/local/python/3.12.1/lib/python3.12/site-packages (from mobi) (0.6.0)\n",
      "Note: you may need to restart the kernel to use updated packages.\n"
     ]
    }
   ],
   "source": [
    "pip install mobi"
   ]
  },
  {
   "cell_type": "code",
   "execution_count": 2,
   "metadata": {},
   "outputs": [
    {
     "name": "stdout",
     "output_type": "stream",
     "text": [
      "KindleUnpack v0.82\n",
      "   Based on initial mobipocket version Copyright © 2009 Charles M. Hannum <root@ihack.net>\n",
      "   Extensive Extensions and Improvements Copyright © 2009-2014 \n",
      "       by:  P. Durrant, K. Hendricks, S. Siebert, fandrieu, DiapDealer, nickredding, tkeo.\n",
      "   This program is free software: you can redistribute it and/or modify\n",
      "   it under the terms of the GNU General Public License as published by\n",
      "   the Free Software Foundation, version 3.\n",
      "Unpacking Book...\n",
      "Completed\n"
     ]
    }
   ],
   "source": [
    "!mobiunpack -r aca.prc ./\n"
   ]
  },
  {
   "cell_type": "raw",
   "metadata": {
    "vscode": {
     "languageId": "raw"
    }
   },
   "source": [
    "\n",
    "mobi7\n",
    "├── book.html\n",
    "├── content.opf\n",
    "├── dictionnaire_academie_francaise_1932-35_8e_edition.rawml\n",
    "├── Images\n",
    "│   └── image04501.jpeg\n",
    "└── toc.ncx"
   ]
  },
  {
   "cell_type": "code",
   "execution_count": 14,
   "metadata": {},
   "outputs": [],
   "source": [
    "# prend environ 5 minutes\n",
    "\n",
    "# Read the HTML content from the file\n",
    "with open('./mobi7/book.html', 'r', encoding='utf-8') as file:\n",
    "    html_content = file.read()\n",
    "\n",
    "# Define the regular expression patterns to match <idx:orth> and <idx:entry> tags\n",
    "pattern_orth = re.compile(r'<idx:orth value=\"[^\"]*\">')\n",
    "# pattern_entry = re.compile(r'<idx:entry>.*?</idx:entry>', re.DOTALL)\n",
    "pattern_entry = re.compile(r'</idx:entry>.*?<mbp:pagebreak/>', re.DOTALL)\n",
    "\n",
    "# Find all matches for <idx:orth> and <idx:entry> tags\n",
    "orth_matches = pattern_orth.findall(html_content)\n",
    "entry_matches = pattern_entry.findall(html_content)\n"
   ]
  },
  {
   "cell_type": "code",
   "execution_count": 15,
   "metadata": {},
   "outputs": [
    {
     "name": "stdout",
     "output_type": "stream",
     "text": [
      "Number of <idx:orth> tags: 31933\n",
      "Number of <idx:entry> tags: 31933\n"
     ]
    }
   ],
   "source": [
    "\n",
    "print(\"Number of <idx:orth> tags:\", len(orth_matches))\n",
    "print(\"Number of <idx:entry> tags:\", len(entry_matches))"
   ]
  },
  {
   "cell_type": "code",
   "execution_count": 16,
   "metadata": {},
   "outputs": [
    {
     "name": "stdout",
     "output_type": "stream",
     "text": [
      "Extracted <idx:orth> tags:\n",
      "<idx:orth value=\"ZOUAVE\">\n",
      "<idx:orth value=\"ZUT\">\n",
      "<idx:orth value=\"ZYGOMA\">\n",
      "<idx:orth value=\"ZYGOMATIQUE\">\n",
      "\n",
      "Extracted <idx:entry> tags:\n",
      "</idx:entry>\n",
      "<h2><font size=\"+2\" color=\"BLUE\"><b>ZOUAVE</b></font></h2><br/> <font color=\"green\">n. m.</font><br/>Soldat d'un corps d'infanterie servant pour la plus grande partie en Afrique du Nord. <p> <i>Zouaves pontificaux,</i> Corps de volontaires constitué en 1860 par le général de Lamoricière pour la défense des États pontificaux. <mbp:pagebreak/>\n",
      "</idx:entry>\n",
      "<h2><font size=\"+2\" color=\"BLUE\"><b>ZUT</b></font></h2><br/> <font color=\"green\">interj.</font><br/>Exclamation familière pour exprimer l'impatience, le dépit, pour envoyer les gens au diable et signifier qu'on ne veut plus rien entendre. <mbp:pagebreak/>\n",
      "</idx:entry>\n",
      "<h2><font size=\"+2\" color=\"BLUE\"><b>ZYGOMA</b></font></h2><br/> <font color=\"green\">n. m.</font><br/><dom>T. d'Anatomie</dom><br/>Os de la pommette de la joue. <mbp:pagebreak/>\n",
      "</idx:entry>\n",
      "<h2><font size=\"+2\" color=\"BLUE\"><b>ZYGOMATIQUE </b></font></h2><br/> <font color=\"green\">adj. des deux genres.</font><br/><dom>T. d'Anatomie.</dom><br/>Qui appartient au zygoma. <i>Arcade zygomatique,</i> Arcade osseuse formée, au bas de la tempe, par l'os de la pommette et le temporal.<p> <i>Muscle zygomatique,</i> Chacun des deux muscles qui tirent les coins de la bouche vers les oreilles et qui agissent principalement dans l'action du rire. <mbp:pagebreak/>\n"
     ]
    }
   ],
   "source": [
    "\n",
    "# Print the last extracted tags\n",
    "print(\"Extracted <idx:orth> tags:\")\n",
    "for tag in orth_matches[-4:]:\n",
    "    print(tag)\n",
    "\n",
    "print(\"\\nExtracted <idx:entry> tags:\")\n",
    "for tag in entry_matches[-4:]:\n",
    "    print(tag)"
   ]
  },
  {
   "cell_type": "code",
   "execution_count": 18,
   "metadata": {},
   "outputs": [
    {
     "name": "stdout",
     "output_type": "stream",
     "text": [
      "Dictionary has been saved to acad_pocket.db\n"
     ]
    }
   ],
   "source": [
    "import os\n",
    "import sqlite3\n",
    "\n",
    "db_file = \"acad_pocket.db\"         # SQLite database file\n",
    "\n",
    "\n",
    "\n",
    "# === STEP 2: INITIALIZE SQLITE DATABASE ===\n",
    "conn = sqlite3.connect(db_file)\n",
    "cursor = conn.cursor()\n",
    "\n",
    "# Create a table for words and definitions\n",
    "cursor.execute(\"\"\"\n",
    "    CREATE TABLE IF NOT EXISTS dictionary (\n",
    "        id INTEGER PRIMARY KEY AUTOINCREMENT,\n",
    "        word TEXT,\n",
    "        definition TEXT\n",
    "    )\n",
    "\"\"\")\n",
    "\n",
    "\n",
    "# Insert words and definitions into the database\n",
    "for word, definition in zip(orth_matches, entry_matches):\n",
    "\n",
    "    word = re.search(r'value=\"([^\"]*)\"', word).group(1)\n",
    "    definition = definition.replace('</idx:entry>', '').replace('<mbp:pagebreak/>', '')\n",
    "    \n",
    "    try:\n",
    "        cursor.execute(\"INSERT INTO dictionary (word, definition) VALUES (?, ?)\", (word, definition))\n",
    "        \n",
    "    except sqlite3.IntegrityError:\n",
    "        pass  # Ignore duplicate words\n",
    "\n",
    "# === STEP 4: FINALIZE ===\n",
    "conn.commit()\n",
    "conn.close()\n",
    "\n",
    "print(f\"Dictionary has been saved to {db_file}\")"
   ]
  },
  {
   "cell_type": "code",
   "execution_count": 59,
   "metadata": {},
   "outputs": [],
   "source": [
    "def acad_definition(word):\n",
    "    # Connect to the SQLite database\n",
    "    conn = sqlite3.connect('acad_pocket.db')\n",
    "\n",
    "    # Write a query to fetch data\n",
    "    query = \"\"\"\n",
    "    SELECT * FROM dictionary\n",
    "    WHERE word = '{}'\n",
    "    \"\"\".format(word.upper())\n",
    "\n",
    "    # Use pandas to read the data into a DataFrame\n",
    "    df_ = pd.read_sql_query(query, conn)\n",
    "\n",
    "    # Close the connection\n",
    "    conn.close()\n",
    "\n",
    "    # Check if the DataFrame is empty\n",
    "    if df_.empty:\n",
    "        print(\"Absent du dictionnaire de l'Académie Française de 1935\")\n",
    "    else:\n",
    "        # Display the DataFrame with full column content\n",
    "        pd.set_option('display.max_colwidth', None)\n",
    "        display(df_)\n",
    "        pd.reset_option('display.max_colwidth')\n",
    "        for ht in df_.definition:\n",
    "            # Display the HTML content\n",
    "            display(HTML(ht))\n",
    "\n",
    "    del df_, query, conn"
   ]
  },
  {
   "cell_type": "code",
   "execution_count": 60,
   "metadata": {},
   "outputs": [
    {
     "data": {
      "text/html": [
       "<div>\n",
       "<style scoped>\n",
       "    .dataframe tbody tr th:only-of-type {\n",
       "        vertical-align: middle;\n",
       "    }\n",
       "\n",
       "    .dataframe tbody tr th {\n",
       "        vertical-align: top;\n",
       "    }\n",
       "\n",
       "    .dataframe thead th {\n",
       "        text-align: right;\n",
       "    }\n",
       "</style>\n",
       "<table border=\"1\" class=\"dataframe\">\n",
       "  <thead>\n",
       "    <tr style=\"text-align: right;\">\n",
       "      <th></th>\n",
       "      <th>id</th>\n",
       "      <th>word</th>\n",
       "      <th>definition</th>\n",
       "    </tr>\n",
       "  </thead>\n",
       "  <tbody>\n",
       "    <tr>\n",
       "      <th>0</th>\n",
       "      <td>30201</td>\n",
       "      <td>TOUR</td>\n",
       "      <td>\\n&lt;h2&gt;&lt;font size=\"+2\" color=\"BLUE\"&gt;&lt;b&gt;TOUR&lt;/b&gt;&lt;/font&gt;&lt;/h2&gt;&lt;br/&gt; &lt;font color=\"green\"&gt;n. f.&lt;/font&gt;&lt;br/&gt;Sorte de bâtiment élevé, rond, carré ou polygonal, dont on fortifiait jadis l'enceinte des villes, des châteaux, etc., ou qui sert de clocher, de phare, etc. &lt;i&gt;Haute tour. Tour ronde. Tour carrée. Tour crénelée. Monter dans une tour, sur une tour. Du haut de la tour. Au pied de la tour. Une muraille flanquée de tours. Les créneaux d'une tour. La tour de Babel. La tour de Londres. La tour de Cordouan, qui sert de phare à l'embouchure de la Gironde. Les tours de Notre-Dame. La Tour de l'Horloge.&lt;/i&gt; &lt;p&gt; Fig. et fam., &lt;i&gt;Tour de Babel,&lt;/i&gt; Lieu où tout le monde parle à la fois et sans s'entendre. &lt;i&gt;Cette assemblée est une vraie tour de Babel.&lt;/i&gt; &lt;p&gt; TOUR se dit aussi de Machines de guerre que les anciens attachaient sur le dos des éléphants de combat et dans lesquelles ils plaçaient ordinairement des archers. &lt;p&gt; En termes de jeu d'Échecs, il se dit d'une Pièce qu'on place à l'angle de l'échiquier et qui a la forme d'une tour crénelée. &lt;i&gt;Donner échec et mat avec la tour.&lt;/i&gt;</td>\n",
       "    </tr>\n",
       "    <tr>\n",
       "      <th>1</th>\n",
       "      <td>30202</td>\n",
       "      <td>TOUR</td>\n",
       "      <td>\\n&lt;h2&gt;&lt;font size=\"+2\" color=\"BLUE\"&gt;&lt;b&gt;TOUR&lt;/b&gt;&lt;/font&gt;&lt;/h2&gt;&lt;br/&gt; &lt;font color=\"green\"&gt;n. m.&lt;/font&gt;&lt;br/&gt;Mouvement circulaire, mouvement de rotation. &lt;i&gt;Tour de roue. Faire un tour sur soi-même.&lt;/i&gt; &lt;p&gt; Fam., &lt;i&gt;À tour de bras,&lt;/i&gt; De toute la force du bras. Il signifie figurément En déployant toute sa force. &lt;i&gt;Tomber sur quelqu'un à tour de bras.&lt;/i&gt; &lt;p&gt; Fam. et par exagération, &lt;i&gt;En un tour de main,&lt;/i&gt; En aussi peu de temps qu'il en faut pour tourner la main. &lt;i&gt;Il change d'avis en un tour de main. Cela a été fait en un tour de main.&lt;/i&gt; &lt;p&gt; &lt;i&gt;Tour de reins,&lt;/i&gt; Foulure de reins causée par quelque effort. &lt;i&gt;Avoir un tour de reins. Il s'est donné un tour de reins.&lt;/i&gt; &lt;p&gt; &lt;i&gt;Tour de broche,&lt;/i&gt; Révolution que fait la broche à rôtir, en tournant sur elle-même. &lt;i&gt;Ce chapon aurait eu besoin d'un tour de broche de plus.&lt;/i&gt; &lt;p&gt; &lt;i&gt;Un tour, deux tours de clef,&lt;/i&gt; Action de tourner une fois, deux fois la clef dans la serrure. &lt;i&gt;Il ferma la porte à double tour.&lt;/i&gt; &lt;p&gt; Fig. et fam., &lt;i&gt;Tour de bâton,&lt;/i&gt; Profit secret, illicite ou abusif qu'un homme tire de l'emploi, du poste qu'il occupe. &lt;i&gt;Son emploi lui vaut tant par an, sans les tours de bâton.&lt;/i&gt; On dit aussi &lt;i&gt;Retour de bâton.&lt;/i&gt; &lt;p&gt; &lt;i&gt;Demi-tour,&lt;/i&gt; Demi-révolution qu'un homme fait en tournant sur ses talons. &lt;i&gt;Il fit demi-tour à droite.&lt;/i&gt; &lt;p&gt; Fig. et fam., &lt;i&gt;Faire demi-tour,&lt;/i&gt; Se retirer. &lt;i&gt;Je l'ai obligé à faire demi-tour.&lt;/i&gt; &lt;p&gt; TOUR se dit, par extension, de Mouvements d'allée et venue, de parcours faits dans un endroit donné. &lt;i&gt;Faire un tour dans le jardin. Il était allé faire un tour à la campagne. Il alla faire un tour à Paris. Il fit un tour à la fête. Faites un tour jusque-là.&lt;/i&gt; &lt;p&gt; &lt;i&gt;Il est allé faire un tour de promenade,&lt;/i&gt; Il est allé se promener. &lt;i&gt;Il est allé faire un tour,&lt;/i&gt; Il est sorti pour revenir bientôt. On dit dans le même sens : &lt;i&gt;Il est allé faire un tour en ville, un tour dans son pays.&lt;/i&gt; &lt;p&gt; TOUR se dit aussi en parlant de Certaines choses qui vont en serpentant et qui reviennent sur elles-mêmes. &lt;i&gt;Cette rivière fait plusieurs tours et retours. Les tours et les retours d'un labyrinthe.&lt;/i&gt; &lt;p&gt; Il se dit encore de la Circonférence d'un corps. &lt;i&gt;La terre a quarante mille kilomètres de tour. Cette colonne a six mètres de tour à sa partie inférieure.&lt;/i&gt; &lt;p&gt; Il se dit, par extension, du Circuit d'une chose. &lt;i&gt;Le tour de la ville. Le tour du jardin. Cette ville a une lieue de tour. Cet arbre a huit mètres de tour.&lt;/i&gt; &lt;p&gt; &lt;i&gt;Faire le tour de,&lt;/i&gt; Parcourir toute la circonférence, le circuit de. &lt;i&gt;Faire le tour du monde. Faire le tour d'un jardin, d'un bois.&lt;/i&gt; Il signifie aussi S'étendre autour. &lt;i&gt;L'enceinte fait tout le tour de la ville. Ce bracelet fait plusieurs tours autour du bras.&lt;/i&gt; &lt;p&gt; Fam., &lt;i&gt;Faire son tour de France, d'Europe,&lt;/i&gt; Parcourir la France, l'Europe. Il s'est dit surtout des Artisans qui voyageaient pour travailler de leur état dans différentes villes. &lt;p&gt; Fig. et fam., &lt;i&gt;Faire le tour du cadran,&lt;/i&gt; Dormir douze heures de suite. &lt;p&gt; &lt;i&gt;Tour de taille,&lt;/i&gt; Mesure de la ceinture. &lt;p&gt; &lt;i&gt;Tour de tête,&lt;/i&gt; Mesure de la tête pour la coiffure. &lt;p&gt; &lt;i&gt;Tour de ville,&lt;/i&gt; Sorte de boulevard, de promenade qui fait le tour d'une ville. &lt;p&gt; En termes de jeux de Cartes, &lt;i&gt;Jouer un tour, faire un tour,&lt;/i&gt; Jouer un certain nombre de coups en sorte que tous les joueurs successivement aient une fois la main. &lt;p&gt; TOUR se dit également de Différentes choses dont on se sert, soit pour l'habillement, soit pour la parure, et qui sont mises en rond. &lt;i&gt;Un tour de cou. Un tour de cheveux.&lt;/i&gt; &lt;p&gt; Il signifie encore Rang successif, alternatif. &lt;i&gt;Ce n'est pas votre tour. Vous avez laissé passer votre tour de parole. Je parlerai à mon tour. Son tour viendra. Céder son tour. Vous n'en êtes pas quitte, vous aurez votre tour. Chacun son tour.&lt;/i&gt; &lt;p&gt; &lt;i&gt;À tour de rôle.&lt;/i&gt; Voyez &lt;renv&gt;RÔLE&lt;/renv&gt;. &lt;p&gt; &lt;i&gt;Tour de faveur&lt;/i&gt; se dit de Toute chose qu'on fait passer avant son tour. &lt;i&gt;Il a obtenu, pour sa pièce, pour son article, un tour de faveur.&lt;/i&gt; &lt;p&gt; TOUR se dit aussi d'une Action qui exige la promptitude, la subtilité et l'adresse de la main, ou la souplesse, l'agilité, la force du corps. &lt;i&gt;Tour de bateleur. Tour de passe-passe. Il sait faire des tours de cartes, des tours de main. Ce sauteur fait des tours de force extraordinaires.&lt;/i&gt; &lt;p&gt; Fig., &lt;i&gt;Tour de force,&lt;/i&gt; Action qui exige beaucoup de force. &lt;i&gt;En portant ce fardeau jusque-là, vous avez fait un tour de force.&lt;/i&gt; On le dit également au sens moral. &lt;i&gt;Si vous terminez cette affaire&lt;/i&gt; &lt;i&gt;aujourd'hui, vous ferez un tour de force. Une si longue improvisation est un tour de force. C'est un tour de force.&lt;/i&gt; &lt;/p&gt;&lt;p&gt; Fig. et fam., &lt;i&gt;Avoir le tour de main,&lt;/i&gt; Avoir la manière de faire, l'habileté, la pratique. &lt;p&gt; TOUR signifie figurément et familièrement, Trait d'habileté, ruse, finesse, manière d'agir adroite et ordinairement malintentionnée. &lt;i&gt;Il lui a joué un tour. Faire un tour, des tours à quelqu'un. Je lui revaudrai ce tour-là. Voilà un bon tour.&lt;/i&gt; &lt;p&gt; Fam., &lt;i&gt;Le tour est joué,&lt;/i&gt; La ruse a réussi. &lt;p&gt; Fig., &lt;i&gt;Cela vous jouera un mauvais tour&lt;/i&gt; se dit à quelqu'un pour l'avertir qu'une chose lui sera dangereuse ou préjudiciable. &lt;p&gt; TOUR, en parlant d'une Affaire, se dit de la Manière dont on la fait voir, dont elle se présente, dont elle marche. &lt;i&gt;Il donne le tour qu'il lui plaît aux affaires. Il donne un certain tour aux choses. Il a donné un bon tour à cela. Le succès dépend du tour que le rapporteur donnera à votre affaire. Cette affaire prend un bon, un mauvais tour.&lt;/i&gt; &lt;p&gt; Il désigne encore la Manière dont on exprime ses pensées et dont on arrange ses termes, soit en parlant, soit en écrivant. &lt;i&gt;Il y a un tour oratoire dans tout ce qu'il écrit. Il donne un tour agréable à tout ce qu'il dit. Ces vers ont un tour, sont d'un tour naturel. Tour figuré. Tour hardi. La pensée n'est pas neuve, mais le tour est nouveau. Ce tour de phrase est obscur, singulier, heureux.&lt;/i&gt; &lt;p&gt; &lt;i&gt;Cet homme a un tour d'esprit agréable,&lt;/i&gt; Il présente les choses sous une forme agréable. On dit aussi : &lt;i&gt;Un tour d'esprit original.&lt;/i&gt; &lt;p&gt; TOUR se dit en outre d'une Machine dont on se sert pour façonner en rond le bois, l'ivoire, les métaux, l'argile, etc. &lt;i&gt;Tour de potier. Cela est fait au tour.&lt;/i&gt; &lt;p&gt; Fig. et fam., &lt;i&gt;Cette femme a le bras, la main, la gorge, la jambe faits au tour,&lt;/i&gt; Elle les a parfaitement bien faits. On dit dans le même sens : &lt;i&gt;Cet homme, cette femme sont faits au tour.&lt;/i&gt; &lt;p&gt; TOUR désigne aussi une Sorte d'armoire ronde et tournant sur un pivot, qui est posée dans l'épaisseur du mur, particulièrement dans les communautés religieuses, et qui permet de faire passer diverses choses du dehors à l'intérieur ou de l'intérieur au-dehors. &lt;p&gt; Il s'est dit aussi d'un Appareil semblable employé à l'entrée des hospices pour le dépôt des enfants confiés à la charité publique. &lt;p&gt; TOUR À TOUR&lt;br/&gt; &lt;font color=\"green\"&gt;loc. adv.&lt;/font&gt;&lt;br/&gt;L'un après l'autre, alternativement. &lt;i&gt;Ces deux généraux commandaient tour à tour. Parler tour à tour.&lt;/i&gt;</td>\n",
       "    </tr>\n",
       "  </tbody>\n",
       "</table>\n",
       "</div>"
      ],
      "text/plain": [
       "      id  word  \\\n",
       "0  30201  TOUR   \n",
       "1  30202  TOUR   \n",
       "\n",
       "                                                                                                                                                                                                                                                                                                                                                                                                                                                                                                                                                                                                                                                                                                                                                                                                                                                                                                                                                                                                                                                                                                                                                                                                                                                                                                                                                                                                                                                                                                                                                                                                                                                                                                                                                                                                                                                                                                                                                                                                                                                                                                                                                                                                                                                                                                                                                                                                                                                                                                                                                                                                                                                                                                                                                                                                                                                                                                                                                                                                                                                                                                                                                                                                                                                                                                                                                                                                                                                                                                                                                                                                                                                                                                                                                                                                                                                                                                                                                                                                                                                                                                                                                                                                                                                                                                                                                                                                                                                                                                                                                                                                                                                                                                                                                                                                                                                                                                                                                                                                                                                                                                                                                                                                                                                                                                                                                                                                                                                                                                                                                                                                                                                                                                                                                                                                                                                                                                                                                                                                                                                                                                                                                                                                                                                                                                                                                                                                                                                                                                                                                                                                                                                                                                                                                                                                                                                                                                                                                                                                                                                                                                                                                                                                                                                                                                                                         definition  \n",
       "0                                                                                                                                                                                                                                                                                                                                                                                                                                                                                                                                                                                                                                                                                                                                                                                                                                                                                                                                                                                                                                                                                                                                                                                                                                                                                                                                                                                                                                                                                                                                                                                                                                                                                                                                                                                                                                                                                                                                                                                                                                                                                                                                                                                                                                                                                                                                                                                                                                                                                                                                                                                                                                                                                                                                                                                                                                                                                                                                                                                                                                                                                                                                                                                                                                                                                                                                                                                                                                                                                                                                                                                                                                                                                                                                                                                                                                                                                                                                                                                                                                                                                                                                                                                                                                                                                                                                                                                                                                                                                                                                                                                                                                                                                                                                                                                                                                                                                                                                                                                                                                                                                                                                                                                                                                                                                                                                                                                                                                                                                                                                                                                                                                                                                                                                                                                                                                                                                                                                                                                                                                                                                                                                                                                                              \\n<h2><font size=\"+2\" color=\"BLUE\"><b>TOUR</b></font></h2><br/> <font color=\"green\">n. f.</font><br/>Sorte de bâtiment élevé, rond, carré ou polygonal, dont on fortifiait jadis l'enceinte des villes, des châteaux, etc., ou qui sert de clocher, de phare, etc. <i>Haute tour. Tour ronde. Tour carrée. Tour crénelée. Monter dans une tour, sur une tour. Du haut de la tour. Au pied de la tour. Une muraille flanquée de tours. Les créneaux d'une tour. La tour de Babel. La tour de Londres. La tour de Cordouan, qui sert de phare à l'embouchure de la Gironde. Les tours de Notre-Dame. La Tour de l'Horloge.</i> <p> Fig. et fam., <i>Tour de Babel,</i> Lieu où tout le monde parle à la fois et sans s'entendre. <i>Cette assemblée est une vraie tour de Babel.</i> <p> TOUR se dit aussi de Machines de guerre que les anciens attachaient sur le dos des éléphants de combat et dans lesquelles ils plaçaient ordinairement des archers. <p> En termes de jeu d'Échecs, il se dit d'une Pièce qu'on place à l'angle de l'échiquier et qui a la forme d'une tour crénelée. <i>Donner échec et mat avec la tour.</i>   \n",
       "1  \\n<h2><font size=\"+2\" color=\"BLUE\"><b>TOUR</b></font></h2><br/> <font color=\"green\">n. m.</font><br/>Mouvement circulaire, mouvement de rotation. <i>Tour de roue. Faire un tour sur soi-même.</i> <p> Fam., <i>À tour de bras,</i> De toute la force du bras. Il signifie figurément En déployant toute sa force. <i>Tomber sur quelqu'un à tour de bras.</i> <p> Fam. et par exagération, <i>En un tour de main,</i> En aussi peu de temps qu'il en faut pour tourner la main. <i>Il change d'avis en un tour de main. Cela a été fait en un tour de main.</i> <p> <i>Tour de reins,</i> Foulure de reins causée par quelque effort. <i>Avoir un tour de reins. Il s'est donné un tour de reins.</i> <p> <i>Tour de broche,</i> Révolution que fait la broche à rôtir, en tournant sur elle-même. <i>Ce chapon aurait eu besoin d'un tour de broche de plus.</i> <p> <i>Un tour, deux tours de clef,</i> Action de tourner une fois, deux fois la clef dans la serrure. <i>Il ferma la porte à double tour.</i> <p> Fig. et fam., <i>Tour de bâton,</i> Profit secret, illicite ou abusif qu'un homme tire de l'emploi, du poste qu'il occupe. <i>Son emploi lui vaut tant par an, sans les tours de bâton.</i> On dit aussi <i>Retour de bâton.</i> <p> <i>Demi-tour,</i> Demi-révolution qu'un homme fait en tournant sur ses talons. <i>Il fit demi-tour à droite.</i> <p> Fig. et fam., <i>Faire demi-tour,</i> Se retirer. <i>Je l'ai obligé à faire demi-tour.</i> <p> TOUR se dit, par extension, de Mouvements d'allée et venue, de parcours faits dans un endroit donné. <i>Faire un tour dans le jardin. Il était allé faire un tour à la campagne. Il alla faire un tour à Paris. Il fit un tour à la fête. Faites un tour jusque-là.</i> <p> <i>Il est allé faire un tour de promenade,</i> Il est allé se promener. <i>Il est allé faire un tour,</i> Il est sorti pour revenir bientôt. On dit dans le même sens : <i>Il est allé faire un tour en ville, un tour dans son pays.</i> <p> TOUR se dit aussi en parlant de Certaines choses qui vont en serpentant et qui reviennent sur elles-mêmes. <i>Cette rivière fait plusieurs tours et retours. Les tours et les retours d'un labyrinthe.</i> <p> Il se dit encore de la Circonférence d'un corps. <i>La terre a quarante mille kilomètres de tour. Cette colonne a six mètres de tour à sa partie inférieure.</i> <p> Il se dit, par extension, du Circuit d'une chose. <i>Le tour de la ville. Le tour du jardin. Cette ville a une lieue de tour. Cet arbre a huit mètres de tour.</i> <p> <i>Faire le tour de,</i> Parcourir toute la circonférence, le circuit de. <i>Faire le tour du monde. Faire le tour d'un jardin, d'un bois.</i> Il signifie aussi S'étendre autour. <i>L'enceinte fait tout le tour de la ville. Ce bracelet fait plusieurs tours autour du bras.</i> <p> Fam., <i>Faire son tour de France, d'Europe,</i> Parcourir la France, l'Europe. Il s'est dit surtout des Artisans qui voyageaient pour travailler de leur état dans différentes villes. <p> Fig. et fam., <i>Faire le tour du cadran,</i> Dormir douze heures de suite. <p> <i>Tour de taille,</i> Mesure de la ceinture. <p> <i>Tour de tête,</i> Mesure de la tête pour la coiffure. <p> <i>Tour de ville,</i> Sorte de boulevard, de promenade qui fait le tour d'une ville. <p> En termes de jeux de Cartes, <i>Jouer un tour, faire un tour,</i> Jouer un certain nombre de coups en sorte que tous les joueurs successivement aient une fois la main. <p> TOUR se dit également de Différentes choses dont on se sert, soit pour l'habillement, soit pour la parure, et qui sont mises en rond. <i>Un tour de cou. Un tour de cheveux.</i> <p> Il signifie encore Rang successif, alternatif. <i>Ce n'est pas votre tour. Vous avez laissé passer votre tour de parole. Je parlerai à mon tour. Son tour viendra. Céder son tour. Vous n'en êtes pas quitte, vous aurez votre tour. Chacun son tour.</i> <p> <i>À tour de rôle.</i> Voyez <renv>RÔLE</renv>. <p> <i>Tour de faveur</i> se dit de Toute chose qu'on fait passer avant son tour. <i>Il a obtenu, pour sa pièce, pour son article, un tour de faveur.</i> <p> TOUR se dit aussi d'une Action qui exige la promptitude, la subtilité et l'adresse de la main, ou la souplesse, l'agilité, la force du corps. <i>Tour de bateleur. Tour de passe-passe. Il sait faire des tours de cartes, des tours de main. Ce sauteur fait des tours de force extraordinaires.</i> <p> Fig., <i>Tour de force,</i> Action qui exige beaucoup de force. <i>En portant ce fardeau jusque-là, vous avez fait un tour de force.</i> On le dit également au sens moral. <i>Si vous terminez cette affaire</i> <i>aujourd'hui, vous ferez un tour de force. Une si longue improvisation est un tour de force. C'est un tour de force.</i> </p><p> Fig. et fam., <i>Avoir le tour de main,</i> Avoir la manière de faire, l'habileté, la pratique. <p> TOUR signifie figurément et familièrement, Trait d'habileté, ruse, finesse, manière d'agir adroite et ordinairement malintentionnée. <i>Il lui a joué un tour. Faire un tour, des tours à quelqu'un. Je lui revaudrai ce tour-là. Voilà un bon tour.</i> <p> Fam., <i>Le tour est joué,</i> La ruse a réussi. <p> Fig., <i>Cela vous jouera un mauvais tour</i> se dit à quelqu'un pour l'avertir qu'une chose lui sera dangereuse ou préjudiciable. <p> TOUR, en parlant d'une Affaire, se dit de la Manière dont on la fait voir, dont elle se présente, dont elle marche. <i>Il donne le tour qu'il lui plaît aux affaires. Il donne un certain tour aux choses. Il a donné un bon tour à cela. Le succès dépend du tour que le rapporteur donnera à votre affaire. Cette affaire prend un bon, un mauvais tour.</i> <p> Il désigne encore la Manière dont on exprime ses pensées et dont on arrange ses termes, soit en parlant, soit en écrivant. <i>Il y a un tour oratoire dans tout ce qu'il écrit. Il donne un tour agréable à tout ce qu'il dit. Ces vers ont un tour, sont d'un tour naturel. Tour figuré. Tour hardi. La pensée n'est pas neuve, mais le tour est nouveau. Ce tour de phrase est obscur, singulier, heureux.</i> <p> <i>Cet homme a un tour d'esprit agréable,</i> Il présente les choses sous une forme agréable. On dit aussi : <i>Un tour d'esprit original.</i> <p> TOUR se dit en outre d'une Machine dont on se sert pour façonner en rond le bois, l'ivoire, les métaux, l'argile, etc. <i>Tour de potier. Cela est fait au tour.</i> <p> Fig. et fam., <i>Cette femme a le bras, la main, la gorge, la jambe faits au tour,</i> Elle les a parfaitement bien faits. On dit dans le même sens : <i>Cet homme, cette femme sont faits au tour.</i> <p> TOUR désigne aussi une Sorte d'armoire ronde et tournant sur un pivot, qui est posée dans l'épaisseur du mur, particulièrement dans les communautés religieuses, et qui permet de faire passer diverses choses du dehors à l'intérieur ou de l'intérieur au-dehors. <p> Il s'est dit aussi d'un Appareil semblable employé à l'entrée des hospices pour le dépôt des enfants confiés à la charité publique. <p> TOUR À TOUR<br/> <font color=\"green\">loc. adv.</font><br/>L'un après l'autre, alternativement. <i>Ces deux généraux commandaient tour à tour. Parler tour à tour.</i>   "
      ]
     },
     "metadata": {},
     "output_type": "display_data"
    },
    {
     "data": {
      "text/html": [
       "\n",
       "<h2><font size=\"+2\" color=\"BLUE\"><b>TOUR</b></font></h2><br/> <font color=\"green\">n. f.</font><br/>Sorte de bâtiment élevé, rond, carré ou polygonal, dont on fortifiait jadis l'enceinte des villes, des châteaux, etc., ou qui sert de clocher, de phare, etc. <i>Haute tour. Tour ronde. Tour carrée. Tour crénelée. Monter dans une tour, sur une tour. Du haut de la tour. Au pied de la tour. Une muraille flanquée de tours. Les créneaux d'une tour. La tour de Babel. La tour de Londres. La tour de Cordouan, qui sert de phare à l'embouchure de la Gironde. Les tours de Notre-Dame. La Tour de l'Horloge.</i> <p> Fig. et fam., <i>Tour de Babel,</i> Lieu où tout le monde parle à la fois et sans s'entendre. <i>Cette assemblée est une vraie tour de Babel.</i> <p> TOUR se dit aussi de Machines de guerre que les anciens attachaient sur le dos des éléphants de combat et dans lesquelles ils plaçaient ordinairement des archers. <p> En termes de jeu d'Échecs, il se dit d'une Pièce qu'on place à l'angle de l'échiquier et qui a la forme d'une tour crénelée. <i>Donner échec et mat avec la tour.</i> "
      ],
      "text/plain": [
       "<IPython.core.display.HTML object>"
      ]
     },
     "metadata": {},
     "output_type": "display_data"
    },
    {
     "data": {
      "text/html": [
       "\n",
       "<h2><font size=\"+2\" color=\"BLUE\"><b>TOUR</b></font></h2><br/> <font color=\"green\">n. m.</font><br/>Mouvement circulaire, mouvement de rotation. <i>Tour de roue. Faire un tour sur soi-même.</i> <p> Fam., <i>À tour de bras,</i> De toute la force du bras. Il signifie figurément En déployant toute sa force. <i>Tomber sur quelqu'un à tour de bras.</i> <p> Fam. et par exagération, <i>En un tour de main,</i> En aussi peu de temps qu'il en faut pour tourner la main. <i>Il change d'avis en un tour de main. Cela a été fait en un tour de main.</i> <p> <i>Tour de reins,</i> Foulure de reins causée par quelque effort. <i>Avoir un tour de reins. Il s'est donné un tour de reins.</i> <p> <i>Tour de broche,</i> Révolution que fait la broche à rôtir, en tournant sur elle-même. <i>Ce chapon aurait eu besoin d'un tour de broche de plus.</i> <p> <i>Un tour, deux tours de clef,</i> Action de tourner une fois, deux fois la clef dans la serrure. <i>Il ferma la porte à double tour.</i> <p> Fig. et fam., <i>Tour de bâton,</i> Profit secret, illicite ou abusif qu'un homme tire de l'emploi, du poste qu'il occupe. <i>Son emploi lui vaut tant par an, sans les tours de bâton.</i> On dit aussi <i>Retour de bâton.</i> <p> <i>Demi-tour,</i> Demi-révolution qu'un homme fait en tournant sur ses talons. <i>Il fit demi-tour à droite.</i> <p> Fig. et fam., <i>Faire demi-tour,</i> Se retirer. <i>Je l'ai obligé à faire demi-tour.</i> <p> TOUR se dit, par extension, de Mouvements d'allée et venue, de parcours faits dans un endroit donné. <i>Faire un tour dans le jardin. Il était allé faire un tour à la campagne. Il alla faire un tour à Paris. Il fit un tour à la fête. Faites un tour jusque-là.</i> <p> <i>Il est allé faire un tour de promenade,</i> Il est allé se promener. <i>Il est allé faire un tour,</i> Il est sorti pour revenir bientôt. On dit dans le même sens : <i>Il est allé faire un tour en ville, un tour dans son pays.</i> <p> TOUR se dit aussi en parlant de Certaines choses qui vont en serpentant et qui reviennent sur elles-mêmes. <i>Cette rivière fait plusieurs tours et retours. Les tours et les retours d'un labyrinthe.</i> <p> Il se dit encore de la Circonférence d'un corps. <i>La terre a quarante mille kilomètres de tour. Cette colonne a six mètres de tour à sa partie inférieure.</i> <p> Il se dit, par extension, du Circuit d'une chose. <i>Le tour de la ville. Le tour du jardin. Cette ville a une lieue de tour. Cet arbre a huit mètres de tour.</i> <p> <i>Faire le tour de,</i> Parcourir toute la circonférence, le circuit de. <i>Faire le tour du monde. Faire le tour d'un jardin, d'un bois.</i> Il signifie aussi S'étendre autour. <i>L'enceinte fait tout le tour de la ville. Ce bracelet fait plusieurs tours autour du bras.</i> <p> Fam., <i>Faire son tour de France, d'Europe,</i> Parcourir la France, l'Europe. Il s'est dit surtout des Artisans qui voyageaient pour travailler de leur état dans différentes villes. <p> Fig. et fam., <i>Faire le tour du cadran,</i> Dormir douze heures de suite. <p> <i>Tour de taille,</i> Mesure de la ceinture. <p> <i>Tour de tête,</i> Mesure de la tête pour la coiffure. <p> <i>Tour de ville,</i> Sorte de boulevard, de promenade qui fait le tour d'une ville. <p> En termes de jeux de Cartes, <i>Jouer un tour, faire un tour,</i> Jouer un certain nombre de coups en sorte que tous les joueurs successivement aient une fois la main. <p> TOUR se dit également de Différentes choses dont on se sert, soit pour l'habillement, soit pour la parure, et qui sont mises en rond. <i>Un tour de cou. Un tour de cheveux.</i> <p> Il signifie encore Rang successif, alternatif. <i>Ce n'est pas votre tour. Vous avez laissé passer votre tour de parole. Je parlerai à mon tour. Son tour viendra. Céder son tour. Vous n'en êtes pas quitte, vous aurez votre tour. Chacun son tour.</i> <p> <i>À tour de rôle.</i> Voyez <renv>RÔLE</renv>. <p> <i>Tour de faveur</i> se dit de Toute chose qu'on fait passer avant son tour. <i>Il a obtenu, pour sa pièce, pour son article, un tour de faveur.</i> <p> TOUR se dit aussi d'une Action qui exige la promptitude, la subtilité et l'adresse de la main, ou la souplesse, l'agilité, la force du corps. <i>Tour de bateleur. Tour de passe-passe. Il sait faire des tours de cartes, des tours de main. Ce sauteur fait des tours de force extraordinaires.</i> <p> Fig., <i>Tour de force,</i> Action qui exige beaucoup de force. <i>En portant ce fardeau jusque-là, vous avez fait un tour de force.</i> On le dit également au sens moral. <i>Si vous terminez cette affaire</i> <i>aujourd'hui, vous ferez un tour de force. Une si longue improvisation est un tour de force. C'est un tour de force.</i> </p><p> Fig. et fam., <i>Avoir le tour de main,</i> Avoir la manière de faire, l'habileté, la pratique. <p> TOUR signifie figurément et familièrement, Trait d'habileté, ruse, finesse, manière d'agir adroite et ordinairement malintentionnée. <i>Il lui a joué un tour. Faire un tour, des tours à quelqu'un. Je lui revaudrai ce tour-là. Voilà un bon tour.</i> <p> Fam., <i>Le tour est joué,</i> La ruse a réussi. <p> Fig., <i>Cela vous jouera un mauvais tour</i> se dit à quelqu'un pour l'avertir qu'une chose lui sera dangereuse ou préjudiciable. <p> TOUR, en parlant d'une Affaire, se dit de la Manière dont on la fait voir, dont elle se présente, dont elle marche. <i>Il donne le tour qu'il lui plaît aux affaires. Il donne un certain tour aux choses. Il a donné un bon tour à cela. Le succès dépend du tour que le rapporteur donnera à votre affaire. Cette affaire prend un bon, un mauvais tour.</i> <p> Il désigne encore la Manière dont on exprime ses pensées et dont on arrange ses termes, soit en parlant, soit en écrivant. <i>Il y a un tour oratoire dans tout ce qu'il écrit. Il donne un tour agréable à tout ce qu'il dit. Ces vers ont un tour, sont d'un tour naturel. Tour figuré. Tour hardi. La pensée n'est pas neuve, mais le tour est nouveau. Ce tour de phrase est obscur, singulier, heureux.</i> <p> <i>Cet homme a un tour d'esprit agréable,</i> Il présente les choses sous une forme agréable. On dit aussi : <i>Un tour d'esprit original.</i> <p> TOUR se dit en outre d'une Machine dont on se sert pour façonner en rond le bois, l'ivoire, les métaux, l'argile, etc. <i>Tour de potier. Cela est fait au tour.</i> <p> Fig. et fam., <i>Cette femme a le bras, la main, la gorge, la jambe faits au tour,</i> Elle les a parfaitement bien faits. On dit dans le même sens : <i>Cet homme, cette femme sont faits au tour.</i> <p> TOUR désigne aussi une Sorte d'armoire ronde et tournant sur un pivot, qui est posée dans l'épaisseur du mur, particulièrement dans les communautés religieuses, et qui permet de faire passer diverses choses du dehors à l'intérieur ou de l'intérieur au-dehors. <p> Il s'est dit aussi d'un Appareil semblable employé à l'entrée des hospices pour le dépôt des enfants confiés à la charité publique. <p> TOUR À TOUR<br/> <font color=\"green\">loc. adv.</font><br/>L'un après l'autre, alternativement. <i>Ces deux généraux commandaient tour à tour. Parler tour à tour.</i> "
      ],
      "text/plain": [
       "<IPython.core.display.HTML object>"
      ]
     },
     "metadata": {},
     "output_type": "display_data"
    }
   ],
   "source": [
    "acad_definition(\"tour\")"
   ]
  },
  {
   "cell_type": "markdown",
   "metadata": {},
   "source": [
    "---"
   ]
  },
  {
   "cell_type": "code",
   "execution_count": 2,
   "metadata": {},
   "outputs": [],
   "source": [
    "def list_tags(html_content):\n",
    "    # Parse the HTML content\n",
    "    soup = BeautifulSoup(html_content, 'html.parser')\n",
    "    list_balises = set()\n",
    "    # Iterate over all tags in the HTML\n",
    "    for tag in soup.find_all(True):\n",
    "        list_balises.add(tag.name)\n",
    "\n",
    "    return list_balises"
   ]
  },
  {
   "cell_type": "code",
   "execution_count": null,
   "metadata": {},
   "outputs": [
    {
     "name": "stdout",
     "output_type": "stream",
     "text": [
      "['a', 'b', 'body', 'br', 'div', 'dom', 'fm', 'font', 'guide', 'h2', 'h3', 'head', 'html', 'i', 'idx:entry', 'idx:orth', 'img', 'mbp:frameset', 'mbp:pagebreak', 'meta', 'p', 'reference', 'renv', 'sup']\n"
     ]
    }
   ],
   "source": [
    "# Read the HTML content from the file - environ 5 minutes\n",
    "with open('./mobi7/book.html', 'r', encoding='utf-8') as file:\n",
    "    html_content = file.read()\n",
    "print(list_tags(html_content))"
   ]
  },
  {
   "cell_type": "code",
   "execution_count": 24,
   "metadata": {},
   "outputs": [
    {
     "name": "stdout",
     "output_type": "stream",
     "text": [
      "<class 'pandas.core.frame.DataFrame'>\n",
      "RangeIndex: 31933 entries, 0 to 31932\n",
      "Data columns (total 3 columns):\n",
      " #   Column      Non-Null Count  Dtype \n",
      "---  ------      --------------  ----- \n",
      " 0   id          31933 non-null  int64 \n",
      " 1   word        31933 non-null  object\n",
      " 2   definition  31933 non-null  object\n",
      "dtypes: int64(1), object(2)\n",
      "memory usage: 748.6+ KB\n"
     ]
    }
   ],
   "source": [
    "with sqlite3.connect('acad_pocket.db') as conn:\n",
    "    acad = pd.read_sql_query(\"SELECT * FROM dictionary\", conn)\n",
    "acad.info()\n"
   ]
  },
  {
   "cell_type": "code",
   "execution_count": 33,
   "metadata": {},
   "outputs": [],
   "source": [
    "# Add a new column to acad that includes the text between '<font color=\"green\">' and '</font>' from the definition column\n",
    "acad['cat_list'] = acad['definition'].apply(lambda x: re.findall(r'<font color=\"green\">(.*?)</font>', x))"
   ]
  },
  {
   "cell_type": "code",
   "execution_count": 34,
   "metadata": {},
   "outputs": [],
   "source": [
    "acad['cat'] = acad['cat_list'].apply(lambda x: x[0] if x else None)\n"
   ]
  },
  {
   "cell_type": "code",
   "execution_count": 37,
   "metadata": {},
   "outputs": [
    {
     "name": "stdout",
     "output_type": "stream",
     "text": [
      "['<i>(Je couvre ; nous couvrons. Je couvrais. Je couvris. Je couvrirai. Couvre. Que je couvre. Que je couvrisse. Couvrant. Couvert.)</i> v. tr.', 'Adjectif et pronom des deux genres', 'Adjectif possessif masculin', 'Adverbe', 'Conjonction', 'Conjonction alternative', 'Interj.', 'Interjection', 'Interjection familière', 'Interjection populaire', 'Interjection qui exprime la douleur.', 'Loc. adv.', 'Loc. adverb.', 'Loc. interj.', 'Loc. prép.', 'Locution', 'Locution adverbiale', 'Locution adverbiale empruntée du latin.', 'Locution conjonctive', 'Locution empruntée du latin.', 'Locution familière empruntée du latin.', 'Locution latine', 'Locution prépositive', 'Nom et adjectif de nombre cardinal invariable', 'Onomatopée', 'Participe présent', 'Participe présent employé substantivement', 'Particule', 'Particule adverbiale', 'Particule affirmative', \"Particule d'origine latine\", 'Particule grecque', 'Particule négative', 'Pron. dém.CELUI, m. sing; CELLE, f. sing.; CEUX, m. plur.; CELLES, f. plur.', 'Pronom de la troisième personne, des deux genres', 'Pronom invariable', 'Pronom masculin indéfini', 'Pronom personnel', 'Pronom personnel des deux genres', 'Pronom personnel féminin de la troisième personne', 'Pronom personnel masculin', 'Pronom personnel pluriel de la troisième personne des deux genres', 'Pronom personnel relatif invariable', 'Pronom personnel, dit de la seconde personne du singulier; il est des deux genres', 'Pronom possessif de la seconde personne du singulier', 'Pronom possessif des deux genres', 'Pronom relatif des deux genres et des deux nombres', 'Pronom relatif des deux nombres et des deux genres', 'Pronom relatif invariable', 'Pronom singulier de la deuxième personne, qui est des deux genres', 'Pronom singulier de la première personne, qui est des deux genres', 'Préfixe', 'Préposition', 'Préposition de lieu', \"Sorte d'interjection\", 'adj.', 'adj. comparatif', 'adj. comparatif des deux genres', 'adj. des Deux genres', 'adj. des deux genres', 'adj. des deux genres et n. m.', 'adj. des deux genres.', 'adj. dém.', 'adj. démonstratif', 'adj. et n.', 'adj. et n. des deux genres', 'adj. et n. f.', 'adj. et n. m.', 'adj. et nom numéral cardinal des deux genres', 'adj. f.', 'adj. f. pl.', 'adj. fém.', 'adj. féminin', 'adj. indéfini', 'adj. indéfini des deux genres', 'adj. inv.', 'adj. invar. des deux genres', 'adj. invariable', 'adj. m.', 'adj. m. pl.', 'adj. m., Expression empruntée du latin.', 'adj. numéral cardinal', 'adj. numéral cardinal des deux genres', 'adj. numéral ordinal', 'adj. numéral ordinal des deux genres', 'adj. ordinal', 'adj. ou pronom démonstratif', 'adj. pl. des deux genres', 'adj. possessif de la troisième personne et des deux genres', 'adj. possessif des deux genres', 'adj. possessif féminin', 'adj. possessif masculin', 'adj. singulier', 'adj. verbal', 'adv.', 'adv. de lieu', 'adv. de négation', 'adv. de quantité', 'adv. de quantité.', 'adv. de temps', 'adv. de temps et de nombre', 'adv. et conj.', 'adverbe', 'adverbe dubitatif', 'au pluriel, n. f.', 'conj.', 'interj.', 'intransitif', 'loc. adv et fam.', 'loc. adv.', 'loc. adv. de lieu', 'loc. adv. de temps', 'loc. adv. empruntée du latin.', 'loc. adv. et fam.', 'loc. adv. et figurée', 'loc. adverbiale', 'loc. adverbiale et familière', 'loc. adverbiale et proverbiale', 'loc. adverbiales', 'loc. adverbiales et familières', 'loc. conj.', 'loc. conjonctive', 'loc. conjonctives', 'loc. prép.', 'loc. prép. ou conj.', 'loc. prépos.', 'loc. prépositive', 'loc. prépositive et familière', 'loc. prépositives', 'n.', 'n. des deux genres', 'n. et adj.', 'n. f.', 'n. f. coll.', 'n. f. et adj. des deux genres', 'n. f. et n. m.', 'n. f. pl.', 'n. f. pluriel', 'n. invariable', 'n. m.', 'n. m. coll.', 'n. m. et f.', 'n. m. et f. pl.', 'n. m. inv.', 'n. m. invariable', 'n. m. pl.', 'n. m. plur.', 'n. m. sans pluriel', 'n. m., Expression empruntée du latin.', 'n. m., Locution empruntée du latin.', 'n.f.', 'nom et adj. numéral cardinal invariable', 'nom féminin', 'participe', 'participe passé', 'participes passés', 'pr. dém.', 'pr. rel.', 'pron. dém.', 'pron. démonstratif invariable', 'pron. ind., sans pluriel', 'pron. indéf.', 'pron. m. ind.', 'pron. pers. de la troisième personne', 'pron. pers. masc.', 'pron. possessif de la troisième personne', 'pron. possessif des deux genres', 'pron. relatif', 'pronom personnel des deux genres, dit de la seconde personne du pluriel', 'pronom possessif', 'pronom relatif', 'prép.', 'préposition', 'préposition ou adverbe', 'transitif', 'v. a.', 'v. impers.', 'v. impersonnel', 'v. intr.', 'v. intr. et tr.', 'v. pr.', 'v. pron.', 'v. tr.', 'v. tr. et intr.', 'v. tr. ou intr.', 'v.intr.']\n"
     ]
    }
   ],
   "source": [
    "cat_list = []\n",
    "for list in acad['cat_list']:\n",
    "    if list:\n",
    "        for item in list:\n",
    "            if item not in cat_list:\n",
    "                cat_list.append(item)\n",
    "cat_list.sort()\n",
    "print(cat_list)"
   ]
  },
  {
   "cell_type": "code",
   "execution_count": 62,
   "metadata": {},
   "outputs": [
    {
     "name": "stdout",
     "output_type": "stream",
     "text": [
      "<i>(Je couvre ; nous couvrons. Je couvrais. Je couvris. Je couvrirai. Couvre. Que je couvre. Que je couvrisse. Couvrant. Couvert.)</i> v. tr.\n",
      "Adjectif et pronom des deux genres\n",
      "Adjectif possessif masculin\n",
      "Adverbe\n",
      "Conjonction\n",
      "Conjonction alternative\n",
      "Interj.\n",
      "Interjection\n",
      "Interjection familière\n",
      "Interjection populaire\n",
      "Interjection qui exprime la douleur.\n",
      "Loc. adv.\n",
      "Loc. adverb.\n",
      "Loc. interj.\n",
      "Loc. prép.\n",
      "Locution\n",
      "Locution adverbiale\n",
      "Locution adverbiale empruntée du latin.\n",
      "Locution empruntée du latin.\n",
      "Locution familière empruntée du latin.\n",
      "Locution latine\n",
      "Nom et adjectif de nombre cardinal invariable\n",
      "Onomatopée\n",
      "Participe présent\n",
      "Participe présent employé substantivement\n",
      "Particule\n",
      "Particule adverbiale\n",
      "Particule affirmative\n",
      "Particule d'origine latine\n",
      "Particule grecque\n",
      "Particule négative\n",
      "Pron. dém.CELUI, m. sing; CELLE, f. sing.; CEUX, m. plur.; CELLES, f. plur.\n",
      "Pronom de la troisième personne, des deux genres\n",
      "Pronom invariable\n",
      "Pronom masculin indéfini\n",
      "Pronom personnel\n",
      "Pronom personnel des deux genres\n",
      "Pronom personnel féminin de la troisième personne\n",
      "Pronom personnel masculin\n",
      "Pronom personnel pluriel de la troisième personne des deux genres\n",
      "Pronom personnel relatif invariable\n",
      "Pronom personnel, dit de la seconde personne du singulier; il est des deux genres\n",
      "Pronom possessif de la seconde personne du singulier\n",
      "Pronom possessif des deux genres\n",
      "Pronom relatif des deux genres et des deux nombres\n",
      "Pronom relatif des deux nombres et des deux genres\n",
      "Pronom relatif invariable\n",
      "Pronom singulier de la deuxième personne, qui est des deux genres\n",
      "Pronom singulier de la première personne, qui est des deux genres\n",
      "Préfixe\n",
      "Préposition\n",
      "Préposition de lieu\n",
      "Sorte d'interjection\n",
      "adj.\n",
      "adj. comparatif\n",
      "adj. comparatif des deux genres\n",
      "adj. des Deux genres\n",
      "adj. des deux genres\n",
      "adj. des deux genres et n. m.\n",
      "adj. des deux genres.\n",
      "adj. dém.\n",
      "adj. démonstratif\n",
      "adj. et n.\n",
      "adj. et n. des deux genres\n",
      "adj. et n. f.\n",
      "adj. et n. m.\n",
      "adj. et nom numéral cardinal des deux genres\n",
      "adj. f.\n",
      "adj. f. pl.\n",
      "adj. fém.\n",
      "adj. féminin\n",
      "adj. indéfini\n",
      "adj. indéfini des deux genres\n",
      "adj. inv.\n",
      "adj. invar. des deux genres\n",
      "adj. invariable\n",
      "adj. m.\n",
      "adj. m. pl.\n",
      "adj. m., Expression empruntée du latin.\n",
      "adj. numéral cardinal\n",
      "adj. numéral cardinal des deux genres\n",
      "adj. numéral ordinal\n",
      "adj. numéral ordinal des deux genres\n",
      "adj. ordinal\n",
      "adj. ou pronom démonstratif\n",
      "adj. pl. des deux genres\n",
      "adj. possessif de la troisième personne et des deux genres\n",
      "adj. possessif des deux genres\n",
      "adj. possessif féminin\n",
      "adj. possessif masculin\n",
      "adj. singulier\n",
      "adj. verbal\n",
      "adv.\n",
      "adv. de lieu\n",
      "adv. de négation\n",
      "adv. de quantité\n",
      "adv. de quantité.\n",
      "adv. de temps\n",
      "adv. de temps et de nombre\n",
      "adv. et conj.\n",
      "adverbe\n",
      "adverbe dubitatif\n",
      "conj.\n",
      "interj.\n",
      "loc. adv.\n",
      "loc. adv. de temps\n",
      "loc. adv. empruntée du latin.\n",
      "loc. adv. et fam.\n",
      "loc. conj.\n",
      "loc. prép.\n",
      "n.\n",
      "n. des deux genres\n",
      "n. et adj.\n",
      "n. f.\n",
      "n. f. coll.\n",
      "n. f. et adj. des deux genres\n",
      "n. f. et n. m.\n",
      "n. f. pl.\n",
      "n. f. pluriel\n",
      "n. invariable\n",
      "n. m.\n",
      "n. m. coll.\n",
      "n. m. et f.\n",
      "n. m. et f. pl.\n",
      "n. m. inv.\n",
      "n. m. invariable\n",
      "n. m. pl.\n",
      "n. m. plur.\n",
      "n. m. sans pluriel\n",
      "n. m., Expression empruntée du latin.\n",
      "n. m., Locution empruntée du latin.\n",
      "n.f.\n",
      "nom et adj. numéral cardinal invariable\n",
      "participe passé\n",
      "pr. dém.\n",
      "pr. rel.\n",
      "pron. dém.\n",
      "pron. démonstratif invariable\n",
      "pron. ind., sans pluriel\n",
      "pron. indéf.\n",
      "pron. m. ind.\n",
      "pron. pers. de la troisième personne\n",
      "pron. pers. masc.\n",
      "pron. possessif de la troisième personne\n",
      "pron. possessif des deux genres\n",
      "pron. relatif\n",
      "pronom personnel des deux genres, dit de la seconde personne du pluriel\n",
      "pronom relatif\n",
      "prép.\n",
      "préposition\n",
      "v. a.\n",
      "v. impers.\n",
      "v. impersonnel\n",
      "v. intr.\n",
      "v. intr. et tr.\n",
      "v. pr.\n",
      "v. pron.\n",
      "v. tr.\n",
      "v. tr. et intr.\n",
      "v. tr. ou intr.\n",
      "v.intr.\n"
     ]
    }
   ],
   "source": [
    "cat_0_list = []\n",
    "for item in acad['cat']:\n",
    "    if item:\n",
    "        if item not in cat_0_list:\n",
    "            cat_0_list.append(item)\n",
    "cat_0_list.sort()\n",
    "print(\"\\n\".join(cat_0_list))"
   ]
  },
  {
   "cell_type": "code",
   "execution_count": 66,
   "metadata": {},
   "outputs": [
    {
     "name": "stdout",
     "output_type": "stream",
     "text": [
      "Nombre de catégories de noms: 28\n",
      "adj. des deux genres et n. m.\n",
      "adj. et n.\n",
      "adj. et n. des deux genres\n",
      "adj. et n. f.\n",
      "adj. et n. m.\n",
      "adj. et nom numéral cardinal des deux genres\n",
      "n.\n",
      "n. des deux genres\n",
      "n. et adj.\n",
      "n. f.\n",
      "n. f. coll.\n",
      "n. f. et adj. des deux genres\n",
      "n. f. et n. m.\n",
      "n. f. pl.\n",
      "n. f. pluriel\n",
      "n. invariable\n",
      "n. m.\n",
      "n. m. coll.\n",
      "n. m. et f.\n",
      "n. m. et f. pl.\n",
      "n. m. inv.\n",
      "n. m. invariable\n",
      "n. m. pl.\n",
      "n. m. plur.\n",
      "n. m. sans pluriel\n",
      "n. m., Expression empruntée du latin.\n",
      "n. m., Locution empruntée du latin.\n",
      "nom et adj. numéral cardinal invariable\n"
     ]
    }
   ],
   "source": [
    "cat_noms = [ cat for cat in cat_0_list if 'n.' in cat.split() or 'nom' in cat.split() ]\n",
    "print(\"Nombre de catégories de noms:\", len(cat_noms))\n",
    "print(\"\\n\".join(cat_noms))"
   ]
  },
  {
   "cell_type": "code",
   "execution_count": 61,
   "metadata": {},
   "outputs": [
    {
     "data": {
      "text/html": [
       "<div>\n",
       "<style scoped>\n",
       "    .dataframe tbody tr th:only-of-type {\n",
       "        vertical-align: middle;\n",
       "    }\n",
       "\n",
       "    .dataframe tbody tr th {\n",
       "        vertical-align: top;\n",
       "    }\n",
       "\n",
       "    .dataframe thead th {\n",
       "        text-align: right;\n",
       "    }\n",
       "</style>\n",
       "<table border=\"1\" class=\"dataframe\">\n",
       "  <thead>\n",
       "    <tr style=\"text-align: right;\">\n",
       "      <th></th>\n",
       "      <th>id</th>\n",
       "      <th>word</th>\n",
       "      <th>definition</th>\n",
       "    </tr>\n",
       "  </thead>\n",
       "  <tbody>\n",
       "    <tr>\n",
       "      <th>0</th>\n",
       "      <td>7473</td>\n",
       "      <td>COURIR</td>\n",
       "      <td>\\n&lt;h2&gt;&lt;font size=\"+2\" color=\"BLUE\"&gt;&lt;b&gt;COURIR&lt;/b&gt;&lt;/font&gt;&lt;/h2&gt;&lt;br/&gt; (&lt;i&gt;Je cours ; nous courons. Je courais. Je courus. Je courrai. Cours. Que je coure. Que je courusse. Courant. Couru.&lt;/i&gt;)&lt;br/&gt; &lt;font color=\"green\"&gt;v. intr.&lt;/font&gt;&lt;br/&gt;Aller avec vitesse, avec impétuosité. &lt;i&gt;Courir de toute sa force. Courir sur quelqu'un. Courir après quelqu'un. Courir à toutes jambes. Ils couraient aussi vite l'un que l'autre. Ceux qui couraient dans les jeux Olympiques.&lt;/i&gt; On le dit, également et par extension, des Choses, quand elles sont susceptibles de mouvement. &lt;i&gt;Ces nuages courent dans le ciel. Faire courir une boule.&lt;/i&gt; En termes de Marine, &lt;i&gt;Faire courir une manoeuvre dans ses poulies.&lt;/i&gt; &lt;p&gt; Il se dit absolument des Chevaux qui disputent le prix de la vitesse. &lt;i&gt;Ce cheval a couru aux dernières courses. Faire courir&lt;/i&gt; signifie Envoyer sur le champ de course des chevaux pour disputer ce prix. Transitivement, &lt;i&gt;Courir le grand prix de Paris.&lt;/i&gt; &lt;p&gt; Il se dit aussi des Épreuves de vitesse de cyclisme, d'automobilisme, de bateaux à rames, à voiles ou à moteurs. &lt;p&gt; Fig. et transitivement, &lt;i&gt;Courir une carrière,&lt;/i&gt; Être engagé dans une profession, une entreprise, etc., où l'on s'efforce d'obtenir des succès, de l'emporter sur ses rivaux. &lt;i&gt;Vous courez une périlleuse carrière. Hortensias et Cicéron couraient la même carrière.&lt;/i&gt; &lt;p&gt; Prov. et Fig., &lt;i&gt;Ce n'est pas le tout que de courir, il faut partir de bonne heure,&lt;/i&gt; ou &lt;i&gt;Rien ne sert de courir, il faut partir à temps,&lt;/i&gt; Ce n'est pas assez de se hâter quand on veut réussir dans une entreprise, il faut prendre ses mesures de loin. &lt;p&gt; Fig. et fam., &lt;i&gt;Je cours encore, Il court encore,&lt;/i&gt; signifie qu'on s'est échappé en toute hâte, qu'on ne se laissera plus prendre à une chose. &lt;i&gt;Il m'a suffi de le voir, de l'entendre : je cours encore.&lt;/i&gt; &lt;p&gt; &lt;i&gt;Courir sus à quelqu'un&lt;/i&gt; se disait, dans les anciennes Ordonnances, pour Se jeter sur quelqu'un, l'arrêter, le maltraiter. &lt;i&gt;Il fut mis hors la loi, et chacun eut le droit de lui courir sus.&lt;/i&gt; Figurément, il signifie S'en prendre à quelqu'un, se précipiter violemment sur lui. &lt;i&gt;Tout le monde lui court sus.&lt;/i&gt; &lt;p&gt; Il signifie quelquefois Aller plus vite que le pas. &lt;i&gt;Vous allez trop vite, vous ne marchez pas, vous courez.&lt;/i&gt; &lt;p&gt; Il signifie aussi Aller avec empressement. &lt;i&gt;Courir au feu. Je cours le prévenir. Courez, ne perdez pas un instant. Courir au plus pressé,&lt;/i&gt; S'occuper, avant toute autre chose, de ce qui importe le plus dans le moment. Fig., &lt;i&gt;Courir après les honneurs, les places, les richesses, la fausse gloire, etc. Courir après des chimères, après des fantômes. Courir à sa perte, à sa ruine.&lt;/i&gt; &lt;p&gt; Fig., &lt;i&gt;Courir après l'esprit,&lt;/i&gt; Mettre de la recherche, de l'affectation, de l'effort à montrer de l'esprit. &lt;p&gt; Fam., &lt;i&gt;Courir après l'argent,&lt;/i&gt; Chercher toutes les occasions de gagner de l'argent. Il ne se dit qu'en mauvaise part. &lt;p&gt; Fam., &lt;i&gt;Courir après son argent,&lt;/i&gt; Continuer à jouer pour regagner ce qu'on a perdu. Il signifie aussi Faire des démarches, des poursuites pour recouvrer une somme d'argent qu'on a de la peine à se faire rendre, à se faire payer. &lt;p&gt; &lt;i&gt;Courir à sa fin&lt;/i&gt; se dit des Choses qui sont près de finir, qui n'ont pas longtemps à durer. &lt;i&gt;Ma provision de bois court à sa fin. Cette maladie court à sa fin.&lt;/i&gt; &lt;p&gt; Il se dit aussi figurément de Toute action précipitée, de tout ce qu'on fait trop vite. &lt;i&gt;Il faut aller bride en main, on ne fait pas les affaires en courant.&lt;/i&gt; &lt;p&gt; Il se dit particulièrement d'une Personne qui lit, qui récite, qui prononce, qui écrit ou qui compose trop vite. &lt;i&gt;Lisez doucement, ne&lt;/i&gt; &lt;i&gt;courez pas. Il a écrit cela en courant. Il laisse courir sa plume sur le papier.&lt;/i&gt; &lt;p&gt; Il signifie encore familièrement Aller çà et là, sans s'arrêter longtemps en chaque endroit. &lt;i&gt;Il ne fait que courir. Il est toujours à courir. Il court depuis le matin jusqu'au soir.&lt;/i&gt; &lt;p&gt; Il se dit particulièrement des Courses, des démarches qu'on est obligé de faire pour quelque objet que ce soit. &lt;i&gt;Il a couru toute la journée pour cette affaire.&lt;/i&gt; &lt;p&gt; En termes de Marine, il signifie Faire route. &lt;i&gt;Courir au nord. Courir au sud.&lt;/i&gt; Transitivement, &lt;i&gt;Courir des bordées, courir des bords,&lt;/i&gt; Louvoyer, aller alternativement à droite et à gauche, quand le vent est presque debout. &lt;p&gt; Il se dit particulièrement d'une Côte, d'une terre, d'une montagne, etc., qui se prolonge dans une direction déterminée. &lt;i&gt;Cette côte court de l'est à l'ouest l'espace de trois ou quatre lieues. Ces montagnes courent du nord au sud et partagent de grands continents.&lt;/i&gt; &lt;p&gt; Il s'emploie pour Couler, s'écouler. &lt;i&gt;Le ruisseau qui court dans la prairie. Le Rhône court du nord au sud. L'eau qui court.&lt;/i&gt; &lt;p&gt; Il se dit figurément du Temps. &lt;i&gt;Le temps court insensiblement. Au temps&lt;/i&gt; ou &lt;i&gt;par le temps qui court,&lt;/i&gt; Dans le temps présent, dans les circonstances actuelles. &lt;p&gt; Il se dit à propos d'une Rente, des gages, des appointements, etc., pour désigner l'Époque à partir de laquelle ils doivent être comptés. &lt;i&gt;L'intérêt de cette rente court du commencement de l'année. Ses gages, ses appointements courent du milieu du mois. Son loyer court du mois de janvier.&lt;/i&gt; &lt;p&gt; Il signifie encore Circuler, se propager, se communiquer ; et, en ce sens, il est souvent impersonnel. &lt;i&gt;Il court des bruits fort désavantageux sur son compte. Faire courir de fausses nouvelles. Une rumeur très alarmante court depuis hier dans le public.&lt;/i&gt; &lt;p&gt; Il signifie aussi figurément Être en vogue. &lt;i&gt;La mode qui court. Cette chanson courait par la ville.&lt;/i&gt; &lt;p&gt; COURIR est aussi verbe transitif, alors il signifie Poursuivre à la course avec dessein d'attraper. Il s'emploie surtout en termes de Chasse. &lt;i&gt;Courir le cerf, le lièvre, le daim. Il a droit de courir le cerf sur ses terres.&lt;/i&gt; Voyez aussi COURRE. &lt;p&gt; Fig. et fam., &lt;i&gt;Courir le même lièvre&lt;/i&gt; se dit de Deux personnes qui sont en concurrence pour la même chose. &lt;p&gt; Prov. et fig., &lt;i&gt;Il ne faut pas courir deux lièvres à la fois,&lt;/i&gt; ou &lt;i&gt;Qui court deux lièvres n'en prend aucun,&lt;/i&gt; Poursuivre deux affaires à la fois, c'est s'exposer à ne réussir ni dans l'une ni dans l'autre. &lt;p&gt; Fig. et fam., &lt;i&gt;Courir le cachet.&lt;/i&gt; Voyez &lt;renv&gt;CACHET&lt;/renv&gt;. &lt;p&gt; COURIR se dit figurément en parlant des Personnes ou des Choses qu'on recherche avec empressement, qui sont fort en vogue. On ne l'emploie guère qu'au participe passé. &lt;i&gt;Ce prédicateur est fort couru. Ce spectacle est très couru.&lt;/i&gt; &lt;p&gt; Il signifie aussi figurément Être exposé à. &lt;i&gt;Courir un danger. Courir risque, courir le risque de,&lt;/i&gt; Être en péril de. &lt;i&gt;Il court grand risque de perdre son bien.&lt;/i&gt; &lt;p&gt; &lt;i&gt;Courir des chances, courir la chance de...,&lt;/i&gt; S'exposer à un risque dans l'espoir d'un avantage. &lt;p&gt; &lt;i&gt;Courir même fortune,&lt;/i&gt; Être dans les mêmes intérêts, dans la même situation d'affaires. &lt;p&gt; &lt;i&gt;Courir les aventures&lt;/i&gt; se disait des Chevaliers qui allaient à la recherche des exploits guerriers. Il se dit aussi de Quelqu'un qui cherche à se faire un nom ou une fortune par des moyens qui ne sont pas les moyens ordinaires. &lt;p&gt; Il signifie encore Parcourir. &lt;i&gt;J'ai couru toute la ville sans le trouver. Courir les rues. Courir les champs.&lt;/i&gt; &lt;p&gt; &lt;i&gt;Courir le pays,&lt;/i&gt; Parcourir tel ou tel pays, en vue de le connaître à fond. &lt;p&gt; &lt;i&gt;Courir le monde,&lt;/i&gt; Voyager en divers pays par goût d'aventure. &lt;p&gt; Fam., &lt;i&gt;Cette nouvelle, cette aventure, cette&lt;/i&gt; &lt;i&gt;histoire court les rues,&lt;/i&gt; Elle est sue de tout le monde. &lt;i&gt;L'esprit court les rues,&lt;/i&gt; L'esprit est commun, tout le monde en a. &lt;p&gt; Fam., &lt;i&gt;Courir la prétantaine.&lt;/i&gt; Voyez &lt;renv&gt;PRÉTANTAINE&lt;/renv&gt;. &lt;p&gt; Pop., &lt;i&gt;Courir le guilledou.&lt;/i&gt; Voyez &lt;renv&gt;GUILLEDOU&lt;/renv&gt;. &lt;p&gt; Il signifie également Hanter, fréquenter &lt;i&gt;Courir les buts. Courir les spectacles, les concerts, les maisons de jeu, les mauvais lieux, etc.&lt;/i&gt;</td>\n",
       "    </tr>\n",
       "  </tbody>\n",
       "</table>\n",
       "</div>"
      ],
      "text/plain": [
       "     id    word  \\\n",
       "0  7473  COURIR   \n",
       "\n",
       "                                                                                                                                                                                                                                                                                                                                                                                                                                                                                                                                                                                                                                                                                                                                                                                                                                                                                                                                                                                                                                                                                                                                                                                                                                                                                                                                                                                                                                                                                                                                                                                                                                                                                                                                                                                                                                                                                                                                                                                                                                                                                                                                                                                                                                                                                                                                                                                                                                                                                                                                                                                                                                                                                                                                                                                                                                                                                                                                                                                                                                                                                                                                                                                                                                                                                                                                                                                                                                                                                                                                                                                                                                                                                                                                                                                                                                                                                                                                                                                                                                                                                                                                                                                                                                                                                                                                                                                                                                                                                                                                                                                                                                                                                                                                                                                                                                                                                                                                                                                                                                                                                                                                                                                                                                                                                                                                                                                                                                                                                                                                                                                                                                                                                                                                                                                                                                                                                                                                                                                                                                                                                                                                                                                                                                                                                                                                                                                                                                                                                                                                                                                                                                                                                                                                                                                                                                                                                                                                                                                                                                                                                                                                                                                                                                                                                                                                                                                                                                                                                                                                                                                                                                                                                                                                                                                                                                                                                                                                                                                                                                                                                                                                                                       definition  \n",
       "0  \\n<h2><font size=\"+2\" color=\"BLUE\"><b>COURIR</b></font></h2><br/> (<i>Je cours ; nous courons. Je courais. Je courus. Je courrai. Cours. Que je coure. Que je courusse. Courant. Couru.</i>)<br/> <font color=\"green\">v. intr.</font><br/>Aller avec vitesse, avec impétuosité. <i>Courir de toute sa force. Courir sur quelqu'un. Courir après quelqu'un. Courir à toutes jambes. Ils couraient aussi vite l'un que l'autre. Ceux qui couraient dans les jeux Olympiques.</i> On le dit, également et par extension, des Choses, quand elles sont susceptibles de mouvement. <i>Ces nuages courent dans le ciel. Faire courir une boule.</i> En termes de Marine, <i>Faire courir une manoeuvre dans ses poulies.</i> <p> Il se dit absolument des Chevaux qui disputent le prix de la vitesse. <i>Ce cheval a couru aux dernières courses. Faire courir</i> signifie Envoyer sur le champ de course des chevaux pour disputer ce prix. Transitivement, <i>Courir le grand prix de Paris.</i> <p> Il se dit aussi des Épreuves de vitesse de cyclisme, d'automobilisme, de bateaux à rames, à voiles ou à moteurs. <p> Fig. et transitivement, <i>Courir une carrière,</i> Être engagé dans une profession, une entreprise, etc., où l'on s'efforce d'obtenir des succès, de l'emporter sur ses rivaux. <i>Vous courez une périlleuse carrière. Hortensias et Cicéron couraient la même carrière.</i> <p> Prov. et Fig., <i>Ce n'est pas le tout que de courir, il faut partir de bonne heure,</i> ou <i>Rien ne sert de courir, il faut partir à temps,</i> Ce n'est pas assez de se hâter quand on veut réussir dans une entreprise, il faut prendre ses mesures de loin. <p> Fig. et fam., <i>Je cours encore, Il court encore,</i> signifie qu'on s'est échappé en toute hâte, qu'on ne se laissera plus prendre à une chose. <i>Il m'a suffi de le voir, de l'entendre : je cours encore.</i> <p> <i>Courir sus à quelqu'un</i> se disait, dans les anciennes Ordonnances, pour Se jeter sur quelqu'un, l'arrêter, le maltraiter. <i>Il fut mis hors la loi, et chacun eut le droit de lui courir sus.</i> Figurément, il signifie S'en prendre à quelqu'un, se précipiter violemment sur lui. <i>Tout le monde lui court sus.</i> <p> Il signifie quelquefois Aller plus vite que le pas. <i>Vous allez trop vite, vous ne marchez pas, vous courez.</i> <p> Il signifie aussi Aller avec empressement. <i>Courir au feu. Je cours le prévenir. Courez, ne perdez pas un instant. Courir au plus pressé,</i> S'occuper, avant toute autre chose, de ce qui importe le plus dans le moment. Fig., <i>Courir après les honneurs, les places, les richesses, la fausse gloire, etc. Courir après des chimères, après des fantômes. Courir à sa perte, à sa ruine.</i> <p> Fig., <i>Courir après l'esprit,</i> Mettre de la recherche, de l'affectation, de l'effort à montrer de l'esprit. <p> Fam., <i>Courir après l'argent,</i> Chercher toutes les occasions de gagner de l'argent. Il ne se dit qu'en mauvaise part. <p> Fam., <i>Courir après son argent,</i> Continuer à jouer pour regagner ce qu'on a perdu. Il signifie aussi Faire des démarches, des poursuites pour recouvrer une somme d'argent qu'on a de la peine à se faire rendre, à se faire payer. <p> <i>Courir à sa fin</i> se dit des Choses qui sont près de finir, qui n'ont pas longtemps à durer. <i>Ma provision de bois court à sa fin. Cette maladie court à sa fin.</i> <p> Il se dit aussi figurément de Toute action précipitée, de tout ce qu'on fait trop vite. <i>Il faut aller bride en main, on ne fait pas les affaires en courant.</i> <p> Il se dit particulièrement d'une Personne qui lit, qui récite, qui prononce, qui écrit ou qui compose trop vite. <i>Lisez doucement, ne</i> <i>courez pas. Il a écrit cela en courant. Il laisse courir sa plume sur le papier.</i> <p> Il signifie encore familièrement Aller çà et là, sans s'arrêter longtemps en chaque endroit. <i>Il ne fait que courir. Il est toujours à courir. Il court depuis le matin jusqu'au soir.</i> <p> Il se dit particulièrement des Courses, des démarches qu'on est obligé de faire pour quelque objet que ce soit. <i>Il a couru toute la journée pour cette affaire.</i> <p> En termes de Marine, il signifie Faire route. <i>Courir au nord. Courir au sud.</i> Transitivement, <i>Courir des bordées, courir des bords,</i> Louvoyer, aller alternativement à droite et à gauche, quand le vent est presque debout. <p> Il se dit particulièrement d'une Côte, d'une terre, d'une montagne, etc., qui se prolonge dans une direction déterminée. <i>Cette côte court de l'est à l'ouest l'espace de trois ou quatre lieues. Ces montagnes courent du nord au sud et partagent de grands continents.</i> <p> Il s'emploie pour Couler, s'écouler. <i>Le ruisseau qui court dans la prairie. Le Rhône court du nord au sud. L'eau qui court.</i> <p> Il se dit figurément du Temps. <i>Le temps court insensiblement. Au temps</i> ou <i>par le temps qui court,</i> Dans le temps présent, dans les circonstances actuelles. <p> Il se dit à propos d'une Rente, des gages, des appointements, etc., pour désigner l'Époque à partir de laquelle ils doivent être comptés. <i>L'intérêt de cette rente court du commencement de l'année. Ses gages, ses appointements courent du milieu du mois. Son loyer court du mois de janvier.</i> <p> Il signifie encore Circuler, se propager, se communiquer ; et, en ce sens, il est souvent impersonnel. <i>Il court des bruits fort désavantageux sur son compte. Faire courir de fausses nouvelles. Une rumeur très alarmante court depuis hier dans le public.</i> <p> Il signifie aussi figurément Être en vogue. <i>La mode qui court. Cette chanson courait par la ville.</i> <p> COURIR est aussi verbe transitif, alors il signifie Poursuivre à la course avec dessein d'attraper. Il s'emploie surtout en termes de Chasse. <i>Courir le cerf, le lièvre, le daim. Il a droit de courir le cerf sur ses terres.</i> Voyez aussi COURRE. <p> Fig. et fam., <i>Courir le même lièvre</i> se dit de Deux personnes qui sont en concurrence pour la même chose. <p> Prov. et fig., <i>Il ne faut pas courir deux lièvres à la fois,</i> ou <i>Qui court deux lièvres n'en prend aucun,</i> Poursuivre deux affaires à la fois, c'est s'exposer à ne réussir ni dans l'une ni dans l'autre. <p> Fig. et fam., <i>Courir le cachet.</i> Voyez <renv>CACHET</renv>. <p> COURIR se dit figurément en parlant des Personnes ou des Choses qu'on recherche avec empressement, qui sont fort en vogue. On ne l'emploie guère qu'au participe passé. <i>Ce prédicateur est fort couru. Ce spectacle est très couru.</i> <p> Il signifie aussi figurément Être exposé à. <i>Courir un danger. Courir risque, courir le risque de,</i> Être en péril de. <i>Il court grand risque de perdre son bien.</i> <p> <i>Courir des chances, courir la chance de...,</i> S'exposer à un risque dans l'espoir d'un avantage. <p> <i>Courir même fortune,</i> Être dans les mêmes intérêts, dans la même situation d'affaires. <p> <i>Courir les aventures</i> se disait des Chevaliers qui allaient à la recherche des exploits guerriers. Il se dit aussi de Quelqu'un qui cherche à se faire un nom ou une fortune par des moyens qui ne sont pas les moyens ordinaires. <p> Il signifie encore Parcourir. <i>J'ai couru toute la ville sans le trouver. Courir les rues. Courir les champs.</i> <p> <i>Courir le pays,</i> Parcourir tel ou tel pays, en vue de le connaître à fond. <p> <i>Courir le monde,</i> Voyager en divers pays par goût d'aventure. <p> Fam., <i>Cette nouvelle, cette aventure, cette</i> <i>histoire court les rues,</i> Elle est sue de tout le monde. <i>L'esprit court les rues,</i> L'esprit est commun, tout le monde en a. <p> Fam., <i>Courir la prétantaine.</i> Voyez <renv>PRÉTANTAINE</renv>. <p> Pop., <i>Courir le guilledou.</i> Voyez <renv>GUILLEDOU</renv>. <p> Il signifie également Hanter, fréquenter <i>Courir les buts. Courir les spectacles, les concerts, les maisons de jeu, les mauvais lieux, etc.</i>   "
      ]
     },
     "metadata": {},
     "output_type": "display_data"
    },
    {
     "data": {
      "text/html": [
       "\n",
       "<h2><font size=\"+2\" color=\"BLUE\"><b>COURIR</b></font></h2><br/> (<i>Je cours ; nous courons. Je courais. Je courus. Je courrai. Cours. Que je coure. Que je courusse. Courant. Couru.</i>)<br/> <font color=\"green\">v. intr.</font><br/>Aller avec vitesse, avec impétuosité. <i>Courir de toute sa force. Courir sur quelqu'un. Courir après quelqu'un. Courir à toutes jambes. Ils couraient aussi vite l'un que l'autre. Ceux qui couraient dans les jeux Olympiques.</i> On le dit, également et par extension, des Choses, quand elles sont susceptibles de mouvement. <i>Ces nuages courent dans le ciel. Faire courir une boule.</i> En termes de Marine, <i>Faire courir une manoeuvre dans ses poulies.</i> <p> Il se dit absolument des Chevaux qui disputent le prix de la vitesse. <i>Ce cheval a couru aux dernières courses. Faire courir</i> signifie Envoyer sur le champ de course des chevaux pour disputer ce prix. Transitivement, <i>Courir le grand prix de Paris.</i> <p> Il se dit aussi des Épreuves de vitesse de cyclisme, d'automobilisme, de bateaux à rames, à voiles ou à moteurs. <p> Fig. et transitivement, <i>Courir une carrière,</i> Être engagé dans une profession, une entreprise, etc., où l'on s'efforce d'obtenir des succès, de l'emporter sur ses rivaux. <i>Vous courez une périlleuse carrière. Hortensias et Cicéron couraient la même carrière.</i> <p> Prov. et Fig., <i>Ce n'est pas le tout que de courir, il faut partir de bonne heure,</i> ou <i>Rien ne sert de courir, il faut partir à temps,</i> Ce n'est pas assez de se hâter quand on veut réussir dans une entreprise, il faut prendre ses mesures de loin. <p> Fig. et fam., <i>Je cours encore, Il court encore,</i> signifie qu'on s'est échappé en toute hâte, qu'on ne se laissera plus prendre à une chose. <i>Il m'a suffi de le voir, de l'entendre : je cours encore.</i> <p> <i>Courir sus à quelqu'un</i> se disait, dans les anciennes Ordonnances, pour Se jeter sur quelqu'un, l'arrêter, le maltraiter. <i>Il fut mis hors la loi, et chacun eut le droit de lui courir sus.</i> Figurément, il signifie S'en prendre à quelqu'un, se précipiter violemment sur lui. <i>Tout le monde lui court sus.</i> <p> Il signifie quelquefois Aller plus vite que le pas. <i>Vous allez trop vite, vous ne marchez pas, vous courez.</i> <p> Il signifie aussi Aller avec empressement. <i>Courir au feu. Je cours le prévenir. Courez, ne perdez pas un instant. Courir au plus pressé,</i> S'occuper, avant toute autre chose, de ce qui importe le plus dans le moment. Fig., <i>Courir après les honneurs, les places, les richesses, la fausse gloire, etc. Courir après des chimères, après des fantômes. Courir à sa perte, à sa ruine.</i> <p> Fig., <i>Courir après l'esprit,</i> Mettre de la recherche, de l'affectation, de l'effort à montrer de l'esprit. <p> Fam., <i>Courir après l'argent,</i> Chercher toutes les occasions de gagner de l'argent. Il ne se dit qu'en mauvaise part. <p> Fam., <i>Courir après son argent,</i> Continuer à jouer pour regagner ce qu'on a perdu. Il signifie aussi Faire des démarches, des poursuites pour recouvrer une somme d'argent qu'on a de la peine à se faire rendre, à se faire payer. <p> <i>Courir à sa fin</i> se dit des Choses qui sont près de finir, qui n'ont pas longtemps à durer. <i>Ma provision de bois court à sa fin. Cette maladie court à sa fin.</i> <p> Il se dit aussi figurément de Toute action précipitée, de tout ce qu'on fait trop vite. <i>Il faut aller bride en main, on ne fait pas les affaires en courant.</i> <p> Il se dit particulièrement d'une Personne qui lit, qui récite, qui prononce, qui écrit ou qui compose trop vite. <i>Lisez doucement, ne</i> <i>courez pas. Il a écrit cela en courant. Il laisse courir sa plume sur le papier.</i> <p> Il signifie encore familièrement Aller çà et là, sans s'arrêter longtemps en chaque endroit. <i>Il ne fait que courir. Il est toujours à courir. Il court depuis le matin jusqu'au soir.</i> <p> Il se dit particulièrement des Courses, des démarches qu'on est obligé de faire pour quelque objet que ce soit. <i>Il a couru toute la journée pour cette affaire.</i> <p> En termes de Marine, il signifie Faire route. <i>Courir au nord. Courir au sud.</i> Transitivement, <i>Courir des bordées, courir des bords,</i> Louvoyer, aller alternativement à droite et à gauche, quand le vent est presque debout. <p> Il se dit particulièrement d'une Côte, d'une terre, d'une montagne, etc., qui se prolonge dans une direction déterminée. <i>Cette côte court de l'est à l'ouest l'espace de trois ou quatre lieues. Ces montagnes courent du nord au sud et partagent de grands continents.</i> <p> Il s'emploie pour Couler, s'écouler. <i>Le ruisseau qui court dans la prairie. Le Rhône court du nord au sud. L'eau qui court.</i> <p> Il se dit figurément du Temps. <i>Le temps court insensiblement. Au temps</i> ou <i>par le temps qui court,</i> Dans le temps présent, dans les circonstances actuelles. <p> Il se dit à propos d'une Rente, des gages, des appointements, etc., pour désigner l'Époque à partir de laquelle ils doivent être comptés. <i>L'intérêt de cette rente court du commencement de l'année. Ses gages, ses appointements courent du milieu du mois. Son loyer court du mois de janvier.</i> <p> Il signifie encore Circuler, se propager, se communiquer ; et, en ce sens, il est souvent impersonnel. <i>Il court des bruits fort désavantageux sur son compte. Faire courir de fausses nouvelles. Une rumeur très alarmante court depuis hier dans le public.</i> <p> Il signifie aussi figurément Être en vogue. <i>La mode qui court. Cette chanson courait par la ville.</i> <p> COURIR est aussi verbe transitif, alors il signifie Poursuivre à la course avec dessein d'attraper. Il s'emploie surtout en termes de Chasse. <i>Courir le cerf, le lièvre, le daim. Il a droit de courir le cerf sur ses terres.</i> Voyez aussi COURRE. <p> Fig. et fam., <i>Courir le même lièvre</i> se dit de Deux personnes qui sont en concurrence pour la même chose. <p> Prov. et fig., <i>Il ne faut pas courir deux lièvres à la fois,</i> ou <i>Qui court deux lièvres n'en prend aucun,</i> Poursuivre deux affaires à la fois, c'est s'exposer à ne réussir ni dans l'une ni dans l'autre. <p> Fig. et fam., <i>Courir le cachet.</i> Voyez <renv>CACHET</renv>. <p> COURIR se dit figurément en parlant des Personnes ou des Choses qu'on recherche avec empressement, qui sont fort en vogue. On ne l'emploie guère qu'au participe passé. <i>Ce prédicateur est fort couru. Ce spectacle est très couru.</i> <p> Il signifie aussi figurément Être exposé à. <i>Courir un danger. Courir risque, courir le risque de,</i> Être en péril de. <i>Il court grand risque de perdre son bien.</i> <p> <i>Courir des chances, courir la chance de...,</i> S'exposer à un risque dans l'espoir d'un avantage. <p> <i>Courir même fortune,</i> Être dans les mêmes intérêts, dans la même situation d'affaires. <p> <i>Courir les aventures</i> se disait des Chevaliers qui allaient à la recherche des exploits guerriers. Il se dit aussi de Quelqu'un qui cherche à se faire un nom ou une fortune par des moyens qui ne sont pas les moyens ordinaires. <p> Il signifie encore Parcourir. <i>J'ai couru toute la ville sans le trouver. Courir les rues. Courir les champs.</i> <p> <i>Courir le pays,</i> Parcourir tel ou tel pays, en vue de le connaître à fond. <p> <i>Courir le monde,</i> Voyager en divers pays par goût d'aventure. <p> Fam., <i>Cette nouvelle, cette aventure, cette</i> <i>histoire court les rues,</i> Elle est sue de tout le monde. <i>L'esprit court les rues,</i> L'esprit est commun, tout le monde en a. <p> Fam., <i>Courir la prétantaine.</i> Voyez <renv>PRÉTANTAINE</renv>. <p> Pop., <i>Courir le guilledou.</i> Voyez <renv>GUILLEDOU</renv>. <p> Il signifie également Hanter, fréquenter <i>Courir les buts. Courir les spectacles, les concerts, les maisons de jeu, les mauvais lieux, etc.</i> "
      ],
      "text/plain": [
       "<IPython.core.display.HTML object>"
      ]
     },
     "metadata": {},
     "output_type": "display_data"
    }
   ],
   "source": [
    "acad_definition(\"courir\")"
   ]
  }
 ],
 "metadata": {
  "kernelspec": {
   "display_name": "Python 3",
   "language": "python",
   "name": "python3"
  },
  "language_info": {
   "codemirror_mode": {
    "name": "ipython",
    "version": 3
   },
   "file_extension": ".py",
   "mimetype": "text/x-python",
   "name": "python",
   "nbconvert_exporter": "python",
   "pygments_lexer": "ipython3",
   "version": "3.12.1"
  }
 },
 "nbformat": 4,
 "nbformat_minor": 2
}
