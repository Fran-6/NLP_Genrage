{
 "cells": [
  {
   "cell_type": "code",
   "execution_count": 2,
   "metadata": {},
   "outputs": [],
   "source": [
    "\n",
    "import urllib.request\n",
    "import pandas as pd\n"
   ]
  },
  {
   "cell_type": "code",
   "execution_count": null,
   "metadata": {},
   "outputs": [],
   "source": [
    "files = [\"A.txt\", \"ADV.txt\", \"F.txt\", \"N.txt\", \"V.txt\", \"gpl.txt\", \"lisez-moi.txt\"] \n"
   ]
  },
  {
   "cell_type": "raw",
   "metadata": {
    "vscode": {
     "languageId": "raw"
    }
   },
   "source": [
    "for f in  files:\n",
    "    url =\"https://huggingface.co/datasets/FrancophonIA/le-DM/resolve/main/tableaux-txt/\"+f\n",
    "    urllib.request.urlretrieve(url, f)\n",
    "\n",
    "    print(\"Download complete.\")\n",
    "\n",
    "# https://www.ortolang.fr/market/lexicons/le-dm\n"
   ]
  },
  {
   "cell_type": "raw",
   "metadata": {
    "vscode": {
     "languageId": "raw"
    }
   },
   "source": [
    "url = \"https://repository.ortolang.fr/api/content/le-dm/1/dm_documentation.pdf\"\n",
    "urllib.request.urlretrieve(url, \"dm_documentation.pdf\")\n",
    "\n",
    "print(\"Download complete.\")"
   ]
  },
  {
   "cell_type": "code",
   "execution_count": 15,
   "metadata": {},
   "outputs": [
    {
     "name": "stdout",
     "output_type": "stream",
     "text": [
      "A.txt  60477  lignes\n",
      "Forme\tLemme\tCat\tGenre\tNb\tPers\tTemps\tSpec\tFonc\tGvn/Dist/Aux\tGraph\tLang\tCmp\tFLX\tDRV\tUNAMB\tRef\tSem\tInfo/Accent\n",
      "quel\tquel\tA\tm\ts\t\t\tint\t\t\t\t\t\tS_DE\n",
      "quels\tquel\tA\tm\tp\t\t\tint\t\t\t\t\t\tS_DE\n",
      "quelle\tquel\tA\tf\ts\t\t\tint\t\t\t\t\t\tS_DE\n",
      "--------------------------------------------------\n",
      "ADV.txt  2707  lignes\n",
      "Forme\tLemme\tCat\tGenre\tNb\tPers\tTemps\tSpec\tFonc\tGvn/Dist/Aux\tGraph\tLang\tCmp\tFLX\tDRV\tUNAMB\tRef\tSem\tInfo/Accent\n",
      "premièrement\tpremier\tADV\t\t\t\t\tord\t\t\t\t\t\tERS_ERE\tEREMENT:NUL \t\t\t\tdadj\n",
      "deuxièmement\tdeuxième\tADV\t\t\t\t\tord\t\t\t\t\t\tS_0\tMENT:NUL \t\t\t\tdadj\n",
      "secondement\tsecond\tADV\t\t\t\t\tord\t\t\t\t\t\tS_E\tEMENT:NUL \t\t\t\tdadj\n",
      "--------------------------------------------------\n",
      "F.txt  2308  lignes\n",
      "Forme\tLemme\tCat\tGenre\tNb\tPers\tTemps\tSpec\tFonc\tGvn/Dist/Aux\tGraph\tLang\tCmp\tFLX\tDRV\tUNAMB\tRef\tSem\tInfo/Accent\n",
      "voici\tvoici\tPRES\n",
      "voilà\tvoilà\tPRES\n",
      "revoici\tvoici\tPRES\n",
      "--------------------------------------------------\n",
      "N.txt  94672  lignes\n",
      "Forme\tLemme\tCat\tGenre\tNb\tPers\tTemps\tSpec\tFonc\tGvn/Dist/Aux\tGraph\tLang\tCmp\tFLX\tDRV\tUNAMB\tRef\tSem\tInfo/Accent\n",
      "aout\taout\tN\t\t\t\t\tnpr\t\t\tRec\t\t\t\t\t\t\tMois\n",
      "août\taout\tN\t\t\t\t\tnpr\t\t\tOpt\t\t\t\t\t\t\tMois\n",
      "avril\tavril\tN\t\t\t\t\tnpr\t\t\t\t\t\t\t\t\t\tMois\n",
      "--------------------------------------------------\n",
      "V.txt  447257  lignes\n",
      "Forme\tLemme\tCat\tGenre\tNb\tPers\tTemps\tSpec\tFonc\tGvn/Dist/Aux\tGraph\tLang\tCmp\tFLX\tDRV\tUNAMB\tRef\tSem\tInfo/Accent\n",
      "abaisserai\tabaisser\tV\t\ts\t1\tF\t\t\ta\t\t\t\tAIMER\n",
      "abaisseras\tabaisser\tV\t\ts\t2\tF\t\t\ta\t\t\t\tAIMER\n",
      "abaissera\tabaisser\tV\t\ts\t3\tF\t\t\ta\t\t\t\tAIMER\n",
      "--------------------------------------------------\n"
     ]
    }
   ],
   "source": [
    "\n",
    "for f in files[:5]:\n",
    "    print(f, \" \", end=\"\")\n",
    "    with open(f) as fichier:\n",
    "        lines = sum(1 for n in fichier)\n",
    "        print(str(lines), \" lignes\")\n",
    "        \n",
    "        # Remettre le pointeur au début\n",
    "        fichier.seek(0)\n",
    "\n",
    "        for _ in range(4):\n",
    "            ligne = fichier.readline()\n",
    "            if not ligne:  # Arrête si la fin du fichier est atteinte\n",
    "                break\n",
    "            print(ligne.strip())\n",
    "    print('-'*50)"
   ]
  },
  {
   "cell_type": "markdown",
   "metadata": {},
   "source": [
    "#### importer N.txt dans un dataframe et faire une analyse"
   ]
  },
  {
   "cell_type": "code",
   "execution_count": 6,
   "metadata": {},
   "outputs": [
    {
     "name": "stdout",
     "output_type": "stream",
     "text": [
      "<class 'pandas.core.frame.DataFrame'>\n",
      "RangeIndex: 94671 entries, 0 to 94670\n",
      "Data columns (total 19 columns):\n",
      " #   Column        Non-Null Count  Dtype  \n",
      "---  ------        --------------  -----  \n",
      " 0   Forme         94671 non-null  object \n",
      " 1   Lemme         94671 non-null  object \n",
      " 2   Cat           94671 non-null  object \n",
      " 3   Genre         94353 non-null  object \n",
      " 4   Nb            94353 non-null  object \n",
      " 5   Pers          0 non-null      float64\n",
      " 6   Temps         0 non-null      float64\n",
      " 7   Spec          291 non-null    object \n",
      " 8   Fonc          0 non-null      float64\n",
      " 9   Gvn/Dist/Aux  0 non-null      float64\n",
      " 10  Graph         3792 non-null   object \n",
      " 11  Lang          837 non-null    object \n",
      " 12  Cmp           7893 non-null   object \n",
      " 13  FLX           94345 non-null  object \n",
      " 14  DRV           0 non-null      float64\n",
      " 15  UNAMB         8326 non-null   object \n",
      " 16  Ref           0 non-null      float64\n",
      " 17  Sem           317 non-null    object \n",
      " 18  Info/Accent   0 non-null      float64\n",
      "dtypes: float64(7), object(12)\n",
      "memory usage: 13.7+ MB\n"
     ]
    },
    {
     "name": "stderr",
     "output_type": "stream",
     "text": [
      "/tmp/ipykernel_10060/150847655.py:1: DtypeWarning: Columns (7,11,17) have mixed types. Specify dtype option on import or set low_memory=False.\n",
      "  df = pd.read_csv(\"N.txt\", sep=\"\\t\")\n"
     ]
    }
   ],
   "source": [
    "df = pd.read_csv(\"N.txt\", sep=\"\\t\")\n",
    "df.info()"
   ]
  },
  {
   "cell_type": "code",
   "execution_count": null,
   "metadata": {},
   "outputs": [],
   "source": []
  },
  {
   "cell_type": "code",
   "execution_count": 11,
   "metadata": {},
   "outputs": [
    {
     "data": {
      "text/plain": [
       "{'npr'}"
      ]
     },
     "execution_count": 11,
     "metadata": {},
     "output_type": "execute_result"
    }
   ],
   "source": [
    "Spec = set(df[\"Spec\"].dropna().unique())\n",
    "Spec\n",
    "# « noms propres », en fait des noms qui peuvent constituer un groupe nominal sujet sans déterminant, ex. madame, octobre"
   ]
  },
  {
   "cell_type": "raw",
   "metadata": {
    "vscode": {
     "languageId": "raw"
    }
   },
   "source": [
    "Variantes graphiques : attribut GraphA  partir  de  la  version  1.3,  le  DM  intègre  les  graphies  recommandées  par  le Rapport  sur  les  rectifications  de  l’orthographe française de 1990.  Pour permettre aux personnes intéressées par la modernisation de l’orthographe d’étudier l’usage des graphies recommandées dans les textes, les variantes graphiques relevant de cette réforme sont marquées par un attribut particulier : Graph, avec deux valeurs possibles : Rec (graphie recommandée) ou Opt (graphie ancienne)."
   ]
  },
  {
   "cell_type": "code",
   "execution_count": 16,
   "metadata": {},
   "outputs": [
    {
     "name": "stdout",
     "output_type": "stream",
     "text": [
      "{'en': 595, 'la': 120, 'it': 35, 'es': 12, 'tk': 10, 'ms': 9, 'zh': 9, 'de': 9, 'he': 6, 'bo': 4, 'vi': 4, 'ar': 4, 'br': 4, 'pt': 2, 'afa': 2, 'id': 2, 'ja': 2, 'oc': 2, 'bnt': 2, 'no': 2, 'hi': 1, 'sai': 1}\n",
      "['afa', 'ar', 'bnt', 'bo', 'br', 'de', 'en', 'es', 'he', 'hi', 'id', 'it', 'ja', 'la', 'ms', 'no', 'oc', 'pt', 'sai', 'tk', 'vi', 'zh']\n"
     ]
    }
   ],
   "source": [
    "Lang = sorted(set(df[\"Lang\"].dropna().unique()))\n",
    "lang_counts = df[\"Lang\"].value_counts().to_dict()\n",
    "print(lang_counts)\n",
    "print(Lang)"
   ]
  },
  {
   "cell_type": "code",
   "execution_count": 17,
   "metadata": {},
   "outputs": [
    {
     "name": "stdout",
     "output_type": "stream",
     "text": [
      "{'afa': 'Afro-Asiatic languages', 'ar': 'Arabic', 'bnt': 'Bantu languages', 'bo': 'Tibetan', 'br': 'Breton', 'de': 'German', 'en': 'English', 'es': 'Spanish', 'he': 'Hebrew', 'hi': 'Hindi', 'id': 'Indonesian', 'it': 'Italian', 'ja': 'Japanese', 'la': 'Latin', 'ms': 'Malay', 'no': 'Norwegian', 'oc': 'Occitan', 'pt': 'Portuguese', 'sai': 'South American Indian languages', 'tk': 'Turkmen', 'vi': 'Vietnamese', 'zh': 'Chinese'}\n"
     ]
    }
   ],
   "source": [
    "iso_639_langs = {\n",
    "    'afa': 'Afro-Asiatic languages',\n",
    "    'ar': 'Arabic',\n",
    "    'bnt': 'Bantu languages',\n",
    "    'bo': 'Tibetan',\n",
    "    'br': 'Breton',\n",
    "    'de': 'German',\n",
    "    'en': 'English',\n",
    "    'es': 'Spanish',\n",
    "    'he': 'Hebrew',\n",
    "    'hi': 'Hindi',\n",
    "    'id': 'Indonesian',\n",
    "    'it': 'Italian',\n",
    "    'ja': 'Japanese',\n",
    "    'la': 'Latin',\n",
    "    'ms': 'Malay',\n",
    "    'no': 'Norwegian',\n",
    "    'oc': 'Occitan',\n",
    "    'pt': 'Portuguese',\n",
    "    'sai': 'South American Indian languages',\n",
    "    'tk': 'Turkmen',\n",
    "    'vi': 'Vietnamese',\n",
    "    'zh': 'Chinese'\n",
    "}\n",
    "\n",
    "lang_origins = {code: iso_639_langs.get(code, 'Unknown') for code in Lang}\n",
    "print(lang_origins)"
   ]
  },
  {
   "cell_type": "code",
   "execution_count": 20,
   "metadata": {},
   "outputs": [
    {
     "name": "stdout",
     "output_type": "stream",
     "text": [
      "['ADV_A', 'ADV_N', 'ADV_PP', 'ADV_V', 'A_A', 'A_G', 'A_GP', 'A_N', 'A_PP', 'A_V', 'G_N', 'NUM', 'NUM_GP', 'NUM_N', 'NUM_NUM', 'N_A', 'N_ADV', 'N_G', 'N_GN', 'N_GP', 'N_N', 'N_PP', 'PFX_A', 'PFX_N', 'PFX_NUM', 'PFX_PRO', 'PFX_SFX', 'PFX_V', 'PH', 'PP_GP', 'PP_PP', 'P_GN', 'P_N', 'P_NUM', 'P_PRO', 'P_V', 'QREP', 'REP', 'TBD', 'V_A', 'V_ADV', 'V_GN', 'V_GP', 'V_N', 'V_NUM', 'V_PRO', 'V_V', 'dCMP']\n"
     ]
    }
   ],
   "source": [
    "Cmp = sorted(set(df[\"Cmp\"].dropna().unique()))\n",
    "print(Cmp)"
   ]
  }
 ],
 "metadata": {
  "kernelspec": {
   "display_name": "venv",
   "language": "python",
   "name": "python3"
  },
  "language_info": {
   "codemirror_mode": {
    "name": "ipython",
    "version": 3
   },
   "file_extension": ".py",
   "mimetype": "text/x-python",
   "name": "python",
   "nbconvert_exporter": "python",
   "pygments_lexer": "ipython3",
   "version": "3.11.2"
  }
 },
 "nbformat": 4,
 "nbformat_minor": 2
}
