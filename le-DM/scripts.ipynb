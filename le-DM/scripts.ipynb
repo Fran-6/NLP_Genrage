{
 "cells": [
  {
   "cell_type": "markdown",
   "metadata": {},
   "source": [
    "## Construire une table des noms communs étiqutée en genre et en nombre à partir du dictionnaire DM"
   ]
  },
  {
   "cell_type": "code",
   "execution_count": 21,
   "metadata": {},
   "outputs": [],
   "source": [
    "from IPython.display import display, HTML\n",
    "import urllib.request\n",
    "import pandas as pd\n"
   ]
  },
  {
   "cell_type": "code",
   "execution_count": null,
   "metadata": {},
   "outputs": [],
   "source": [
    "files = [\"A.txt\", \"ADV.txt\", \"F.txt\", \"N.txt\", \"V.txt\", \"gpl.txt\", \"lisez-moi.txt\"] \n"
   ]
  },
  {
   "cell_type": "raw",
   "metadata": {
    "vscode": {
     "languageId": "raw"
    }
   },
   "source": [
    "for f in  files:\n",
    "    url =\"https://huggingface.co/datasets/FrancophonIA/le-DM/resolve/main/tableaux-txt/\"+f\n",
    "    urllib.request.urlretrieve(url, f)\n",
    "\n",
    "    print(\"Download complete.\")\n",
    "\n",
    "# https://www.ortolang.fr/market/lexicons/le-dm\n"
   ]
  },
  {
   "cell_type": "raw",
   "metadata": {
    "vscode": {
     "languageId": "raw"
    }
   },
   "source": [
    "url = \"https://repository.ortolang.fr/api/content/le-dm/1/dm_documentation.pdf\"\n",
    "urllib.request.urlretrieve(url, \"dm_documentation.pdf\")\n",
    "\n",
    "url = \"https://repository.ortolang.fr/api/content/le-dm/1/ftrouilleux_Le_DM_a_French_Dictionary_for_NooJ.pdf\"\n",
    "urllib.request.urlretrieve(url, \"ftrouilleux_Le_DM_a_French_Dictionary_for_NooJ.pdf\")\n",
    "\n",
    "\n",
    "print(\"Download complete.\")"
   ]
  },
  {
   "cell_type": "code",
   "execution_count": 15,
   "metadata": {},
   "outputs": [
    {
     "name": "stdout",
     "output_type": "stream",
     "text": [
      "A.txt  60477  lignes\n",
      "Forme\tLemme\tCat\tGenre\tNb\tPers\tTemps\tSpec\tFonc\tGvn/Dist/Aux\tGraph\tLang\tCmp\tFLX\tDRV\tUNAMB\tRef\tSem\tInfo/Accent\n",
      "quel\tquel\tA\tm\ts\t\t\tint\t\t\t\t\t\tS_DE\n",
      "quels\tquel\tA\tm\tp\t\t\tint\t\t\t\t\t\tS_DE\n",
      "quelle\tquel\tA\tf\ts\t\t\tint\t\t\t\t\t\tS_DE\n",
      "--------------------------------------------------\n",
      "ADV.txt  2707  lignes\n",
      "Forme\tLemme\tCat\tGenre\tNb\tPers\tTemps\tSpec\tFonc\tGvn/Dist/Aux\tGraph\tLang\tCmp\tFLX\tDRV\tUNAMB\tRef\tSem\tInfo/Accent\n",
      "premièrement\tpremier\tADV\t\t\t\t\tord\t\t\t\t\t\tERS_ERE\tEREMENT:NUL \t\t\t\tdadj\n",
      "deuxièmement\tdeuxième\tADV\t\t\t\t\tord\t\t\t\t\t\tS_0\tMENT:NUL \t\t\t\tdadj\n",
      "secondement\tsecond\tADV\t\t\t\t\tord\t\t\t\t\t\tS_E\tEMENT:NUL \t\t\t\tdadj\n",
      "--------------------------------------------------\n",
      "F.txt  2308  lignes\n",
      "Forme\tLemme\tCat\tGenre\tNb\tPers\tTemps\tSpec\tFonc\tGvn/Dist/Aux\tGraph\tLang\tCmp\tFLX\tDRV\tUNAMB\tRef\tSem\tInfo/Accent\n",
      "voici\tvoici\tPRES\n",
      "voilà\tvoilà\tPRES\n",
      "revoici\tvoici\tPRES\n",
      "--------------------------------------------------\n",
      "N.txt  94672  lignes\n",
      "Forme\tLemme\tCat\tGenre\tNb\tPers\tTemps\tSpec\tFonc\tGvn/Dist/Aux\tGraph\tLang\tCmp\tFLX\tDRV\tUNAMB\tRef\tSem\tInfo/Accent\n",
      "aout\taout\tN\t\t\t\t\tnpr\t\t\tRec\t\t\t\t\t\t\tMois\n",
      "août\taout\tN\t\t\t\t\tnpr\t\t\tOpt\t\t\t\t\t\t\tMois\n",
      "avril\tavril\tN\t\t\t\t\tnpr\t\t\t\t\t\t\t\t\t\tMois\n",
      "--------------------------------------------------\n",
      "V.txt  447257  lignes\n",
      "Forme\tLemme\tCat\tGenre\tNb\tPers\tTemps\tSpec\tFonc\tGvn/Dist/Aux\tGraph\tLang\tCmp\tFLX\tDRV\tUNAMB\tRef\tSem\tInfo/Accent\n",
      "abaisserai\tabaisser\tV\t\ts\t1\tF\t\t\ta\t\t\t\tAIMER\n",
      "abaisseras\tabaisser\tV\t\ts\t2\tF\t\t\ta\t\t\t\tAIMER\n",
      "abaissera\tabaisser\tV\t\ts\t3\tF\t\t\ta\t\t\t\tAIMER\n",
      "--------------------------------------------------\n"
     ]
    }
   ],
   "source": [
    "\n",
    "for f in files[:5]:\n",
    "    print(f, \" \", end=\"\")\n",
    "    with open(f) as fichier:\n",
    "        lines = sum(1 for n in fichier)\n",
    "        print(str(lines), \" lignes\")\n",
    "        \n",
    "        # Remettre le pointeur au début\n",
    "        fichier.seek(0)\n",
    "\n",
    "        for _ in range(4):\n",
    "            ligne = fichier.readline()\n",
    "            if not ligne:  # Arrête si la fin du fichier est atteinte\n",
    "                break\n",
    "            print(ligne.strip())\n",
    "    print('-'*50)"
   ]
  },
  {
   "cell_type": "markdown",
   "metadata": {},
   "source": [
    "#### importer N.txt dans un dataframe et faire une analyse"
   ]
  },
  {
   "cell_type": "code",
   "execution_count": 12,
   "metadata": {},
   "outputs": [
    {
     "name": "stdout",
     "output_type": "stream",
     "text": [
      "<class 'pandas.core.frame.DataFrame'>\n",
      "RangeIndex: 94671 entries, 0 to 94670\n",
      "Data columns (total 19 columns):\n",
      " #   Column        Non-Null Count  Dtype  \n",
      "---  ------        --------------  -----  \n",
      " 0   Forme         94671 non-null  object \n",
      " 1   Lemme         94671 non-null  object \n",
      " 2   Cat           94671 non-null  object \n",
      " 3   Genre         94353 non-null  object \n",
      " 4   Nb            94353 non-null  object \n",
      " 5   Pers          0 non-null      float64\n",
      " 6   Temps         0 non-null      float64\n",
      " 7   Spec          291 non-null    object \n",
      " 8   Fonc          0 non-null      float64\n",
      " 9   Gvn/Dist/Aux  0 non-null      float64\n",
      " 10  Graph         3792 non-null   object \n",
      " 11  Lang          837 non-null    object \n",
      " 12  Cmp           7893 non-null   object \n",
      " 13  FLX           94345 non-null  object \n",
      " 14  DRV           0 non-null      float64\n",
      " 15  UNAMB         8326 non-null   object \n",
      " 16  Ref           0 non-null      float64\n",
      " 17  Sem           317 non-null    object \n",
      " 18  Info/Accent   0 non-null      float64\n",
      "dtypes: float64(7), object(12)\n",
      "memory usage: 13.7+ MB\n"
     ]
    },
    {
     "name": "stderr",
     "output_type": "stream",
     "text": [
      "/tmp/ipykernel_3510/150847655.py:1: DtypeWarning: Columns (7,11,17) have mixed types. Specify dtype option on import or set low_memory=False.\n",
      "  df = pd.read_csv(\"N.txt\", sep=\"\\t\")\n"
     ]
    }
   ],
   "source": [
    "df = pd.read_csv(\"N.txt\", sep=\"\\t\")\n",
    "df.info()"
   ]
  },
  {
   "cell_type": "code",
   "execution_count": 13,
   "metadata": {},
   "outputs": [
    {
     "name": "stdout",
     "output_type": "stream",
     "text": [
      "<class 'pandas.core.frame.DataFrame'>\n",
      "RangeIndex: 94671 entries, 0 to 94670\n",
      "Data columns (total 12 columns):\n",
      " #   Column  Non-Null Count  Dtype \n",
      "---  ------  --------------  ----- \n",
      " 0   Forme   94671 non-null  object\n",
      " 1   Lemme   94671 non-null  object\n",
      " 2   Cat     94671 non-null  object\n",
      " 3   Genre   94353 non-null  object\n",
      " 4   Nb      94353 non-null  object\n",
      " 5   Spec    291 non-null    object\n",
      " 6   Graph   3792 non-null   object\n",
      " 7   Lang    837 non-null    object\n",
      " 8   Cmp     7893 non-null   object\n",
      " 9   FLX     94345 non-null  object\n",
      " 10  UNAMB   8326 non-null   object\n",
      " 11  Sem     317 non-null    object\n",
      "dtypes: object(12)\n",
      "memory usage: 8.7+ MB\n"
     ]
    }
   ],
   "source": [
    "# Supprimer les colonnes entièrement vides\n",
    "df.dropna(axis=1, how='all', inplace=True)\n",
    "df.info()"
   ]
  },
  {
   "cell_type": "code",
   "execution_count": 5,
   "metadata": {},
   "outputs": [
    {
     "name": "stdout",
     "output_type": "stream",
     "text": [
      "{'npr'}\n"
     ]
    },
    {
     "data": {
      "text/html": [
       "<div style=\"width: 1000px; white-space: pre-wrap;\">['aout', 'août', 'avril', 'décembre', 'février', 'janvier', 'juillet', 'juin', 'mai', 'mars', 'novembre', 'octobre', 'septembre', 'M.', 'madame', 'mademoiselle', 'maman', 'MM.', 'Mme', 'monsieur', 'papa', 'A.', 'B.', 'C.', 'Ch.', 'D.', 'E.', 'F.', 'G.', 'H.', 'I.', 'J.', 'K.', 'L.', 'M.', 'N.', 'O.', 'P.', 'Ph.', 'Q.', 'R.', 'S.', 'T.', 'Th.', 'U.', 'V.', 'W.', 'X.', 'Y.', 'Z.', 'Égypte', 'Émirats arabes unis', 'Équateur', 'Érythrée', 'États-Unis d’Amérique', \"États-Unis d'Amérique\", 'États-Unis', 'Éthiopie', 'Îles Marshall', 'Afghanistan', 'Afrique du Nord', 'Afrique du Sud', 'Afrique sub-saharienne', 'Afrique', 'Albanie', 'Algérie', 'Allemagne', 'Amérique centrale', 'Amérique du Nord', 'Amérique du Sud', 'Amérique latine', 'Amérique', 'Andorre', 'Angleterre', 'Angola', 'Antigua-et-Barbuda', 'Antilles', 'Arabie saoudite', 'Arabie', 'Argentine', 'Arménie', 'Asie', 'Australie', 'Autriche', 'Azerbaïdjan', 'Bénin', 'Bahamas', 'Bahreïn', 'Bangladesh', 'Barbade', 'Belarus', 'Belau', 'Belgique', 'Belize', 'Bhoutan', 'Biélorussie', 'Birmanie', 'Bolivie', 'Bosnie-Herzégovine', 'Bosnie-et-Herzégovine', 'Botswana', 'Brésil', 'Brunei', 'Bulgarie', 'Burkina Faso', 'Burkina', 'Burundi', 'Côte d’Ivoire', \"Côte d'Ivoire\", 'Cambodge', 'Cameroun', 'Canada', 'Cap-Vert', 'Centrafrique', 'Ceylan', 'Chili', 'Chine', 'Chypre', 'Colombie', 'Comores', 'Congo belge', 'Congo', 'Congo-Kinshasa', 'Corée du Nord', 'Corée du Sud', 'Costa Rica', 'Croatie', 'Cuba', 'Danemark', 'Djibouti', 'Dominique', 'Espagne', 'Estonie', 'Eurasie', 'Europe', 'Fidji', 'Finlande', 'France', 'Géorgie', 'Gabon', 'Gambie', 'Ghana', 'Grèce', 'Grenade', 'Guatemala', 'Guinée équatoriale', 'Guinée espagnole', 'Guinée portugaise', 'Guinée', 'Guinée-Bissao', 'Guinée-Bissau', 'Guyana', 'Guyane britannique', 'Guyane hollandaise', 'Haïti', 'Hollande', 'Honduras britannique', 'Honduras', 'Hongrie', 'Inde', 'Indonésie', 'Irak', 'Iran', 'Iraq', 'Irlande', 'Islande', 'Israël', 'Italie', 'Jamaïque', 'Japon', 'Jordanie', 'Kazakhstan', 'Kenya', 'Kirghizistan', 'Kiribati', 'Koweït', 'Laos', 'Lesotho', 'Lettonie', 'Liban', 'Liberia', 'Libye', 'Liechtenstein', 'Lituanie', 'Luxembourg', 'Mélanésie', 'Macédoine', 'Madagascar', 'Maghreb', 'Malaisie', 'Malawi', 'Maldives', 'Mali', 'Malte', 'Maroc', 'Mauritanie', 'Mexique', 'Micronésie', 'Moldavie', 'Monaco', 'Mongolie', 'Mongolie-Extérieure', 'Monténégro', 'Moyen-Orient', 'Mozambique', 'Népal', 'Namibie', 'Nauru', 'Nicaragua', 'Niger', 'Nigeria', 'Norvège', 'Nouvelle-Zélande', 'Océanie', 'Oman', 'Ouganda', 'Ouzbékistan', 'Pérou', 'Pakistan', 'Palaos', 'Palau', 'Panama', 'Paraguay', 'Pays-Bas', 'Philippines', 'Pologne', 'Polynésie', 'Portugal', 'Proche-Orient', 'Qatar', 'République centrafricaine', 'République démocratique du Congo', 'République dominicaine', 'République du Congo', 'République tchèque', 'Roumanie', 'Royaume-Uni de Grande-Bretagne et d’Irlande du Nord', \"Royaume-Uni de Grande-Bretagne et d'Irlande du Nord\", 'Royaume-Uni', 'Russie', 'Rwanda', 'Sénégal', 'Salvador', 'Samoa occidentales', 'Sao Tomé-et-Principe', 'Serbie', 'Seychelles', 'Sierra-Leone', 'Singapour', 'Slovénie', 'Slovaquie', 'Somalie', 'Soudan', 'Sri Lanka', 'Suède', 'Suisse', 'Suriname', 'Swaziland', 'Syrie', 'Tadjikistan', 'Tanzanie', 'Tchécoslovaquie', 'Tchad', 'Thaïlande', 'Tibet', 'Timor-Est', 'Timor-Oriental', 'Togo', 'Tonga', 'Trinité-et-Tobago', 'Tunisie', 'Turkménistan', 'Turquie', 'Tuvalu', 'U.R.S.S', 'URSS', 'US', 'USA', 'Ukraine', 'Union des républiques socialistes soviétiques', 'Union soviétique', 'Uruguay', 'Vanuatu', 'Vatican', 'Venezuela', 'Viêt Nam', 'Yémen', 'Yougoslavie', 'Zaïre', 'Zambie', 'Zimbabwe']</div>"
      ],
      "text/plain": [
       "<IPython.core.display.HTML object>"
      ]
     },
     "metadata": {},
     "output_type": "display_data"
    }
   ],
   "source": [
    "# que contient la colonne \"Spec\" ?\n",
    "Spec = set(df[\"Spec\"].dropna())\n",
    "print(Spec)\n",
    "# Print the output in wrap mode in a wider column\n",
    "output = df[df[\"Spec\"].notna()].Forme.to_list()\n",
    "display(HTML('<div style=\"width: 1000px; white-space: pre-wrap;\">{}</div>'.format(output)))\n",
    "# « noms propres », en fait des noms qui peuvent constituer un groupe nominal sujet sans déterminant, ex. madame, octobre"
   ]
  },
  {
   "cell_type": "code",
   "execution_count": 6,
   "metadata": {},
   "outputs": [
    {
     "name": "stdout",
     "output_type": "stream",
     "text": [
      "Empty DataFrame\n",
      "Columns: [Forme, Lemme, Cat, Genre, Nb, Spec, Graph, Lang, Cmp, FLX, UNAMB, Sem]\n",
      "Index: []\n"
     ]
    }
   ],
   "source": [
    "# aucun genre n'est renseigné pour les noms propres\n",
    "print(df[df['Genre'].notna() & df['Spec'].notna()])"
   ]
  },
  {
   "cell_type": "code",
   "execution_count": 8,
   "metadata": {},
   "outputs": [
    {
     "name": "stdout",
     "output_type": "stream",
     "text": [
      "Empty DataFrame\n",
      "Columns: [Forme, Lemme, Cat, Genre, Nb, Spec, Graph, Lang, Cmp, FLX, UNAMB, Sem]\n",
      "Index: []\n"
     ]
    }
   ],
   "source": [
    "# recherche des mots avec sémantique (Sem = \"Region\", \"Initiale\"...) avec genre\n",
    "print(df[df['Genre'].notna() & df['Sem'].notna()])"
   ]
  },
  {
   "cell_type": "code",
   "execution_count": 14,
   "metadata": {},
   "outputs": [
    {
     "name": "stdout",
     "output_type": "stream",
     "text": [
      "<class 'pandas.core.frame.DataFrame'>\n",
      "Index: 94354 entries, 76 to 94670\n",
      "Data columns (total 8 columns):\n",
      " #   Column  Non-Null Count  Dtype \n",
      "---  ------  --------------  ----- \n",
      " 0   Forme   94354 non-null  object\n",
      " 1   Lemme   94354 non-null  object\n",
      " 2   Genre   94353 non-null  object\n",
      " 3   Nb      94353 non-null  object\n",
      " 4   Graph   3790 non-null   object\n",
      " 5   Lang    837 non-null    object\n",
      " 6   Cmp     7893 non-null   object\n",
      " 7   UNAMB   8326 non-null   object\n",
      "dtypes: object(8)\n",
      "memory usage: 6.5+ MB\n"
     ]
    }
   ],
   "source": [
    "# supprimer les lignes avant de supprimer les colonnes !!!\n",
    "df.drop(df[df['Sem'].notna()].index, inplace=True)\n",
    "df.drop(df[df['Spec'].notna()].index, inplace=True)\n",
    "\n",
    "# supprimer colonnes Sem, Cat=N et Spec\n",
    "# et aussi FLX sans intérêt après examen\n",
    "\n",
    "df.drop(columns=['Sem','Spec', 'Cat', 'FLX'], inplace=True)\n",
    "df.info()"
   ]
  },
  {
   "cell_type": "code",
   "execution_count": 16,
   "metadata": {},
   "outputs": [
    {
     "name": "stdout",
     "output_type": "stream",
     "text": [
      "{'en': 595, 'la': 120, 'it': 35, 'es': 12, 'tk': 10, 'ms': 9, 'zh': 9, 'de': 9, 'he': 6, 'bo': 4, 'vi': 4, 'ar': 4, 'br': 4, 'pt': 2, 'afa': 2, 'id': 2, 'ja': 2, 'oc': 2, 'bnt': 2, 'no': 2, 'hi': 1, 'sai': 1}\n",
      "['afa', 'ar', 'bnt', 'bo', 'br', 'de', 'en', 'es', 'he', 'hi', 'id', 'it', 'ja', 'la', 'ms', 'no', 'oc', 'pt', 'sai', 'tk', 'vi', 'zh']\n"
     ]
    }
   ],
   "source": [
    "# que contient la colonne \"Lang\" ?\n",
    "Lang = sorted(set(df[\"Lang\"].dropna().unique()))\n",
    "lang_counts = df[\"Lang\"].value_counts().to_dict()\n",
    "print(lang_counts)\n",
    "print(Lang)\n",
    "# 'en': 'English',\n",
    "# 'es': 'Spanish',\n",
    "# 'it': 'Italian',\n",
    "# 'la': 'Latin',"
   ]
  },
  {
   "cell_type": "code",
   "execution_count": 17,
   "metadata": {},
   "outputs": [
    {
     "name": "stdout",
     "output_type": "stream",
     "text": [
      "                   Forme Lang\n",
      "89264        cosy=corner   en\n",
      "90803            jet=set   en\n",
      "93736       star=systems   en\n",
      "91721           ossobuco   it\n",
      "93939         teen_agers   en\n",
      "89984        forte=piano   it\n",
      "88861         cargo=boat   en\n",
      "91758           pale=ale   en\n",
      "93923            te=deum   la\n",
      "93196        rock’n’roll   en\n",
      "89567        deo=gratias   la\n",
      "91146           mah=jong   zh\n",
      "94629           week_end   en\n",
      "88663         break=down   en\n",
      "91923       pater=noster   la\n",
      "88266       bar=mitsvahs   he\n",
      "93814       sweat=shirts   en\n",
      "93719  sparring=partners   en\n",
      "90831           juke_box   en\n",
      "94446          twin=sets   en\n"
     ]
    }
   ],
   "source": [
    "print(df[df[\"Lang\"].notna()][[\"Forme\", \"Lang\"]].sample(n=20))"
   ]
  },
  {
   "cell_type": "code",
   "execution_count": 18,
   "metadata": {},
   "outputs": [
    {
     "name": "stdout",
     "output_type": "stream",
     "text": [
      "nombre de schémas de composition:  48\n",
      "['ADV_A', 'ADV_N', 'ADV_PP', 'ADV_V', 'A_A', 'A_G', 'A_GP', 'A_N', 'A_PP', 'A_V', 'G_N', 'NUM', 'NUM_GP', 'NUM_N', 'NUM_NUM', 'N_A', 'N_ADV', 'N_G', 'N_GN', 'N_GP', 'N_N', 'N_PP', 'PFX_A', 'PFX_N', 'PFX_NUM', 'PFX_PRO', 'PFX_SFX', 'PFX_V', 'PH', 'PP_GP', 'PP_PP', 'P_GN', 'P_N', 'P_NUM', 'P_PRO', 'P_V', 'QREP', 'REP', 'TBD', 'V_A', 'V_ADV', 'V_GN', 'V_GP', 'V_N', 'V_NUM', 'V_PRO', 'V_V', 'dCMP']\n"
     ]
    }
   ],
   "source": [
    "# que contient la colonne \"Cmp\" ?\n",
    "# Les  noms,  verbes  et  adjectifs  composés  proprement  français  ont  un  attribut  Cmp  dont  la  valeur  indique  le  schéma  de \n",
    "# composition. Le tableau 4 donne les fréquences des schémas dont le code est obtenu par croisement des entêtes de ligne et de \n",
    "# colonnes.  Ainsi,  par  exemple,  800  lemmes  sont  construits  sur  un  schéma  préfixe-nom  (code  PFX_N).  A  ces  47  codes \n",
    "# s’ajoutent 6 autres codes, décrits dans le tableau 5. \n",
    "Cmp = sorted(set(df[\"Cmp\"].dropna().unique()))\n",
    "print(\"nombre de schémas de composition: \", len(Cmp))\n",
    "print(Cmp)"
   ]
  },
  {
   "cell_type": "code",
   "execution_count": null,
   "metadata": {},
   "outputs": [
    {
     "name": "stdout",
     "output_type": "stream",
     "text": [
      "Forme chars:\n"
     ]
    },
    {
     "data": {
      "text/html": [
       "<div style=\"width: 1000px; white-space: pre-wrap;\">[' ', \"'\", '-', '.', '4', '8', '=', '_', 'a', 'b', 'c', 'd', 'e', 'f', 'g', 'h', 'i', 'j', 'k', 'l', 'm', 'n', 'o', 'p', 'q', 'r', 's', 't', 'u', 'v', 'w', 'x', 'y', 'z', '°', 'à', 'â', 'æ', 'ç', 'è', 'é', 'ê', 'ë', 'î', 'ï', 'ñ', 'ô', 'ö', 'û', 'ü', 'œ', '’']</div>"
      ],
      "text/plain": [
       "<IPython.core.display.HTML object>"
      ]
     },
     "metadata": {},
     "output_type": "display_data"
    },
    {
     "name": "stdout",
     "output_type": "stream",
     "text": [
      "Lemme chars:\n"
     ]
    },
    {
     "data": {
      "text/html": [
       "<div style=\"width: 1000px; white-space: pre-wrap;\">[' ', \"'\", '-', '.', '1', '2', '3', '4', '8', '=', 'A', 'D', 'F', 'M', 'N', 'P', 'R', '_', 'a', 'b', 'c', 'd', 'e', 'f', 'g', 'h', 'i', 'j', 'k', 'l', 'm', 'n', 'o', 'p', 'q', 'r', 's', 't', 'u', 'v', 'w', 'x', 'y', 'z', 'à', 'â', 'æ', 'ç', 'è', 'é', 'ê', 'ë', 'î', 'ï', 'ñ', 'ô', 'û', 'ü', 'œ']</div>"
      ],
      "text/plain": [
       "<IPython.core.display.HTML object>"
      ]
     },
     "metadata": {},
     "output_type": "display_data"
    },
    {
     "name": "stdout",
     "output_type": "stream",
     "text": [
      "list of chars identical:  False\n"
     ]
    }
   ],
   "source": [
    "# créer ds listes de caractères utilisés dans Forme et Lemme\n",
    "# Concatenate all words in the 'Forme' column into a single string\n",
    "forme_words = ''.join(df['Forme'].dropna())\n",
    "# Create a set of unique characters\n",
    "forme_chars = sorted(set(forme_words)) # transformé en liste triée\n",
    "# Concatenate all words in the 'Forme' column into a single string\n",
    "lemme_words = ''.join(df['Lemme'].dropna())\n",
    "# Create a set of unique characters\n",
    "lemme_chars = sorted(set(lemme_words)) # transformé en liste triée\n",
    "\n",
    "print(\"Forme chars:\")\n",
    "display(HTML('<div style=\"width: 1000px; white-space: pre-wrap;\">{}</div>'.format(forme_chars)))\n",
    "print(\"Lemme chars:\")\n",
    "display(HTML('<div style=\"width: 1000px; white-space: pre-wrap;\">{}</div>'.format(lemme_chars)))\n",
    "print(\"list of chars identical: \",form_chars==lemme_chars)"
   ]
  },
  {
   "cell_type": "code",
   "execution_count": 35,
   "metadata": {},
   "outputs": [
    {
     "name": "stdout",
     "output_type": "stream",
     "text": [
      "[' ', \"'\", '-', '.', '4', '8', '=', '_', '°', 'à', 'â', 'æ', 'ç', 'è', 'é', 'ê', 'ë', 'î', 'ï', 'ñ', 'ô', 'ö', 'û', 'ü', 'œ', '’']\n",
      "[' ', \"'\", '-', '.', '1', '2', '3', '4', '8', '=', 'A', 'D', 'F', 'M', 'N', 'P', 'R', '_', 'à', 'â', 'æ', 'ç', 'è', 'é', 'ê', 'ë', 'î', 'ï', 'ñ', 'ô', 'û', 'ü', 'œ']\n",
      "['°', 'ö', '’']\n",
      "['1', '2', '3', 'A', 'D', 'F', 'M', 'N', 'P', 'R']\n",
      "[' ', \"'\", '-', '.', '1', '2', '3', '4', '8', '=', 'A', 'D', 'F', 'M', 'N', 'P', 'R', '_', 'a', 'b', 'c', 'd', 'e', 'f', 'g', 'h', 'i', 'j', 'k', 'l', 'm', 'n', 'o', 'p', 'q', 'r', 's', 't', 'u', 'v', 'w', 'x', 'y', 'z', '°', 'à', 'â', 'æ', 'ç', 'è', 'é', 'ê', 'ë', 'î', 'ï', 'ñ', 'ô', 'ö', 'û', 'ü', 'œ', '’']\n",
      "[' ', \"'\", '-', '.', '1', '2', '3', '4', '8', '=', 'A', 'D', 'F', 'M', 'N', 'P', 'R', '_', '°', 'à', 'â', 'æ', 'ç', 'è', 'é', 'ê', 'ë', 'î', 'ï', 'ñ', 'ô', 'ö', 'û', 'ü', 'œ', '’']\n"
     ]
    }
   ],
   "source": [
    "s_f = set(forme_chars)\n",
    "s_l = set(lemme_chars)\n",
    "s_az = set([chr(i) for i in range(ord('a'), ord('z')+1)])\n",
    "s_AZ = set([chr(i) for i in range(ord('A'), ord('Z')+1)])\n",
    "\n",
    "print(sorted(s_f - s_az))\n",
    "print(sorted(s_l - s_az))\n",
    "\n",
    "print(sorted(s_f - s_l))\n",
    "print(sorted(s_l - s_f))\n",
    "print(sorted(s_l | s_f))\n",
    "print(sorted((s_l | s_f) - s_az))"
   ]
  }
 ],
 "metadata": {
  "kernelspec": {
   "display_name": "venv",
   "language": "python",
   "name": "python3"
  },
  "language_info": {
   "codemirror_mode": {
    "name": "ipython",
    "version": 3
   },
   "file_extension": ".py",
   "mimetype": "text/x-python",
   "name": "python",
   "nbconvert_exporter": "python",
   "pygments_lexer": "ipython3",
   "version": "3.11.2"
  }
 },
 "nbformat": 4,
 "nbformat_minor": 2
}
